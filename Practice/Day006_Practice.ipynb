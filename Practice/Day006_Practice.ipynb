{
 "cells": [
  {
   "cell_type": "code",
   "execution_count": 18,
   "metadata": {},
   "outputs": [],
   "source": [
    "import jieba"
   ]
  },
  {
   "cell_type": "code",
   "execution_count": 19,
   "metadata": {},
   "outputs": [],
   "source": [
    "jieba.set_dictionary('dict.txt.big.txt')"
   ]
  },
  {
   "cell_type": "markdown",
   "metadata": {},
   "source": [
    "### 詞性標注 (Part-of-Speech(PoS) Tagging)\n",
    "* **pseg.cut(str)**"
   ]
  },
  {
   "cell_type": "code",
   "execution_count": 21,
   "metadata": {},
   "outputs": [
    {
     "name": "stdout",
     "output_type": "stream",
     "text": [
      "[('小明', 'nr'), ('碩士', 'n'), ('畢業', 'n'), ('於', 'nr'), ('國立', 'b'), ('臺灣大學', 'nt'), ('，', 'x'), ('現在', 't'), ('在', 'p'), ('日本東京大學', 'nt'), ('進修', 'v'), ('深造', 'v')]\n"
     ]
    }
   ],
   "source": [
    "import jieba.posseg as pseg\n",
    "\n",
    "input_str = \"小明碩士畢業於國立臺灣大學，現在在日本東京大學進修深造\"\n",
    "cutted_words = pseg.cut(input_str)\n",
    "words = [(word, flag) for (word, flag) in cutted_words]\n",
    "print(words)"
   ]
  },
  {
   "cell_type": "markdown",
   "metadata": {},
   "source": [
    "### 取出斷詞位置\n",
    "*  **jieba.tokenize(str)**"
   ]
  },
  {
   "cell_type": "code",
   "execution_count": 22,
   "metadata": {},
   "outputs": [
    {
     "name": "stdout",
     "output_type": "stream",
     "text": [
      "word:小明, start:0, end:2\n",
      "word:碩士, start:2, end:4\n",
      "word:畢業, start:4, end:6\n",
      "word:於, start:6, end:7\n",
      "word:國立, start:7, end:9\n",
      "word:臺灣大學, start:9, end:13\n",
      "word:，, start:13, end:14\n",
      "word:現在, start:14, end:16\n",
      "word:在, start:16, end:17\n",
      "word:日本東京大學, start:17, end:23\n",
      "word:進修, start:23, end:25\n",
      "word:深造, start:25, end:27\n"
     ]
    }
   ],
   "source": [
    "input_str = u'小明碩士畢業於國立臺灣大學，現在在日本東京大學進修深造' #在此將字串轉為unicode\n",
    "words = jieba.tokenize(input_str)\n",
    "for tk in words:\n",
    "    print(f'word:{tk[0]}, start:{tk[1]}, end:{tk[2]}')"
   ]
  }
 ],
 "metadata": {
  "kernelspec": {
   "display_name": "Python 3",
   "language": "python",
   "name": "python3"
  },
  "language_info": {
   "codemirror_mode": {
    "name": "ipython",
    "version": 3
   },
   "file_extension": ".py",
   "mimetype": "text/x-python",
   "name": "python",
   "nbconvert_exporter": "python",
   "pygments_lexer": "ipython3",
   "version": "3.8.3"
  }
 },
 "nbformat": 4,
 "nbformat_minor": 4
}
