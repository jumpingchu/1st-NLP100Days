{
 "cells": [
  {
   "cell_type": "code",
   "execution_count": 2,
   "metadata": {},
   "outputs": [],
   "source": [
    "import re"
   ]
  },
  {
   "cell_type": "markdown",
   "metadata": {},
   "source": [
    "---\n",
    "## 1) re.compile() 建立模式物件 Patttern Object"
   ]
  },
  {
   "cell_type": "code",
   "execution_count": 66,
   "metadata": {},
   "outputs": [
    {
     "name": "stdout",
     "output_type": "stream",
     "text": [
      "SaveTheWorld@hotmail.com\n"
     ]
    }
   ],
   "source": [
    "txt = \"SaveTheWorld@hotmail.com \\n foobar@gmail.com\"\n",
    "\n",
    "#建立模式對象\n",
    "pattern_obj = re.compile(pattern=r\"(.*)@(?!gmail)\\w+\\.com\")\n",
    "\n",
    "#進行配對(請注意這裡是使用pattern.search配對)\n",
    "x1 = pattern_obj.search(txt) #先別擔心re.research的作用(後續會說明)\n",
    "print(x1.group())"
   ]
  },
  {
   "cell_type": "markdown",
   "metadata": {},
   "source": [
    "---\n",
    "## 2) re.search() 僅配對第一個出現的，找到即停止 (返回 string)"
   ]
  },
  {
   "cell_type": "code",
   "execution_count": 31,
   "metadata": {},
   "outputs": [
    {
     "name": "stdout",
     "output_type": "stream",
     "text": [
      "返回的資料型態： <class 're.Match'>\n",
      "返回的物件： <re.Match object; span=(0, 24), match='SaveTheWorld@hotmail.com'>\n",
      "配對起點: 0; 配對終點: 24\n",
      "配對文字: SaveTheWorld@hotmail.com\n"
     ]
    }
   ],
   "source": [
    "txt = \"SaveTheWorld@hotmail.com \\n foobar@gmail.com \\n zzzGroup@yahoo.com\"\n",
    "pattern = r\".*@(?!gmail)\\w+\\.com\"\n",
    "\n",
    "match = re.search(pattern, txt)\n",
    "print('返回的資料型態：', type(match))\n",
    "print('返回的物件：', match)\n",
    "\n",
    "print(f'配對起點: {match.start()}; 配對終點: {match.end()}') #使用.start(), .end()返回配對的起點與終點\n",
    "\n",
    "print(f'配對文字: {match.group()}') #使用.group() or .group(0)返回配對的字串\n",
    "\n",
    "#可以由返回的結果發現, re.search()只返回第一個配對的對象, 最後一個 email address 也符合配對但沒有返回"
   ]
  },
  {
   "cell_type": "code",
   "execution_count": 8,
   "metadata": {},
   "outputs": [
    {
     "name": "stdout",
     "output_type": "stream",
     "text": [
      "None\n"
     ]
    }
   ],
   "source": [
    "#若無可滿足配對, re.search 會返回 None\n",
    "txt = \"foobar@gmail.com\" #這裡只保留不滿足配對的email\n",
    "pattern = r\".*@(?!gmail)\\w+\\.com\" \n",
    "match = re.search(pattern, txt)\n",
    "print(match)"
   ]
  },
  {
   "cell_type": "markdown",
   "metadata": {},
   "source": [
    "---\n",
    "## 3) re.match() 僅配對開頭 (返回 string)"
   ]
  },
  {
   "cell_type": "code",
   "execution_count": 30,
   "metadata": {},
   "outputs": [
    {
     "name": "stdout",
     "output_type": "stream",
     "text": [
      "返回的資料型態： <class 're.Match'>\n",
      "返回的物件： <re.Match object; span=(0, 24), match='SaveTheWorld@hotmail.com'>\n",
      "配對起點: 0; 配對終點: 24\n",
      "配對文字: SaveTheWorld@hotmail.com\n"
     ]
    }
   ],
   "source": [
    "txt = \"SaveTheWorld@hotmail.com \\n foobar@gmail.com \\n zzzGroup@yahoo.com\" \n",
    "pattern = r\".*@(?!gmail)\\w+\\.com\"\n",
    "\n",
    "match = re.match(pattern, txt)\n",
    "print('返回的資料型態：', type(match))\n",
    "print('返回的物件：', match)\n",
    "\n",
    "print(f'配對起點: {match.start()}; 配對終點: {match.end()}') #使用.start(), .end()返回配對的起點與終點\n",
    "\n",
    "print(f'配對文字: {match.group()}') #使用.group() or .group(0)返回配對的字串\n",
    "\n",
    "#發現第一個開頭配對成功後返回 Match 物件實例"
   ]
  },
  {
   "cell_type": "code",
   "execution_count": 19,
   "metadata": {},
   "outputs": [
    {
     "name": "stdout",
     "output_type": "stream",
     "text": [
      "None\n",
      "<re.Match object; span=(18, 43), match=' SaveTheWorld@hotmail.com'>\n"
     ]
    }
   ],
   "source": [
    "#若開頭無法配對成功，即返回 None\n",
    "txt = \"foobar@gmail.com \\n SaveTheWorld@hotmail.com \\n zzzGroup@yahoo.com\" #將不符合配對的 email 移到字串開頭\n",
    "pattern = r\".*@(?!gmail)\\w+\\.com\" \n",
    "\n",
    "match = re.match(pattern, txt)\n",
    "print(match)\n",
    "\n",
    "#與 search 比較\n",
    "search = re.search(pattern, txt)\n",
    "print(search)"
   ]
  },
  {
   "cell_type": "markdown",
   "metadata": {},
   "source": [
    "---\n",
    "## 4) re.findall() 找出所有配對 (返回 list 物件)"
   ]
  },
  {
   "cell_type": "code",
   "execution_count": 28,
   "metadata": {},
   "outputs": [
    {
     "name": "stdout",
     "output_type": "stream",
     "text": [
      "返回的資料型態： <class 'list'>\n",
      "返回的物件： ['SaveTheWorld@hotmail.com', ' zzzGroup@yahoo.com']\n"
     ]
    }
   ],
   "source": [
    "txt = \"SaveTheWorld@hotmail.com \\n foobar@gmail.com \\n zzzGroup@yahoo.com\"\n",
    "pattern = r\".*@(?!gmail)\\w+\\.com\" #這裡使用原始字串作為配對\n",
    "\n",
    "match = re.findall(pattern, txt)\n",
    "print('返回的資料型態：', type(match)) #list 物件\n",
    "print('返回的物件：', match)"
   ]
  },
  {
   "cell_type": "code",
   "execution_count": 34,
   "metadata": {},
   "outputs": [
    {
     "name": "stdout",
     "output_type": "stream",
     "text": [
      "返回的資料型態： <class 'list'>\n",
      "返回的物件： [('SaveTheWorld', 'hotmail'), (' zzzGroup', 'yahoo')]\n"
     ]
    }
   ],
   "source": [
    "pattern = r\"(.*)@(?!gmail)(\\w+)\\.com\" #將.* 改為 group的形式(.*), 且 \\w+ 改為 (\\w+)\n",
    "\n",
    "match = re.findall(pattern, txt)\n",
    "print('返回的資料型態：', type(match))\n",
    "print('返回的物件：', match)"
   ]
  },
  {
   "cell_type": "markdown",
   "metadata": {},
   "source": [
    "---\n",
    "## 5) re.finditer() 找出所有配對字串 (返回 iterator)"
   ]
  },
  {
   "cell_type": "code",
   "execution_count": 35,
   "metadata": {},
   "outputs": [
    {
     "name": "stdout",
     "output_type": "stream",
     "text": [
      "返回的資料型態： <class 'callable_iterator'>\n",
      "返回的物件： <callable_iterator object at 0x1051fabb0>\n"
     ]
    }
   ],
   "source": [
    "txt = \"SaveTheWorld@hotmail.com \\n foobar@gmail.com \\n zzzGroup@yahoo.com\"\n",
    "pattern = r\".*@(?!gmail)\\w+\\.com\" #這裡使用原始字串作為配對\n",
    "\n",
    "match = re.finditer(pattern, txt)\n",
    "print('返回的資料型態：', type(match)) #list 物件\n",
    "print('返回的物件：', match)"
   ]
  },
  {
   "cell_type": "code",
   "execution_count": 37,
   "metadata": {},
   "outputs": [
    {
     "name": "stdout",
     "output_type": "stream",
     "text": [
      "<re.Match object; span=(0, 24), match='SaveTheWorld@hotmail.com'>\n",
      "配對起點: 0, 配對終點: <built-in method end of re.Match object at 0x1052120a0>\n",
      "\n",
      "\n",
      "<re.Match object; span=(45, 64), match=' zzzGroup@yahoo.com'>\n",
      "配對起點: 45, 配對終點: <built-in method end of re.Match object at 0x105212110>\n",
      "\n",
      "\n"
     ]
    }
   ],
   "source": [
    "for ma in match:\n",
    "    print(ma)\n",
    "    print(f'配對起點: {ma.start()}, 配對終點: {ma.end}')\n",
    "    print('\\n')"
   ]
  },
  {
   "cell_type": "markdown",
   "metadata": {},
   "source": [
    "---\n",
    "## 6) re.sub(pat, repl, target_str, count=0, flag=0) \n",
    "* target_str 中配對到 pat 即替換成 repl"
   ]
  },
  {
   "cell_type": "code",
   "execution_count": 43,
   "metadata": {},
   "outputs": [
    {
     "name": "stdout",
     "output_type": "stream",
     "text": [
      "SaveTheWorld@hotmail.com \n",
      "foobar@gmail.com \n",
      "zzzGroup@yahoo.com\n"
     ]
    }
   ],
   "source": [
    "txt = \"SaveTheWorld@hotmail.com \\nfoobar@gmail.com \\nzzzGroup@yahoo.com\" \n",
    "pattern = r\".*@(?!gmail)\\w+\\.com\" #這裡使用原始字串作為配對\n",
    "print(txt)"
   ]
  },
  {
   "cell_type": "code",
   "execution_count": 46,
   "metadata": {},
   "outputs": [
    {
     "name": "stdout",
     "output_type": "stream",
     "text": [
      "REPLACE \n",
      "foobar@gmail.com \n",
      "REPLACE\n"
     ]
    }
   ],
   "source": [
    "match = re.sub(pattern, 'REPLACE', txt, count=0)\n",
    "print(match)"
   ]
  },
  {
   "cell_type": "code",
   "execution_count": 47,
   "metadata": {},
   "outputs": [
    {
     "name": "stdout",
     "output_type": "stream",
     "text": [
      "REPLACE \n",
      "foobar@gmail.com \n",
      "zzzGroup@yahoo.com\n"
     ]
    }
   ],
   "source": [
    "match = re.sub(pattern, 'REPLACE', txt, count=1)\n",
    "print(match)"
   ]
  },
  {
   "cell_type": "markdown",
   "metadata": {},
   "source": [
    "### 6-1) re.subn() 同上，但會返回替換次數 (返回一個 tuple)"
   ]
  },
  {
   "cell_type": "code",
   "execution_count": 57,
   "metadata": {},
   "outputs": [
    {
     "name": "stdout",
     "output_type": "stream",
     "text": [
      "<class 'tuple'>\n",
      "('REPLACE \\nfoobar@gmail.com \\nREPLACE', 2)\n"
     ]
    }
   ],
   "source": [
    "match = re.subn(pattern, 'REPLACE', txt, count=0)\n",
    "print(type(match))\n",
    "print(match)"
   ]
  },
  {
   "cell_type": "code",
   "execution_count": 58,
   "metadata": {},
   "outputs": [
    {
     "name": "stdout",
     "output_type": "stream",
     "text": [
      "<class 'tuple'>\n",
      "('REPLACE \\nfoobar@gmail.com \\nzzzGroup@yahoo.com', 1)\n"
     ]
    }
   ],
   "source": [
    "match = re.subn(pattern, 'REPLACE', txt, count=1)\n",
    "print(type(match))\n",
    "print(match)"
   ]
  },
  {
   "cell_type": "markdown",
   "metadata": {},
   "source": [
    "---\n",
    "## 7) re.split() 從配對的字串分割 (返回 list)"
   ]
  },
  {
   "cell_type": "code",
   "execution_count": 65,
   "metadata": {},
   "outputs": [],
   "source": [
    "txt = \"SaveTheWorld@hotmail.com \\n foobar@gmail.com \\n zzzGroup@yahoo.com\" \n",
    "pattern = r\"\\n\" #這裡改為配對換行符號"
   ]
  },
  {
   "cell_type": "code",
   "execution_count": 62,
   "metadata": {},
   "outputs": [
    {
     "name": "stdout",
     "output_type": "stream",
     "text": [
      "3\n",
      "['SaveTheWorld@hotmail.com ', ' foobar@gmail.com ', ' zzzGroup@yahoo.com']\n"
     ]
    }
   ],
   "source": [
    "match = re.split(pattern, txt)\n",
    "print(len(match))\n",
    "print(match)"
   ]
  },
  {
   "cell_type": "code",
   "execution_count": 64,
   "metadata": {},
   "outputs": [
    {
     "name": "stdout",
     "output_type": "stream",
     "text": [
      "2\n",
      "['SaveTheWorld@hotmail.com ', ' foobar@gmail.com \\n zzzGroup@yahoo.com']\n"
     ]
    }
   ],
   "source": [
    "match = re.split(pattern, txt, maxsplit=1) # maxsplit=分割組數\n",
    "print(len(match))\n",
    "print(match)"
   ]
  },
  {
   "cell_type": "markdown",
   "metadata": {},
   "source": [
    "---\n",
    "## flag 參數 (調整配對模式)"
   ]
  },
  {
   "cell_type": "markdown",
   "metadata": {},
   "source": [
    "* re.I (re.IGNORECASE): 忽略大小寫模式\n",
    "* re.M (re.MULTILINE): 多行模式\n",
    "* re.S (re.DOTALL): 讓`.`可以匹配所有的字元 (原本`.`無法匹配換行字元)"
   ]
  },
  {
   "cell_type": "markdown",
   "metadata": {},
   "source": [
    "---\n",
    "## flag=re.I (忽略大小寫配對模式)"
   ]
  },
  {
   "cell_type": "code",
   "execution_count": 82,
   "metadata": {},
   "outputs": [],
   "source": [
    "txt = \"Leo123 \\nkevin456 \\n\"\n",
    "pattern = r\"[a-z]+\" #配對所有小寫a-z字符 "
   ]
  },
  {
   "cell_type": "code",
   "execution_count": 83,
   "metadata": {},
   "outputs": [
    {
     "name": "stdout",
     "output_type": "stream",
     "text": [
      "['eo', 'kevin']\n"
     ]
    }
   ],
   "source": [
    "match = re.findall(pattern, txt) #使用預設的一般配對模式\n",
    "print(match)"
   ]
  },
  {
   "cell_type": "code",
   "execution_count": 84,
   "metadata": {},
   "outputs": [
    {
     "name": "stdout",
     "output_type": "stream",
     "text": [
      "['Leo', 'kevin']\n"
     ]
    }
   ],
   "source": [
    "match = re.findall(pattern, txt, flags=re.I)\n",
    "print(match)"
   ]
  },
  {
   "cell_type": "markdown",
   "metadata": {},
   "source": [
    "---\n",
    "## flag=re.M (多行配對模式)"
   ]
  },
  {
   "cell_type": "code",
   "execution_count": 85,
   "metadata": {},
   "outputs": [],
   "source": [
    "txt = \"Leo123 \\nkevin456 \\n\"\n",
    "pattern = r\"^[a-zA-Z]+\""
   ]
  },
  {
   "cell_type": "code",
   "execution_count": 86,
   "metadata": {},
   "outputs": [
    {
     "name": "stdout",
     "output_type": "stream",
     "text": [
      "['Leo']\n"
     ]
    }
   ],
   "source": [
    "match2 = re.findall(pattern, txt) #在\\n換行符號後會視為新的字串來配對\n",
    "print(match2)"
   ]
  },
  {
   "cell_type": "code",
   "execution_count": 87,
   "metadata": {},
   "outputs": [
    {
     "name": "stdout",
     "output_type": "stream",
     "text": [
      "['Leo', 'kevin']\n"
     ]
    }
   ],
   "source": [
    "match2 = re.findall(pattern, txt, flags=re.M) #使用多行配對模式 \n",
    "print(match2)"
   ]
  },
  {
   "cell_type": "markdown",
   "metadata": {},
   "source": [
    "---\n",
    "## flag=re.S (DOTALL配對模式)"
   ]
  },
  {
   "cell_type": "code",
   "execution_count": 88,
   "metadata": {},
   "outputs": [],
   "source": [
    "txt = \"Leo123 \\nkevin456 \\n\"\n",
    "pattern = r\".+\" "
   ]
  },
  {
   "cell_type": "code",
   "execution_count": 89,
   "metadata": {},
   "outputs": [
    {
     "name": "stdout",
     "output_type": "stream",
     "text": [
      "['Leo123 ', 'kevin456 ']\n"
     ]
    }
   ],
   "source": [
    "match = re.findall(pattern, txt)\n",
    "print(match)"
   ]
  },
  {
   "cell_type": "code",
   "execution_count": 90,
   "metadata": {},
   "outputs": [
    {
     "name": "stdout",
     "output_type": "stream",
     "text": [
      "['Leo123 \\nkevin456 \\n']\n"
     ]
    }
   ],
   "source": [
    "match = re.findall(pattern, txt, flags=re.S) #使用 DOTALL 配對模式\n",
    "print(match)"
   ]
  },
  {
   "cell_type": "markdown",
   "metadata": {},
   "source": [
    "---\n",
    "## 併用不同配對模式： flag=re.I|re.M"
   ]
  },
  {
   "cell_type": "code",
   "execution_count": 91,
   "metadata": {},
   "outputs": [
    {
     "name": "stdout",
     "output_type": "stream",
     "text": [
      "<class 'list'>\n",
      "[]\n"
     ]
    }
   ],
   "source": [
    "txt = \"Leo123 \\nkevin456 \\n\"\n",
    "pattern = r\"^[a-z]+\" #配對所有開頭是a-z\n",
    "\n",
    "match = re.findall(pattern, txt)\n",
    "print(match)"
   ]
  },
  {
   "cell_type": "code",
   "execution_count": 96,
   "metadata": {},
   "outputs": [
    {
     "name": "stdout",
     "output_type": "stream",
     "text": [
      "['Leo']\n",
      "['kevin']\n"
     ]
    }
   ],
   "source": [
    "txt = \"Leo123 \\nkevin456 \\n\"\n",
    "pattern = r\"^[a-z]+\" #配對所有開頭是小寫 a-z\n",
    "\n",
    "match_I = re.findall(pattern, txt, flags=re.I) #抓出大寫，但少了 \\n 的狀況\n",
    "print(match_I)\n",
    "\n",
    "match_M = re.findall(pattern, txt, flags=re.M) #抓出 \\n 的狀況，但抓不到大寫\n",
    "print(match_M)"
   ]
  },
  {
   "cell_type": "code",
   "execution_count": 97,
   "metadata": {},
   "outputs": [
    {
     "name": "stdout",
     "output_type": "stream",
     "text": [
      "['Leo', 'kevin']\n"
     ]
    }
   ],
   "source": [
    "match = re.findall(pattern, txt, flags=re.M|re.I) #抓出所有狀況\n",
    "print(match)"
   ]
  },
  {
   "cell_type": "markdown",
   "metadata": {},
   "source": [
    "---\n",
    "## 語法對照"
   ]
  },
  {
   "cell_type": "markdown",
   "metadata": {},
   "source": [
    "![re](re_functions.png)"
   ]
  }
 ],
 "metadata": {
  "kernelspec": {
   "display_name": "Python 3",
   "language": "python",
   "name": "python3"
  },
  "language_info": {
   "codemirror_mode": {
    "name": "ipython",
    "version": 3
   },
   "file_extension": ".py",
   "mimetype": "text/x-python",
   "name": "python",
   "nbconvert_exporter": "python",
   "pygments_lexer": "ipython3",
   "version": "3.9.0"
  }
 },
 "nbformat": 4,
 "nbformat_minor": 4
}
