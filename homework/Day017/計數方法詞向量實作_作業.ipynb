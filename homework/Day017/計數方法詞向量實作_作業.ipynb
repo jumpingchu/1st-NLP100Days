{
 "cells": [
  {
   "cell_type": "markdown",
   "metadata": {},
   "source": [
    "## 載入所需的 Libraries"
   ]
  },
  {
   "cell_type": "code",
   "execution_count": 1,
   "metadata": {},
   "outputs": [],
   "source": [
    "import re\n",
    "import pandas as pd\n",
    "import numpy as np\n",
    "import matplotlib.pyplot as plt\n",
    "from sklearn.model_selection import train_test_split\n",
    "from sklearn.feature_extraction.text import TfidfVectorizer\n",
    "from sklearn.decomposition import TruncatedSVD\n",
    "from typing import List"
   ]
  },
  {
   "cell_type": "markdown",
   "metadata": {},
   "source": [
    "---\n",
    "## 載入資料"
   ]
  },
  {
   "cell_type": "code",
   "execution_count": 11,
   "metadata": {},
   "outputs": [
    {
     "data": {
      "text/html": [
       "<div>\n",
       "<style scoped>\n",
       "    .dataframe tbody tr th:only-of-type {\n",
       "        vertical-align: middle;\n",
       "    }\n",
       "\n",
       "    .dataframe tbody tr th {\n",
       "        vertical-align: top;\n",
       "    }\n",
       "\n",
       "    .dataframe thead th {\n",
       "        text-align: right;\n",
       "    }\n",
       "</style>\n",
       "<table border=\"1\" class=\"dataframe\">\n",
       "  <thead>\n",
       "    <tr style=\"text-align: right;\">\n",
       "      <th></th>\n",
       "      <th>v1</th>\n",
       "      <th>v2</th>\n",
       "    </tr>\n",
       "  </thead>\n",
       "  <tbody>\n",
       "    <tr>\n",
       "      <th>0</th>\n",
       "      <td>ham</td>\n",
       "      <td>Go until jurong point, crazy.. Available only ...</td>\n",
       "    </tr>\n",
       "    <tr>\n",
       "      <th>1</th>\n",
       "      <td>ham</td>\n",
       "      <td>Ok lar... Joking wif u oni...</td>\n",
       "    </tr>\n",
       "    <tr>\n",
       "      <th>2</th>\n",
       "      <td>spam</td>\n",
       "      <td>Free entry in 2 a wkly comp to win FA Cup fina...</td>\n",
       "    </tr>\n",
       "    <tr>\n",
       "      <th>3</th>\n",
       "      <td>ham</td>\n",
       "      <td>U dun say so early hor... U c already then say...</td>\n",
       "    </tr>\n",
       "    <tr>\n",
       "      <th>4</th>\n",
       "      <td>ham</td>\n",
       "      <td>Nah I don't think he goes to usf, he lives aro...</td>\n",
       "    </tr>\n",
       "  </tbody>\n",
       "</table>\n",
       "</div>"
      ],
      "text/plain": [
       "     v1                                                 v2\n",
       "0   ham  Go until jurong point, crazy.. Available only ...\n",
       "1   ham                      Ok lar... Joking wif u oni...\n",
       "2  spam  Free entry in 2 a wkly comp to win FA Cup fina...\n",
       "3   ham  U dun say so early hor... U c already then say...\n",
       "4   ham  Nah I don't think he goes to usf, he lives aro..."
      ]
     },
     "execution_count": 11,
     "metadata": {},
     "output_type": "execute_result"
    }
   ],
   "source": [
    "# read data from spam.csv\n",
    "sms_data = pd.read_csv('spam.csv', encoding='latin-1') # UTF-8 無法處理檔案文字\n",
    "sms_data = sms_data.loc[:, ['v1', 'v2']] # 清掉後面的 NaN\n",
    "sms_data.head()"
   ]
  },
  {
   "cell_type": "code",
   "execution_count": 13,
   "metadata": {},
   "outputs": [
    {
     "data": {
      "text/html": [
       "<div>\n",
       "<style scoped>\n",
       "    .dataframe tbody tr th:only-of-type {\n",
       "        vertical-align: middle;\n",
       "    }\n",
       "\n",
       "    .dataframe tbody tr th {\n",
       "        vertical-align: top;\n",
       "    }\n",
       "\n",
       "    .dataframe thead th {\n",
       "        text-align: right;\n",
       "    }\n",
       "</style>\n",
       "<table border=\"1\" class=\"dataframe\">\n",
       "  <thead>\n",
       "    <tr style=\"text-align: right;\">\n",
       "      <th></th>\n",
       "      <th>v2</th>\n",
       "    </tr>\n",
       "    <tr>\n",
       "      <th>v1</th>\n",
       "      <th></th>\n",
       "    </tr>\n",
       "  </thead>\n",
       "  <tbody>\n",
       "    <tr>\n",
       "      <th>ham</th>\n",
       "      <td>4825</td>\n",
       "    </tr>\n",
       "    <tr>\n",
       "      <th>spam</th>\n",
       "      <td>747</td>\n",
       "    </tr>\n",
       "  </tbody>\n",
       "</table>\n",
       "</div>"
      ],
      "text/plain": [
       "        v2\n",
       "v1        \n",
       "ham   4825\n",
       "spam   747"
      ]
     },
     "execution_count": 13,
     "metadata": {},
     "output_type": "execute_result"
    }
   ],
   "source": [
    "# check how many spams and hams\n",
    "sms_data.groupby('v1').count()"
   ]
  },
  {
   "cell_type": "code",
   "execution_count": 3,
   "metadata": {},
   "outputs": [
    {
     "data": {
      "text/html": [
       "<div>\n",
       "<style scoped>\n",
       "    .dataframe tbody tr th:only-of-type {\n",
       "        vertical-align: middle;\n",
       "    }\n",
       "\n",
       "    .dataframe tbody tr th {\n",
       "        vertical-align: top;\n",
       "    }\n",
       "\n",
       "    .dataframe thead th {\n",
       "        text-align: right;\n",
       "    }\n",
       "</style>\n",
       "<table border=\"1\" class=\"dataframe\">\n",
       "  <thead>\n",
       "    <tr style=\"text-align: right;\">\n",
       "      <th></th>\n",
       "      <th>content</th>\n",
       "    </tr>\n",
       "    <tr>\n",
       "      <th>label</th>\n",
       "      <th></th>\n",
       "    </tr>\n",
       "  </thead>\n",
       "  <tbody>\n",
       "    <tr>\n",
       "      <th>ham</th>\n",
       "      <td>4825</td>\n",
       "    </tr>\n",
       "    <tr>\n",
       "      <th>spam</th>\n",
       "      <td>747</td>\n",
       "    </tr>\n",
       "  </tbody>\n",
       "</table>\n",
       "</div>"
      ],
      "text/plain": [
       "       content\n",
       "label         \n",
       "ham       4825\n",
       "spam       747"
      ]
     },
     "execution_count": 3,
     "metadata": {},
     "output_type": "execute_result"
    }
   ],
   "source": [
    "# Answer"
   ]
  },
  {
   "cell_type": "code",
   "execution_count": 28,
   "metadata": {},
   "outputs": [
    {
     "data": {
      "text/html": [
       "<div>\n",
       "<style scoped>\n",
       "    .dataframe tbody tr th:only-of-type {\n",
       "        vertical-align: middle;\n",
       "    }\n",
       "\n",
       "    .dataframe tbody tr th {\n",
       "        vertical-align: top;\n",
       "    }\n",
       "\n",
       "    .dataframe thead th {\n",
       "        text-align: right;\n",
       "    }\n",
       "</style>\n",
       "<table border=\"1\" class=\"dataframe\">\n",
       "  <thead>\n",
       "    <tr style=\"text-align: right;\">\n",
       "      <th></th>\n",
       "      <th>v1</th>\n",
       "      <th>v2</th>\n",
       "    </tr>\n",
       "  </thead>\n",
       "  <tbody>\n",
       "    <tr>\n",
       "      <th>0</th>\n",
       "      <td>0</td>\n",
       "      <td>Go until jurong point, crazy.. Available only ...</td>\n",
       "    </tr>\n",
       "    <tr>\n",
       "      <th>1</th>\n",
       "      <td>0</td>\n",
       "      <td>Ok lar... Joking wif u oni...</td>\n",
       "    </tr>\n",
       "    <tr>\n",
       "      <th>2</th>\n",
       "      <td>1</td>\n",
       "      <td>Free entry in 2 a wkly comp to win FA Cup fina...</td>\n",
       "    </tr>\n",
       "    <tr>\n",
       "      <th>3</th>\n",
       "      <td>0</td>\n",
       "      <td>U dun say so early hor... U c already then say...</td>\n",
       "    </tr>\n",
       "    <tr>\n",
       "      <th>4</th>\n",
       "      <td>0</td>\n",
       "      <td>Nah I don't think he goes to usf, he lives aro...</td>\n",
       "    </tr>\n",
       "  </tbody>\n",
       "</table>\n",
       "</div>"
      ],
      "text/plain": [
       "   v1                                                 v2\n",
       "0   0  Go until jurong point, crazy.. Available only ...\n",
       "1   0                      Ok lar... Joking wif u oni...\n",
       "2   1  Free entry in 2 a wkly comp to win FA Cup fina...\n",
       "3   0  U dun say so early hor... U c already then say...\n",
       "4   0  Nah I don't think he goes to usf, he lives aro..."
      ]
     },
     "execution_count": 28,
     "metadata": {},
     "output_type": "execute_result"
    }
   ],
   "source": [
    "# change label to from string to number\n",
    "# \"ham\" --> 0, \"spam\" --> 1\n",
    "\n",
    "sms_data['v1'] = sms_data['v1'].apply(lambda x: 0 if x=='ham' else 1)\n",
    "sms_data.head()"
   ]
  },
  {
   "cell_type": "markdown",
   "metadata": {},
   "source": [
    "---\n",
    "## 切分資料\n",
    "* 將資料依據 label 比例切分為 training 與 testing data"
   ]
  },
  {
   "cell_type": "code",
   "execution_count": 135,
   "metadata": {},
   "outputs": [],
   "source": [
    "ham = sms_data[sms_data.loc[:, 'v1'] == 0]\n",
    "ham = ham.reset_index(drop=True)\n",
    "ham_train = ham.loc[:len(ham)*0.8, :]\n",
    "ham_test = ham.loc[len(ham)*0.8:, :]\n",
    "\n",
    "spam = sms_data[sms_data.loc[:, 'v1'] == 1]\n",
    "spam = spam.reset_index(drop=True)\n",
    "spam_train = spam.loc[:len(spam)*0.8, :]\n",
    "spam_test = spam.loc[len(spam)*0.8:, :]"
   ]
  },
  {
   "cell_type": "code",
   "execution_count": 136,
   "metadata": {},
   "outputs": [
    {
     "data": {
      "text/plain": [
       "(0.8002072538860103, 0.2)"
      ]
     },
     "execution_count": 136,
     "metadata": {},
     "output_type": "execute_result"
    }
   ],
   "source": [
    "len(ham_train)/len(ham), len(ham_test)/len(ham)"
   ]
  },
  {
   "cell_type": "code",
   "execution_count": 137,
   "metadata": {},
   "outputs": [
    {
     "data": {
      "text/plain": [
       "(0.8005354752342704, 0.1994645247657296)"
      ]
     },
     "execution_count": 137,
     "metadata": {},
     "output_type": "execute_result"
    }
   ],
   "source": [
    "len(spam_train)/len(spam), len(spam_test)/len(spam)"
   ]
  },
  {
   "cell_type": "code",
   "execution_count": 138,
   "metadata": {},
   "outputs": [],
   "source": [
    "sms_train = ham_train.append(spam_train)\n",
    "sms_test = ham_test.append(spam_test)"
   ]
  },
  {
   "cell_type": "code",
   "execution_count": 139,
   "metadata": {},
   "outputs": [
    {
     "name": "stdout",
     "output_type": "stream",
     "text": [
      "      v2\n",
      "v1      \n",
      "0   3861\n",
      "1    598\n",
      "     v2\n",
      "v1     \n",
      "0   965\n",
      "1   149\n"
     ]
    }
   ],
   "source": [
    "print(sms_train.groupby(\"v1\").count())\n",
    "print(sms_test.groupby(\"v1\").count())"
   ]
  },
  {
   "cell_type": "markdown",
   "metadata": {},
   "source": [
    "###### 2021-01-16\n",
    "\n"
   ]
  },
  {
   "cell_type": "markdown",
   "metadata": {},
   "source": [
    "---\n",
    "## 資料預處理\n",
    "* 將所有字詞轉為小寫\n",
    "* 移除所有數字、標點符號"
   ]
  },
  {
   "cell_type": "code",
   "execution_count": 6,
   "metadata": {
    "scrolled": true
   },
   "outputs": [
    {
     "name": "stderr",
     "output_type": "stream",
     "text": [
      "/Users/admin/Documents/cupoy/cupoy_env/lib/python3.7/site-packages/pandas/core/indexing.py:671: SettingWithCopyWarning: \n",
      "A value is trying to be set on a copy of a slice from a DataFrame\n",
      "\n",
      "See the caveats in the documentation: https://pandas.pydata.org/pandas-docs/stable/user_guide/indexing.html#returning-a-view-versus-a-copy\n",
      "  self._setitem_with_indexer(indexer, value)\n",
      "/Users/admin/Documents/cupoy/cupoy_env/lib/python3.7/site-packages/ipykernel_launcher.py:9: SettingWithCopyWarning: \n",
      "A value is trying to be set on a copy of a slice from a DataFrame\n",
      "\n",
      "See the caveats in the documentation: https://pandas.pydata.org/pandas-docs/stable/user_guide/indexing.html#returning-a-view-versus-a-copy\n",
      "  if __name__ == '__main__':\n"
     ]
    },
    {
     "name": "stdout",
     "output_type": "stream",
     "text": [
      "Train:\n",
      "  label                                            content\n",
      "0     0  mmmmm it was sooooo good to wake to your words...\n",
      "1     0                    how much did ur hdd casing cost\n",
      "2     0  total disappointment when i texted you was the...\n",
      "3     0  wen ur lovable bcums angry wid u dnt take it s...\n",
      "4     0                    i will spoil you in bed as well\n",
      "Test:\n",
      "  label                                            content\n",
      "0     0  i sent you the prices and do you mean the lt gt g\n",
      "1     0   havent still waitin as usual come back sch oredi\n",
      "2     0               why tired what special there you had\n",
      "3     0  my painful personal thought i always try to ke...\n",
      "4     0                            hurry home soup is done\n"
     ]
    }
   ],
   "source": [
    "def preprocess(df: pd.DataFrame) -> pd.DataFrame:\n",
    "    \n",
    "    for i in range(len(df)):\n",
    "        # make all content to lowercase\n",
    "        ###<your code>###\n",
    "\n",
    "        # remove all punctuations\n",
    "        ###<your code>###\n",
    "    \n",
    "    return df\n",
    "\n",
    "processed_train = preprocess(sms_train)\n",
    "processed_test = preprocess(sms_test)\n",
    "\n",
    "print(\"Train:\")\n",
    "print(processed_train.head())\n",
    "print(\"Test:\")\n",
    "print(processed_test.head())"
   ]
  },
  {
   "cell_type": "code",
   "execution_count": 7,
   "metadata": {},
   "outputs": [
    {
     "data": {
      "text/plain": [
       "7708"
      ]
     },
     "execution_count": 7,
     "metadata": {},
     "output_type": "execute_result"
    }
   ],
   "source": [
    "# split data into x_train, y_train, x_test, y_test\n",
    "y_train, x_train = zip(*processed_train.values)\n",
    "y_test, x_test = zip(*processed_test.values)\n",
    "\n",
    "# check numbers of unique word in the corpus\n",
    "len(set(\" \".join(list(x_train + x_test)).split()))"
   ]
  },
  {
   "cell_type": "markdown",
   "metadata": {},
   "source": [
    "### TF-IDF\n",
    "可以發現種共有7708個字詞，這裡使用TF-IDF將來選取最高分的前2000個字詞\n",
    "(若忘記的學員可參考先前TF-IDF課程章節或[此篇教學](https://ithelp.ithome.com.tw/articles/10228815?sc=iThelpR))"
   ]
  },
  {
   "cell_type": "code",
   "execution_count": 8,
   "metadata": {},
   "outputs": [
    {
     "name": "stdout",
     "output_type": "stream",
     "text": [
      "Number of unique word: 2000\n"
     ]
    },
    {
     "data": {
      "text/plain": [
       "(<4457x2000 sparse matrix of type '<class 'numpy.float64'>'\n",
       " \twith 50791 stored elements in Compressed Sparse Row format>,\n",
       " <1115x2000 sparse matrix of type '<class 'numpy.float64'>'\n",
       " \twith 12689 stored elements in Compressed Sparse Row format>)"
      ]
     },
     "execution_count": 8,
     "metadata": {},
     "output_type": "execute_result"
    }
   ],
   "source": [
    "###<your code>###\n",
    "\n",
    "print(f\"Number of unique word: {len(vectorizer.vocabulary_)}\")\n",
    "(tfidf_train, tfidf_test)"
   ]
  },
  {
   "cell_type": "markdown",
   "metadata": {},
   "source": [
    "### 建立共現矩陣"
   ]
  },
  {
   "cell_type": "code",
   "execution_count": 9,
   "metadata": {},
   "outputs": [
    {
     "name": "stdout",
     "output_type": "stream",
     "text": [
      "finishing 501/4457\n",
      "finishing 1001/4457\n",
      "finishing 1501/4457\n",
      "finishing 2001/4457\n",
      "finishing 2501/4457\n",
      "finishing 3001/4457\n",
      "finishing 3501/4457\n",
      "finishing 4001/4457\n",
      "Done\n"
     ]
    },
    {
     "data": {
      "text/plain": [
       "array([[1., 0., 0., ..., 0., 0., 0.],\n",
       "       [0., 1., 0., ..., 0., 0., 0.],\n",
       "       [0., 0., 1., ..., 0., 0., 0.],\n",
       "       ...,\n",
       "       [0., 0., 0., ..., 1., 0., 0.],\n",
       "       [0., 0., 0., ..., 0., 1., 0.],\n",
       "       [0., 0., 0., ..., 0., 0., 1.]])"
      ]
     },
     "execution_count": 9,
     "metadata": {},
     "output_type": "execute_result"
    }
   ],
   "source": [
    "def create_co_matrix(corpus: List[str], vocab_list: List[str], word2idx: dict,\n",
    "                     window_size: int=1, use_weighting: bool=False, verbose: bool=False) -> np.ndarray:\n",
    "    '''Function to create co-occurrence matrix\n",
    "    '''\n",
    "    #initialize co-occurrence matrix\n",
    "    ###<your code>###\n",
    "    \n",
    "    for idx, sms in enumerate(corpus):\n",
    "        ###<your code>###\n",
    "        \n",
    "        for center_i, center_word_id in enumerate(sms_ids):\n",
    "            ###<your code>###\n",
    "            \n",
    "            for left_i, left_word_id in enumerate(context_ids):\n",
    "                \n",
    "                ###<your code>###\n",
    "        \n",
    "        if verbose:\n",
    "            if idx != 0 and idx%500 == 0:\n",
    "                    print(f\"finishing {idx+1}/{len(corpus)}\")\n",
    "    print(\"Done\")\n",
    "    if use_weighting:\n",
    "        # if use weighting, then we set the co-occurrence with the word itself to 1.0\n",
    "        ###<your code>###\n",
    "        \n",
    "    return co_matrix\n",
    "\n",
    "co_matrix = create_co_matrix(x_train, vectorizer.get_feature_names(), vectorizer.vocabulary_,\n",
    "                            window_size=3, use_weighting=True, verbose=True)\n",
    "\n",
    "co_matrix"
   ]
  },
  {
   "cell_type": "markdown",
   "metadata": {},
   "source": [
    "### 建立PPMI矩陣"
   ]
  },
  {
   "cell_type": "code",
   "execution_count": 10,
   "metadata": {},
   "outputs": [
    {
     "name": "stderr",
     "output_type": "stream",
     "text": [
      "/Users/admin/Documents/cupoy/cupoy_env/lib/python3.7/site-packages/ipykernel_launcher.py:13: RuntimeWarning: divide by zero encountered in log2\n",
      "  del sys.path[0]\n"
     ]
    },
    {
     "data": {
      "text/plain": [
       "array([[13.601798 ,  0.       ,  0.       , ...,  0.       ,  0.       ,\n",
       "         0.       ],\n",
       "       [ 0.       , 12.637939 ,  0.       , ...,  0.       ,  0.       ,\n",
       "         0.       ],\n",
       "       [ 0.       ,  0.       ,  3.8175101, ...,  0.       ,  0.       ,\n",
       "         0.       ],\n",
       "       ...,\n",
       "       [ 0.       ,  0.       ,  0.       , ...,  9.8432665,  0.       ,\n",
       "         0.       ],\n",
       "       [ 0.       ,  0.       ,  0.       , ...,  0.       ,  4.743008 ,\n",
       "         0.       ],\n",
       "       [ 0.       ,  0.       ,  0.       , ...,  0.       ,  0.       ,\n",
       "         6.7493014]], dtype=float32)"
      ]
     },
     "execution_count": 10,
     "metadata": {},
     "output_type": "execute_result"
    }
   ],
   "source": [
    "#定義正向點間互資訊\n",
    "\n",
    "def ppmi(co_matrix: np.ndarray, eps: float=1e-8, verbose: bool=False):\n",
    "    ###<your code>###\n",
    "    \n",
    "    for i in range(co_matrix.shape[0]):\n",
    "        for j in range(co_matrix.shape[1]):\n",
    "            ###<your code>###\n",
    "            \n",
    "            if verbose:\n",
    "                cnt += 1\n",
    "                if cnt % 10 == 0 or cnt == total:\n",
    "                    print(f\"{cnt}/{total} Done\")\n",
    "    \n",
    "    return M\n",
    "\n",
    "ppmi_matrix = ppmi(co_matrix, verbose=False)\n",
    "ppmi_matrix"
   ]
  },
  {
   "cell_type": "markdown",
   "metadata": {},
   "source": [
    "### 使用SVD降維\n",
    "利用sklearn中的TruncatedSVD對co-occurrence matrix進行降維，並利用variance來找出最適合的維度\n",
    "[參考文獻](https://medium.com/swlh/truncated-singular-value-decomposition-svd-using-amazon-food-reviews-891d97af5d8d)\n",
    "\n",
    "(讀者可以嘗試使用SVD對PPMI進行降維)"
   ]
  },
  {
   "cell_type": "code",
   "execution_count": 11,
   "metadata": {},
   "outputs": [
    {
     "name": "stdout",
     "output_type": "stream",
     "text": [
      "Number of components = 10 and explained variance = 0.8642725587999802\n",
      "Number of components = 20 and explained variance = 0.8980414674614533\n",
      "Number of components = 30 and explained variance = 0.9156628006889777\n",
      "Number of components = 40 and explained variance = 0.927689024601538\n",
      "Number of components = 50 and explained variance = 0.936793376016642\n",
      "Number of components = 60 and explained variance = 0.9440622100583419\n",
      "Number of components = 70 and explained variance = 0.9497335259111686\n",
      "Number of components = 80 and explained variance = 0.9545927350412019\n",
      "Number of components = 90 and explained variance = 0.9586825009775746\n",
      "Number of components = 100 and explained variance = 0.9622576661554756\n",
      "Number of components = 110 and explained variance = 0.9653164683546815\n",
      "Number of components = 120 and explained variance = 0.9680388058100005\n",
      "Number of components = 130 and explained variance = 0.9704123451115438\n",
      "Number of components = 140 and explained variance = 0.9725534055673797\n"
     ]
    },
    {
     "data": {
      "image/png": "[encoded data removed]",
      "text/plain": [
       "<Figure size 432x288 with 1 Axes>"
      ]
     },
     "metadata": {
      "needs_background": "light"
     },
     "output_type": "display_data"
    }
   ],
   "source": [
    "# Program to find the optimal number of components for Truncated SVD\n",
    "n_comp = range(10,150,10) # list containing different values of components\n",
    "variance_sum = [] # explained variance ratio for each component of Truncated SVD\n",
    "\n",
    "for dim in n_comp:\n",
    "    ###<your code>###\n",
    "    \n",
    "plt.plot(n_comp, variance_sum)\n",
    "plt.xlabel('Number of components')\n",
    "plt.ylabel(\"Explained Variance\")\n",
    "plt.title(\"Plot of Number of components v/s explained variance\")\n",
    "plt.show()"
   ]
  },
  {
   "cell_type": "code",
   "execution_count": 12,
   "metadata": {},
   "outputs": [],
   "source": [
    "# choose 140 as final dimension to reduce to \n",
    "# 利用上述找到的最適合dimension來對co-occurrence matrix進行降維\n",
    "###<your code>###"
   ]
  },
  {
   "cell_type": "markdown",
   "metadata": {},
   "source": [
    "### 使用KNN模型進行分類\n",
    "在進行分類之前，先利用簡單的詞向量平均來計算文本向量\n",
    "\n",
    "[參考文獻](https://medium.com/ai-academy-taiwan/nlp-%E4%B8%8D%E5%90%8C%E8%A9%9E%E5%90%91%E9%87%8F%E5%9C%A8%E6%96%87%E6%9C%AC%E5%88%86%E9%A1%9E%E4%B8%8A%E7%9A%84%E8%A1%A8%E7%8F%BE%E8%88%87%E5%AF%A6%E4%BD%9C-e72a2daecfc)"
   ]
  },
  {
   "cell_type": "code",
   "execution_count": 120,
   "metadata": {
    "scrolled": true
   },
   "outputs": [
    {
     "name": "stdout",
     "output_type": "stream",
     "text": [
      "document 422 doesn't contain word in vocab_list\n",
      "erutupalam thandiyachu\n",
      "\n",
      "\n",
      "document 499 doesn't contain word in vocab_list\n",
      "g w r\n",
      "\n",
      "\n",
      "document 890 doesn't contain word in vocab_list\n",
      "beerage\n",
      "\n",
      "\n",
      "document 942 doesn't contain word in vocab_list\n",
      "ultimately tor motive tui achieve korli\n",
      "\n",
      "\n",
      "document 1486 doesn't contain word in vocab_list\n",
      "raviyog peripherals bhayandar east\n",
      "\n",
      "\n",
      "document 2105 doesn't contain word in vocab_list\n",
      "u\n",
      "\n",
      "\n",
      "document 2260 doesn't contain word in vocab_list\n",
      "gibbs unsold mike hussey\n",
      "\n",
      "\n",
      "document 2282 doesn't contain word in vocab_list\n",
      "\n",
      "\n",
      "\n",
      "document 2536 doesn't contain word in vocab_list\n",
      "received understood n acted upon\n",
      "\n",
      "\n",
      "document 3567 doesn't contain word in vocab_list\n",
      "garbage bags eggs jam bread hannaford wheat chex\n",
      "\n",
      "\n",
      "document 3583 doesn't contain word in vocab_list\n",
      "tf p\n",
      "\n",
      "\n",
      "==================================================\n",
      "document 76 doesn't contain word in vocab_list\n",
      "\n",
      "\n",
      "\n",
      "document 322 doesn't contain word in vocab_list\n",
      "east coast\n",
      "\n",
      "\n",
      "document 360 doesn't contain word in vocab_list\n",
      "ringtoneking\n",
      "\n",
      "\n",
      "document 809 doesn't contain word in vocab_list\n",
      "k k congratulation\n",
      "\n",
      "\n",
      "document 826 doesn't contain word in vocab_list\n",
      "audrie lousy autocorrect\n",
      "\n",
      "\n",
      "document 872 doesn't contain word in vocab_list\n",
      "hanks lotsly\n",
      "\n",
      "\n",
      "document 931 doesn't contain word in vocab_list\n",
      "\n",
      "\n",
      "\n"
     ]
    }
   ],
   "source": [
    "# get doc vector via take mean of all word vectors inside the corresponding document\n",
    "\n",
    "def make_doc_vectors(corpus: List[str], word2idx: dict, vocab_list: List) -> List[np.ndarray]:\n",
    "    \n",
    "    # vectorizing data \n",
    "    # and make document vector by take mean to all word vecto\n",
    "    doc_vec = []\n",
    "    empty_doc_list = []\n",
    "    for i, sms_msg in enumerate(corpus):\n",
    "        sms_msg = [word2idx[word] for word in sms_msg.split() if word in vocab_list] #tokenize\n",
    "        if len(sms_msg) > 0:\n",
    "            sms_msg = np.array([re_co_matrix[ids] for ids in sms_msg]) #vectorize\n",
    "            doc_vec.append(sms_msg.mean(axis=0))\n",
    "        else:\n",
    "            empty_doc_list.append(i)\n",
    "            print(f\"document {i} doesn't contain word in vocab_list\")\n",
    "            print(corpus[i])\n",
    "            print(\"\\n\")\n",
    "        \n",
    "    return np.vstack(doc_vec), empty_doc_list\n",
    "\n",
    "word2idx = vectorizer.vocabulary_\n",
    "vocab_list = vectorizer.get_feature_names()\n",
    "\n",
    "doc_vec_train, missing_train_list = make_doc_vectors(x_train, word2idx, vocab_list)\n",
    "print(\"=\"*50)\n",
    "doc_vec_test, missing_test_list = make_doc_vectors(x_test, word2idx, vocab_list)"
   ]
  },
  {
   "cell_type": "code",
   "execution_count": 134,
   "metadata": {},
   "outputs": [],
   "source": [
    "from sklearn.neighbors import KNeighborsClassifier\n",
    "\n",
    "# training\n",
    "y_train_filter = np.delete(np.array(y_train), missing_train_list)\n",
    "\n",
    "###<your code>###\n",
    "\n",
    "# testing\n",
    "y_test_filter = np.delete(np.array(y_test), missing_test_list)\n",
    "###<your code>###"
   ]
  },
  {
   "cell_type": "code",
   "execution_count": 135,
   "metadata": {},
   "outputs": [
    {
     "name": "stdout",
     "output_type": "stream",
     "text": [
      "train acc: 0.9768331084120557\n",
      "train acc: 0.9521660649819494\n"
     ]
    }
   ],
   "source": [
    "print(f\"train acc: {np.sum(train_pred == y_train_filter) / len(y_train_filter)}\")\n",
    "print(f\"train acc: {np.sum(test_pred == y_test_filter) / len(y_test_filter)}\")"
   ]
  }
 ],
 "metadata": {
  "kernelspec": {
   "display_name": "Python 3",
   "language": "python",
   "name": "python3"
  },
  "language_info": {
   "codemirror_mode": {
    "name": "ipython",
    "version": 3
   },
   "file_extension": ".py",
   "mimetype": "text/x-python",
   "name": "python",
   "nbconvert_exporter": "python",
   "pygments_lexer": "ipython3",
   "version": "3.6.8"
  }
 },
 "nbformat": 4,
 "nbformat_minor": 2
}
