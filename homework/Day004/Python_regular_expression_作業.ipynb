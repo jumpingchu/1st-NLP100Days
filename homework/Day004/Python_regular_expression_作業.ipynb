{
 "cells": [
  {
   "cell_type": "markdown",
   "metadata": {
    "colab_type": "text",
    "id": "tTJolmzeBLGr"
   },
   "source": [
    "# 作業目標: 使用python正規表達式對資料進行清洗處理\n",
    "\n",
    "這份作業我們會使用詐欺郵件的文本資料來作為清洗與處理的操作。\n",
    "[資料集](https://www.kaggle.com/rtatman/fraudulent-email-corpus/data#)"
   ]
  },
  {
   "cell_type": "markdown",
   "metadata": {
    "colab_type": "text",
    "id": "vhv0OElTBLGs"
   },
   "source": [
    "### 讀入資料文本\n",
    "因原始文本較大，先使用部份擷取的**sample_emails.txt**來進行練習"
   ]
  },
  {
   "cell_type": "code",
   "execution_count": 1,
   "metadata": {
    "colab": {},
    "colab_type": "code",
    "id": "a0BdDqt1BLGt"
   },
   "outputs": [],
   "source": [
    "#讀取文本資料\n",
    "with open('sample_emails.txt', 'r') as f:\n",
    "    sample_corpus = f.read()"
   ]
  },
  {
   "cell_type": "code",
   "execution_count": 2,
   "metadata": {},
   "outputs": [],
   "source": [
    "#sample_corpus[:2000]"
   ]
  },
  {
   "cell_type": "markdown",
   "metadata": {
    "colab_type": "text",
    "id": "aUg8HenSBLG2"
   },
   "source": [
    "---\n",
    "### 讀取寄件者資訊\n",
    "觀察文本資料可以發現, 寄件者資訊都符合以下格式\n",
    "\n",
    "`From: <收件者姓名> <收件者電子郵件>`"
   ]
  },
  {
   "cell_type": "code",
   "execution_count": 3,
   "metadata": {},
   "outputs": [],
   "source": [
    "import re"
   ]
  },
  {
   "cell_type": "code",
   "execution_count": 4,
   "metadata": {
    "colab": {},
    "colab_type": "code",
    "id": "YgsUuHsfBLG2"
   },
   "outputs": [
    {
     "data": {
      "text/plain": [
       "['From: \"MR. JAMES NGOLA.\" <james_ngola2002@maktoob.com>',\n",
       " 'From: \"Mr. Ben Suleman\" <bensul2004nng@spinfinder.com>',\n",
       " 'From: \"PRINCE OBONG ELEME\" <obong_715@epatra.com>']"
      ]
     },
     "execution_count": 4,
     "metadata": {},
     "output_type": "execute_result"
    }
   ],
   "source": [
    "pattern_sender = r'From: .*'\n",
    "match = re.findall(pattern_sender, sample_corpus)\n",
    "match"
   ]
  },
  {
   "cell_type": "markdown",
   "metadata": {
    "colab_type": "text",
    "id": "Ac8KHAqTBLG7"
   },
   "source": [
    "---\n",
    "### 只讀取寄件者姓名"
   ]
  },
  {
   "cell_type": "code",
   "execution_count": 5,
   "metadata": {},
   "outputs": [
    {
     "name": "stdout",
     "output_type": "stream",
     "text": [
      "\"MR. JAMES NGOLA.\"\n",
      "\"Mr. Ben Suleman\"\n",
      "\"PRINCE OBONG ELEME\"\n"
     ]
    }
   ],
   "source": [
    "pattern_senderName = r'From: (.*) <(.*)>'\n",
    "match_senderName = re.finditer(pattern_senderName, sample_corpus)\n",
    "for ma in match_senderName:\n",
    "    print(ma.group(1))"
   ]
  },
  {
   "cell_type": "code",
   "execution_count": 6,
   "metadata": {},
   "outputs": [
    {
     "name": "stdout",
     "output_type": "stream",
     "text": [
      "MR. JAMES NGOLA.\n",
      "Mr. Ben Suleman\n",
      "PRINCE OBONG ELEME\n"
     ]
    }
   ],
   "source": [
    "pattern_NameEmail = r'\\\"(.*)\\\" <(.*)>'\n",
    "for info in match:\n",
    "    print(re.search(pattern_NameEmail, info).group(1))"
   ]
  },
  {
   "cell_type": "markdown",
   "metadata": {
    "colab_type": "text",
    "id": "gaJefecaBLG-"
   },
   "source": [
    "---\n",
    "### 只讀取寄件者電子信箱"
   ]
  },
  {
   "cell_type": "code",
   "execution_count": 7,
   "metadata": {},
   "outputs": [
    {
     "name": "stdout",
     "output_type": "stream",
     "text": [
      "james_ngola2002@maktoob.com\n",
      "bensul2004nng@spinfinder.com\n",
      "obong_715@epatra.com\n"
     ]
    }
   ],
   "source": [
    "p_email = r'\\b\\w+@\\w+.*\\b'\n",
    "for info in match:\n",
    "    print(re.search(p_email, info).group())"
   ]
  },
  {
   "cell_type": "code",
   "execution_count": 8,
   "metadata": {},
   "outputs": [
    {
     "name": "stdout",
     "output_type": "stream",
     "text": [
      "james_ngola2002@maktoob.com\n",
      "bensul2004nng@spinfinder.com\n",
      "obong_715@epatra.com\n"
     ]
    }
   ],
   "source": [
    "for info in match:\n",
    "    print(re.search(pattern_NameEmail, info).group(2))"
   ]
  },
  {
   "cell_type": "markdown",
   "metadata": {
    "colab_type": "text",
    "id": "t-RXjNLiBLHC"
   },
   "source": [
    "---\n",
    "### 只讀取電子信箱中的寄件機構資訊\n",
    "ex: james_ngola2002@maktoob.com --> 取maktoob"
   ]
  },
  {
   "cell_type": "code",
   "execution_count": 9,
   "metadata": {},
   "outputs": [
    {
     "name": "stdout",
     "output_type": "stream",
     "text": [
      "maktoob\n",
      "spinfinder\n",
      "epatra\n"
     ]
    }
   ],
   "source": [
    "p_senderInfo = r'(?<=@)\\w+(?=\\.)'\n",
    "for info in match:\n",
    "    print(re.search(p_senderInfo, info).group())"
   ]
  },
  {
   "cell_type": "markdown",
   "metadata": {
    "colab_type": "text",
    "id": "vfzkuLCWBLHG"
   },
   "source": [
    "---\n",
    "### 結合上面的配對方式, 將寄件者的帳號與機構訊返回\n",
    "ex: james_ngola2002@maktoob.com --> [james_ngola2002, maktoob]"
   ]
  },
  {
   "cell_type": "code",
   "execution_count": 10,
   "metadata": {},
   "outputs": [
    {
     "name": "stdout",
     "output_type": "stream",
     "text": [
      "james_ngola2002, maktoob\n",
      "bensul2004nng, spinfinder\n",
      "obong_715, epatra\n"
     ]
    }
   ],
   "source": [
    "# 1) 使用兩種 pattern 搭配 search\n",
    "p_emailName = r'\\b\\w+(?=@)'\n",
    "p_senderInfo = r'(?<=@)\\w+(?=\\.)'\n",
    "for info in match:\n",
    "    print(f'{re.search(p_emailName, info).group()}, {re.search(p_senderInfo, info).group()}')"
   ]
  },
  {
   "cell_type": "code",
   "execution_count": 11,
   "metadata": {},
   "outputs": [
    {
     "name": "stdout",
     "output_type": "stream",
     "text": [
      "['james_ngola2002', 'maktoob']\n",
      "['bensul2004nng', 'spinfinder']\n",
      "['obong_715', 'epatra']\n"
     ]
    }
   ],
   "source": [
    "# 2) 使用 or 搭配 findall (返回 list)\n",
    "pat = r'\\w+(?=@)|(?<=@)\\w+(?=\\.)'\n",
    "for info in match:\n",
    "    print(re.findall(pat, info))"
   ]
  },
  {
   "cell_type": "code",
   "execution_count": 12,
   "metadata": {},
   "outputs": [
    {
     "name": "stdout",
     "output_type": "stream",
     "text": [
      "james_ngola2002, maktoob\n",
      "bensul2004nng, spinfinder\n",
      "obong_715, epatra\n"
     ]
    }
   ],
   "source": [
    "# 3) 改寫自解答的 split 方法\n",
    "pat = r'\\w+@(?<=@)\\w+(?=\\.)'\n",
    "for info in match:\n",
    "    for line in re.findall(pat, info):\n",
    "        name, domain = re.split('@', line)\n",
    "        print(f'{name}, {domain}')"
   ]
  },
  {
   "cell_type": "markdown",
   "metadata": {
    "colab_type": "text",
    "id": "Yl-BMduNBLHJ"
   },
   "source": [
    "---\n",
    "### 使用正規表達式對email資料進行處理\n",
    "這裡我們會使用到python其他的套件協助處理(ex: pandas, email, etc)，這裡我們只需要專注在正規表達式上即可，其他的套件是方便我們整理與處理資料。"
   ]
  },
  {
   "cell_type": "markdown",
   "metadata": {
    "colab_type": "text",
    "id": "kqCacQ9tBLHJ"
   },
   "source": [
    "---\n",
    "### 讀取與切分Email\n",
    "讀入的email為一個長字串，利用正規表達式切割讀入的資料成一封一封的email，並將結果以list表示。\n",
    "\n",
    "輸出: [email_1, email_2, email_3, ....]"
   ]
  },
  {
   "cell_type": "code",
   "execution_count": 13,
   "metadata": {},
   "outputs": [],
   "source": [
    "###讀取文本資料:fradulent_emails.txt###\n",
    "with open('all_emails.txt', 'r', encoding='utf8', errors='ignore') as f:\n",
    "    data = f.read()"
   ]
  },
  {
   "cell_type": "code",
   "execution_count": 14,
   "metadata": {},
   "outputs": [
    {
     "data": {
      "text/plain": [
       "17330528"
      ]
     },
     "execution_count": 14,
     "metadata": {},
     "output_type": "execute_result"
    }
   ],
   "source": [
    "len(data)"
   ]
  },
  {
   "cell_type": "code",
   "execution_count": 15,
   "metadata": {},
   "outputs": [],
   "source": [
    "###切割讀入的資料成一封一封的email###\n",
    "###我們可以使用list來儲存每一封email###\n",
    "###注意！這裡請仔細觀察sample資料，看資料是如何切分不同email###\n",
    "\n",
    "#data[:5000] #觀察每封email開始與結束位置"
   ]
  },
  {
   "cell_type": "code",
   "execution_count": 16,
   "metadata": {},
   "outputs": [
    {
     "data": {
      "text/plain": [
       "3978"
      ]
     },
     "execution_count": 16,
     "metadata": {},
     "output_type": "execute_result"
    }
   ],
   "source": [
    "emails = re.split('From r', data, flags=re.M)\n",
    "len(emails)"
   ]
  },
  {
   "cell_type": "code",
   "execution_count": 17,
   "metadata": {},
   "outputs": [
    {
     "data": {
      "text/plain": [
       "3977"
      ]
     },
     "execution_count": 17,
     "metadata": {},
     "output_type": "execute_result"
    }
   ],
   "source": [
    "emails = emails[1:]  #刪除第一筆的空資料\n",
    "len(emails)"
   ]
  },
  {
   "cell_type": "markdown",
   "metadata": {
    "colab_type": "text",
    "id": "e9IN-2o0BLHM"
   },
   "source": [
    "---\n",
    "### 從文本中擷取所有寄件者與收件者的姓名和地址"
   ]
  },
  {
   "cell_type": "code",
   "execution_count": 18,
   "metadata": {},
   "outputs": [],
   "source": [
    "import re\n",
    "import pandas as pd\n",
    "import email"
   ]
  },
  {
   "cell_type": "code",
   "execution_count": 19,
   "metadata": {},
   "outputs": [],
   "source": [
    "emails_list = [] #創建空list來儲存所有email資訊\n",
    "\n",
    "for mail in emails[:20]: #只取前20筆資料 (處理速度比較快)\n",
    "    emails_dict = dict() #創建空字典儲存資訊\n",
    "    \n",
    "    ##### Sender\n",
    "    match_sender = re.search(r'From:.*', mail)\n",
    "    if match_sender is not None:  #檢查是否配對成功，否則後續的.group()會報錯\n",
    "        sender_name = re.search(r'(?<=\\\").*(?=\\\")', match_sender.group())\n",
    "        sender_address = re.search(r'\\w+@.*\\b', match_sender.group())\n",
    "    else:\n",
    "        sender_name = None\n",
    "        sender_address = None\n",
    "    \n",
    "    if sender_address is not None:\n",
    "        emails_dict['寄件者E-mail'] = sender_address.group()\n",
    "    else:\n",
    "        emails_dict['寄件者E-mail'] = sender_address\n",
    "    if sender_name is not None:\n",
    "        emails_dict['寄件者名稱'] = sender_name.group()\n",
    "    else:\n",
    "        emails_dict['寄件者名稱'] = sender_name\n",
    "    \n",
    "    ##### Recipient       \n",
    "    match_to = re.search(r'To:.*', mail)\n",
    "    if match_to is not None:\n",
    "        to_name = re.search(r'(?<=\\\").*(?=\\\")', match_to.group())\n",
    "        to_email = re.search(r'\\w+@.*\\b', match_to.group())\n",
    "    else:\n",
    "        sender_name = None\n",
    "        sender_address = None\n",
    "   \n",
    "    if to_email is not None:\n",
    "        emails_dict['收件者E-mail'] = to_email.group()\n",
    "    else:\n",
    "        emails_dict['收件者E-mail'] = to_email\n",
    "    if to_name is not None:\n",
    "        emails_dict['收件者名稱'] = to_name.group()\n",
    "    else:\n",
    "        emails_dict['收件者名稱'] = to_name\n",
    "    \n",
    "    ##### Date\n",
    "    match_date = re.search(r'Date:.*', mail)\n",
    "    if match_date is not None:\n",
    "        date_info = re.search(r'\\d+\\s\\w+\\s\\d+', match_date.group())\n",
    "    else:\n",
    "        date_info = None\n",
    "    \n",
    "    if date_info is not None:\n",
    "        emails_dict['日期'] = date_info.group()\n",
    "    else:\n",
    "        emails_dict['日期'] = date_info\n",
    "    \n",
    "    ##### Subject\n",
    "    subject = re.search(r'(?<=Subject:).*', mail)    \n",
    "    if subject is not None:\n",
    "        emails_dict['主旨'] = subject.group()\n",
    "    else:\n",
    "        emails_dict['主旨'] = subject\n",
    "    \n",
    "    try:\n",
    "        full_email = email.message_from_string(mail)\n",
    "        body = full_email.get_payload()\n",
    "        emails_dict[\"內文\"] = body\n",
    "    except:\n",
    "        emails_dict[\"內文\"] = None\n",
    "    \n",
    "    emails_list.append(emails_dict)"
   ]
  },
  {
   "cell_type": "code",
   "execution_count": 20,
   "metadata": {
    "colab": {},
    "colab_type": "code",
    "id": "CBfQRiYPBLHP"
   },
   "outputs": [
    {
     "data": {
      "text/html": [
       "<div>\n",
       "<style scoped>\n",
       "    .dataframe tbody tr th:only-of-type {\n",
       "        vertical-align: middle;\n",
       "    }\n",
       "\n",
       "    .dataframe tbody tr th {\n",
       "        vertical-align: top;\n",
       "    }\n",
       "\n",
       "    .dataframe thead th {\n",
       "        text-align: right;\n",
       "    }\n",
       "</style>\n",
       "<table border=\"1\" class=\"dataframe\">\n",
       "  <thead>\n",
       "    <tr style=\"text-align: right;\">\n",
       "      <th></th>\n",
       "      <th>寄件者E-mail</th>\n",
       "      <th>寄件者名稱</th>\n",
       "      <th>收件者E-mail</th>\n",
       "      <th>收件者名稱</th>\n",
       "      <th>日期</th>\n",
       "      <th>主旨</th>\n",
       "      <th>內文</th>\n",
       "    </tr>\n",
       "  </thead>\n",
       "  <tbody>\n",
       "    <tr>\n",
       "      <th>0</th>\n",
       "      <td>james_ngola2002@maktoob.com</td>\n",
       "      <td>MR. JAMES NGOLA.</td>\n",
       "      <td>james_ngola2002@maktoob.com</td>\n",
       "      <td>None</td>\n",
       "      <td>31 Oct 2002</td>\n",
       "      <td>URGENT BUSINESS ASSISTANCE AND PARTNERSHIP</td>\n",
       "      <td>FROM:MR. JAMES NGOLA.\\nCONFIDENTIAL TEL: 233-2...</td>\n",
       "    </tr>\n",
       "    <tr>\n",
       "      <th>1</th>\n",
       "      <td>bensul2004nng@spinfinder.com</td>\n",
       "      <td>Mr. Ben Suleman</td>\n",
       "      <td>R@M</td>\n",
       "      <td>None</td>\n",
       "      <td>31 Oct 2002</td>\n",
       "      <td>URGENT ASSISTANCE /RELATIONSHIP (P)</td>\n",
       "      <td>Dear Friend,\\n\\nI am Mr. Ben Suleman a custom ...</td>\n",
       "    </tr>\n",
       "    <tr>\n",
       "      <th>2</th>\n",
       "      <td>obong_715@epatra.com</td>\n",
       "      <td>PRINCE OBONG ELEME</td>\n",
       "      <td>obong_715@epatra.com</td>\n",
       "      <td>None</td>\n",
       "      <td>31 Oct 2002</td>\n",
       "      <td>GOOD DAY TO YOU</td>\n",
       "      <td>FROM HIS ROYAL MAJESTY (HRM) CROWN RULER OF EL...</td>\n",
       "    </tr>\n",
       "    <tr>\n",
       "      <th>3</th>\n",
       "      <td>obong_715@epatra.com</td>\n",
       "      <td>PRINCE OBONG ELEME</td>\n",
       "      <td>webmaster@aclweb.org</td>\n",
       "      <td>None</td>\n",
       "      <td>31 Oct 2002</td>\n",
       "      <td>GOOD DAY TO YOU</td>\n",
       "      <td>FROM HIS ROYAL MAJESTY (HRM) CROWN RULER OF EL...</td>\n",
       "    </tr>\n",
       "    <tr>\n",
       "      <th>4</th>\n",
       "      <td>m_abacha03@www.com</td>\n",
       "      <td>Maryam Abacha</td>\n",
       "      <td>m_abacha03@www.com</td>\n",
       "      <td>None</td>\n",
       "      <td>1 Nov 2002</td>\n",
       "      <td>I Need Your Assistance.</td>\n",
       "      <td>Dear sir, \\n \\nIt is with a heart full of hope...</td>\n",
       "    </tr>\n",
       "    <tr>\n",
       "      <th>5</th>\n",
       "      <td>davidkuta@postmark.net</td>\n",
       "      <td>None</td>\n",
       "      <td>davidkuta@yahoo.com</td>\n",
       "      <td>None</td>\n",
       "      <td>02 Nov 2002</td>\n",
       "      <td>Partnership</td>\n",
       "      <td>ATTENTION:                                    ...</td>\n",
       "    </tr>\n",
       "    <tr>\n",
       "      <th>6</th>\n",
       "      <td>tunde_dosumu@lycos.com</td>\n",
       "      <td>Barrister tunde dosumu</td>\n",
       "      <td>tunde_dosumu@lycos.com</td>\n",
       "      <td>None</td>\n",
       "      <td>None</td>\n",
       "      <td>Urgent Attention</td>\n",
       "      <td>Dear Sir,\\n\\nI am Barrister Tunde Dosumu (SAN)...</td>\n",
       "    </tr>\n",
       "    <tr>\n",
       "      <th>7</th>\n",
       "      <td>william2244drallo@maktoob.com</td>\n",
       "      <td>William Drallo</td>\n",
       "      <td>william2244drallo@maktoob.com</td>\n",
       "      <td>None</td>\n",
       "      <td>3 Nov 2002</td>\n",
       "      <td>URGENT BUSINESS PRPOSAL</td>\n",
       "      <td>FROM: WILLIAM DRALLO.\\nCONFIDENTIAL TEL: 233-2...</td>\n",
       "    </tr>\n",
       "    <tr>\n",
       "      <th>8</th>\n",
       "      <td>abdul_817@rediffmail.com</td>\n",
       "      <td>MR USMAN ABDUL</td>\n",
       "      <td>R@M</td>\n",
       "      <td>None</td>\n",
       "      <td>04 Nov 2002</td>\n",
       "      <td>THANK YOU</td>\n",
       "      <td>CHALLENGE SECURITIES LTD.\\nLAGOS, NIGERIA\\n\\n\\...</td>\n",
       "    </tr>\n",
       "    <tr>\n",
       "      <th>9</th>\n",
       "      <td>barrister_td@lycos.com</td>\n",
       "      <td>Tunde  Dosumu</td>\n",
       "      <td>barrister_td@lycos.com</td>\n",
       "      <td>None</td>\n",
       "      <td>None</td>\n",
       "      <td>Urgent Assistance</td>\n",
       "      <td>Dear Sir,\\n\\nI am Barrister Tunde Dosumu (SAN)...</td>\n",
       "    </tr>\n",
       "    <tr>\n",
       "      <th>10</th>\n",
       "      <td>temijohnson2@rediffmail.com</td>\n",
       "      <td>None</td>\n",
       "      <td>R@E</td>\n",
       "      <td>None</td>\n",
       "      <td>6 Nov 2001</td>\n",
       "      <td>IMPORTANT</td>\n",
       "      <td>FROM: MR TEMI JOHNSON\\nDEMOCRATIC REPUBLIC OF ...</td>\n",
       "    </tr>\n",
       "    <tr>\n",
       "      <th>11</th>\n",
       "      <td>sjordan@diplomats.com</td>\n",
       "      <td>Dr.Sam jordan</td>\n",
       "      <td>R@M</td>\n",
       "      <td>None</td>\n",
       "      <td>08 Nov 2002</td>\n",
       "      <td>URGENT ASSISTANCE.</td>\n",
       "      <td>FROM THE DESK OF DR.SAM JORDAN\\nTHE MANAGER\\nH...</td>\n",
       "    </tr>\n",
       "    <tr>\n",
       "      <th>12</th>\n",
       "      <td>p_brown2@lawyer.com</td>\n",
       "      <td>None</td>\n",
       "      <td>p_brown2@lawyer.com</td>\n",
       "      <td>None</td>\n",
       "      <td>8 Nov 2002</td>\n",
       "      <td>From: Barrister Peter Brown</td>\n",
       "      <td>\\nSENIOR ADVOCATE OF NIGERIA\\nBARR. PETER BROW...</td>\n",
       "    </tr>\n",
       "    <tr>\n",
       "      <th>13</th>\n",
       "      <td>mic_k1@post.com</td>\n",
       "      <td>None</td>\n",
       "      <td>R@M</td>\n",
       "      <td>None</td>\n",
       "      <td>11 Nov 2002</td>\n",
       "      <td>MICHAEL</td>\n",
       "      <td>From;Mr.Michael Kamah and Family,\\n          J...</td>\n",
       "    </tr>\n",
       "    <tr>\n",
       "      <th>14</th>\n",
       "      <td>mikebunduu1@rediffmail.com</td>\n",
       "      <td>COL. MICHAEL BUNDU</td>\n",
       "      <td>R@E</td>\n",
       "      <td>None</td>\n",
       "      <td>13 Nov 2001</td>\n",
       "      <td>*****SPAM***** IMPORTANT</td>\n",
       "      <td>FROM: COL. MICHAEL BUNDU. \\nDEMOCRATIC REPUBLI...</td>\n",
       "    </tr>\n",
       "    <tr>\n",
       "      <th>15</th>\n",
       "      <td>elixwilliam@usa.com</td>\n",
       "      <td>MRS MARIAM ABACHA</td>\n",
       "      <td>presidentwifeng@indiatimes.com</td>\n",
       "      <td>None</td>\n",
       "      <td>14 Nov 2002</td>\n",
       "      <td>TRUST TRANSACTION</td>\n",
       "      <td>Dear Sir,\\n\\nA Very Good day to you   \\n\\nI am...</td>\n",
       "    </tr>\n",
       "    <tr>\n",
       "      <th>16</th>\n",
       "      <td>anayoawka@hotmail.com</td>\n",
       "      <td>DR. ANAYO AWKA</td>\n",
       "      <td>webmaster@aclweb.org</td>\n",
       "      <td>None</td>\n",
       "      <td>15 Nov 2002</td>\n",
       "      <td>REQUEST FOR YOUR UNRESERVED ASSISTANCE</td>\n",
       "      <td>FROM: DR. ANAYO AWKA BANK MANAGER \\n(UNION BAN...</td>\n",
       "    </tr>\n",
       "    <tr>\n",
       "      <th>17</th>\n",
       "      <td>anayoawka@hotmail.com</td>\n",
       "      <td>DR. ANAYO AWKA</td>\n",
       "      <td>webmaster@aclweb.org</td>\n",
       "      <td>None</td>\n",
       "      <td>15 Nov 2002</td>\n",
       "      <td>REQUEST FOR YOUR UNRESERVED ASSISTANCE</td>\n",
       "      <td>FROM: DR. ANAYO AWKA BANK MANAGER \\n(UNION BAN...</td>\n",
       "    </tr>\n",
       "    <tr>\n",
       "      <th>18</th>\n",
       "      <td>victorloma@netscape.net</td>\n",
       "      <td>Victor Aloma</td>\n",
       "      <td>listmem@newns.op.nii.ac.jp</td>\n",
       "      <td>None</td>\n",
       "      <td>16 Nov 2002</td>\n",
       "      <td>Urgent Assistance</td>\n",
       "      <td>The Director,\\n\\n\\n\\n            SEEKING FOR I...</td>\n",
       "    </tr>\n",
       "    <tr>\n",
       "      <th>19</th>\n",
       "      <td>victorloma@netscape.net</td>\n",
       "      <td>Victor Aloma</td>\n",
       "      <td>outgoing@mail.op.nii.ac.jp</td>\n",
       "      <td>None</td>\n",
       "      <td>16 Nov 2002</td>\n",
       "      <td>Urgent Assistance</td>\n",
       "      <td>The Director,\\n\\n\\n\\n            SEEKING FOR I...</td>\n",
       "    </tr>\n",
       "  </tbody>\n",
       "</table>\n",
       "</div>"
      ],
      "text/plain": [
       "                        寄件者E-mail                   寄件者名稱  \\\n",
       "0     james_ngola2002@maktoob.com        MR. JAMES NGOLA.   \n",
       "1    bensul2004nng@spinfinder.com         Mr. Ben Suleman   \n",
       "2            obong_715@epatra.com      PRINCE OBONG ELEME   \n",
       "3            obong_715@epatra.com      PRINCE OBONG ELEME   \n",
       "4              m_abacha03@www.com           Maryam Abacha   \n",
       "5          davidkuta@postmark.net                    None   \n",
       "6          tunde_dosumu@lycos.com  Barrister tunde dosumu   \n",
       "7   william2244drallo@maktoob.com          William Drallo   \n",
       "8        abdul_817@rediffmail.com          MR USMAN ABDUL   \n",
       "9          barrister_td@lycos.com           Tunde  Dosumu   \n",
       "10    temijohnson2@rediffmail.com                    None   \n",
       "11          sjordan@diplomats.com           Dr.Sam jordan   \n",
       "12            p_brown2@lawyer.com                    None   \n",
       "13                mic_k1@post.com                    None   \n",
       "14     mikebunduu1@rediffmail.com      COL. MICHAEL BUNDU   \n",
       "15            elixwilliam@usa.com       MRS MARIAM ABACHA   \n",
       "16          anayoawka@hotmail.com         DR. ANAYO AWKA    \n",
       "17          anayoawka@hotmail.com         DR. ANAYO AWKA    \n",
       "18        victorloma@netscape.net            Victor Aloma   \n",
       "19        victorloma@netscape.net            Victor Aloma   \n",
       "\n",
       "                         收件者E-mail 收件者名稱           日期  \\\n",
       "0      james_ngola2002@maktoob.com  None  31 Oct 2002   \n",
       "1                              R@M  None  31 Oct 2002   \n",
       "2             obong_715@epatra.com  None  31 Oct 2002   \n",
       "3             webmaster@aclweb.org  None  31 Oct 2002   \n",
       "4               m_abacha03@www.com  None   1 Nov 2002   \n",
       "5              davidkuta@yahoo.com  None  02 Nov 2002   \n",
       "6           tunde_dosumu@lycos.com  None         None   \n",
       "7    william2244drallo@maktoob.com  None   3 Nov 2002   \n",
       "8                              R@M  None  04 Nov 2002   \n",
       "9           barrister_td@lycos.com  None         None   \n",
       "10                             R@E  None   6 Nov 2001   \n",
       "11                             R@M  None  08 Nov 2002   \n",
       "12             p_brown2@lawyer.com  None   8 Nov 2002   \n",
       "13                             R@M  None  11 Nov 2002   \n",
       "14                             R@E  None  13 Nov 2001   \n",
       "15  presidentwifeng@indiatimes.com  None  14 Nov 2002   \n",
       "16            webmaster@aclweb.org  None  15 Nov 2002   \n",
       "17            webmaster@aclweb.org  None  15 Nov 2002   \n",
       "18      listmem@newns.op.nii.ac.jp  None  16 Nov 2002   \n",
       "19      outgoing@mail.op.nii.ac.jp  None  16 Nov 2002   \n",
       "\n",
       "                                             主旨  \\\n",
       "0    URGENT BUSINESS ASSISTANCE AND PARTNERSHIP   \n",
       "1           URGENT ASSISTANCE /RELATIONSHIP (P)   \n",
       "2                               GOOD DAY TO YOU   \n",
       "3                               GOOD DAY TO YOU   \n",
       "4                       I Need Your Assistance.   \n",
       "5                                   Partnership   \n",
       "6                              Urgent Attention   \n",
       "7                       URGENT BUSINESS PRPOSAL   \n",
       "8                                     THANK YOU   \n",
       "9                             Urgent Assistance   \n",
       "10                                    IMPORTANT   \n",
       "11                           URGENT ASSISTANCE.   \n",
       "12                  From: Barrister Peter Brown   \n",
       "13                                      MICHAEL   \n",
       "14                     *****SPAM***** IMPORTANT   \n",
       "15                            TRUST TRANSACTION   \n",
       "16       REQUEST FOR YOUR UNRESERVED ASSISTANCE   \n",
       "17       REQUEST FOR YOUR UNRESERVED ASSISTANCE   \n",
       "18                            Urgent Assistance   \n",
       "19                            Urgent Assistance   \n",
       "\n",
       "                                                   內文  \n",
       "0   FROM:MR. JAMES NGOLA.\\nCONFIDENTIAL TEL: 233-2...  \n",
       "1   Dear Friend,\\n\\nI am Mr. Ben Suleman a custom ...  \n",
       "2   FROM HIS ROYAL MAJESTY (HRM) CROWN RULER OF EL...  \n",
       "3   FROM HIS ROYAL MAJESTY (HRM) CROWN RULER OF EL...  \n",
       "4   Dear sir, \\n \\nIt is with a heart full of hope...  \n",
       "5   ATTENTION:                                    ...  \n",
       "6   Dear Sir,\\n\\nI am Barrister Tunde Dosumu (SAN)...  \n",
       "7   FROM: WILLIAM DRALLO.\\nCONFIDENTIAL TEL: 233-2...  \n",
       "8   CHALLENGE SECURITIES LTD.\\nLAGOS, NIGERIA\\n\\n\\...  \n",
       "9   Dear Sir,\\n\\nI am Barrister Tunde Dosumu (SAN)...  \n",
       "10  FROM: MR TEMI JOHNSON\\nDEMOCRATIC REPUBLIC OF ...  \n",
       "11  FROM THE DESK OF DR.SAM JORDAN\\nTHE MANAGER\\nH...  \n",
       "12  \\nSENIOR ADVOCATE OF NIGERIA\\nBARR. PETER BROW...  \n",
       "13  From;Mr.Michael Kamah and Family,\\n          J...  \n",
       "14  FROM: COL. MICHAEL BUNDU. \\nDEMOCRATIC REPUBLI...  \n",
       "15  Dear Sir,\\n\\nA Very Good day to you   \\n\\nI am...  \n",
       "16  FROM: DR. ANAYO AWKA BANK MANAGER \\n(UNION BAN...  \n",
       "17  FROM: DR. ANAYO AWKA BANK MANAGER \\n(UNION BAN...  \n",
       "18  The Director,\\n\\n\\n\\n            SEEKING FOR I...  \n",
       "19  The Director,\\n\\n\\n\\n            SEEKING FOR I...  "
      ]
     },
     "execution_count": 20,
     "metadata": {},
     "output_type": "execute_result"
    }
   ],
   "source": [
    "#將處理結果轉化為dataframe\n",
    "emails_df = pd.DataFrame(emails_list)\n",
    "emails_df"
   ]
  },
  {
   "cell_type": "code",
   "execution_count": null,
   "metadata": {},
   "outputs": [],
   "source": []
  }
 ],
 "metadata": {
  "colab": {
   "name": "Python_regular_expression_作業.ipynb",
   "provenance": []
  },
  "kernelspec": {
   "display_name": "Python 3",
   "language": "python",
   "name": "python3"
  },
  "language_info": {
   "codemirror_mode": {
    "name": "ipython",
    "version": 3
   },
   "file_extension": ".py",
   "mimetype": "text/x-python",
   "name": "python",
   "nbconvert_exporter": "python",
   "pygments_lexer": "ipython3",
   "version": "3.9.0"
  }
 },
 "nbformat": 4,
 "nbformat_minor": 4
}
