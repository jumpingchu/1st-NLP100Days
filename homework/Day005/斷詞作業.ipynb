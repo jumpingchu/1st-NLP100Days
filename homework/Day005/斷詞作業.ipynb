{
 "cells": [
  {
   "cell_type": "markdown",
   "metadata": {},
   "source": [
    "## 作業目標: 了解斷詞演算法的背後計算"
   ]
  },
  {
   "cell_type": "markdown",
   "metadata": {},
   "source": [
    "### 根據課程講述的內容, 請計算出下列剩餘所有情況的\n",
    "若有一個人連續觀察到三天水草都是乾燥的(Dry), 則這三天的天氣機率為何？(可參考講義第13頁)\n",
    "(Hint: 共有8種可能機率)\n",
    "\n",
    "```python\n",
    "states = ('sunny', 'rainy')\n",
    "observations = ('dry', 'damp', 'soggy')\n",
    "start_probability = {'sunny': 0.4, 'rainy': 0.6}\n",
    "transition_probability = {'sunny':{'sunny':0.6, 'rainy':0.4},\n",
    "                          'rainy': {'sunny':0.3, 'rainy':0.7}}\n",
    "emission_probability = {'sunny': {'dry':0.6, 'damp':0.3, 'soggy':0.1},\n",
    "                        'rainy': {'dry':0.1, 'damp':0.4, 'soggy':0.5}}\n",
    "```"
   ]
  },
  {
   "cell_type": "markdown",
   "metadata": {},
   "source": [
    "```\n",
    "觀察狀態 = 'dry', 'dry', 'dry'\n",
    "Sunny, Sunny, Sunny: 0.4*(0.6)*0.6*(0.6)*0.6*(0.6) = 0.031104\n",
    "Rainy, Sunny, Sunny: 0.6*(0.1)*0.3*(0.6)*0.6*(0.6) = 0.003888\n",
    "\n",
    "最大機率為: Sunny, Sunny, Sunny\n",
    "```"
   ]
  },
  {
   "cell_type": "markdown",
   "metadata": {},
   "source": [
    "![prob](prob.png)"
   ]
  },
  {
   "cell_type": "code",
   "execution_count": 1,
   "metadata": {},
   "outputs": [
    {
     "name": "stdout",
     "output_type": "stream",
     "text": [
      "SRS =  0.0017280000000000002\n",
      "SRR =  0.0006720000000000001\n",
      "SSR =  0.0034560000000000003\n"
     ]
    }
   ],
   "source": [
    "# 初始＊發射＊轉移＊發射＊轉移＊發射\n",
    "# Sunny, Rainy, Sunny:\n",
    "SRS = 0.4*(0.6)*0.4*(0.1)*0.3*(0.6)\n",
    "print('SRS = ', SRS)\n",
    "# Sunny, Rainy, Rainy:\n",
    "SRR = 0.4*(0.6)*0.4*(0.1)*0.7*(0.1)\n",
    "print('SRR = ', SRR)\n",
    "# Sunny, Sunny, Rainy:\n",
    "SSR = 0.4*(0.6)*0.6*(0.6)*0.4*(0.1)\n",
    "print('SSR = ', SSR)"
   ]
  },
  {
   "cell_type": "code",
   "execution_count": 2,
   "metadata": {},
   "outputs": [
    {
     "name": "stdout",
     "output_type": "stream",
     "text": [
      "RRS =  0.0007559999999999998\n",
      "RRR =  0.000294\n",
      "RSR =  0.00043200000000000004\n"
     ]
    }
   ],
   "source": [
    "# Rainy, Rainy, Sunny:\n",
    "RRS = 0.6*(0.1)*0.7*(0.1)*0.3*(0.6)\n",
    "print('RRS = ', RRS)\n",
    "# Rainy, Rainy, Rainy:\n",
    "RRR = 0.6*(0.1)*0.7*(0.1)*0.7*(0.1)\n",
    "print('RRR = ', RRR)\n",
    "# Rainy, Sunny, Rainy:\n",
    "RSR = 0.6*(0.1)*0.3*(0.6)*0.4*(0.1)\n",
    "print('RSR = ', RSR)"
   ]
  },
  {
   "cell_type": "markdown",
   "metadata": {},
   "source": [
    "### 根據上述條件, 寫出Viterbi應用程式"
   ]
  },
  {
   "cell_type": "code",
   "execution_count": 263,
   "metadata": {},
   "outputs": [],
   "source": [
    "observations = ('dry', 'dry', 'dry') #實際上觀察到的狀態為dry, dry, dry\n",
    "states = ('sunny', 'rainy')\n",
    "start_probability = {'sunny': 0.4, 'rainy': 0.6}\n",
    "transition_probability = {'sunny':{'sunny':0.6, 'rainy':0.4},\n",
    "                          'rainy': {'sunny':0.3, 'rainy':0.7}}\n",
    "emission_probability = {'sunny': {'dry':0.6, 'damp':0.3, 'soggy':0.1},\n",
    "                        'rainy': {'dry':0.1, 'damp':0.4, 'soggy':0.5}}"
   ]
  },
  {
   "cell_type": "code",
   "execution_count": 4,
   "metadata": {},
   "outputs": [
    {
     "name": "stdout",
     "output_type": "stream",
     "text": [
      "0.08639999999999999\n",
      "sunny \n",
      "\n",
      "0.010799999999999999\n",
      "rainy \n",
      "\n",
      "0.009600000000000001\n",
      "sunny \n",
      "\n",
      "0.0042\n",
      "rainy \n",
      "\n",
      "0.003887999999999999\n",
      "sunny \n",
      "\n",
      "0.0007559999999999998\n",
      "rainy \n",
      "\n",
      "0.00043200000000000004\n",
      "sunny \n",
      "\n",
      "0.000294\n",
      "rainy \n",
      "\n",
      "[{'sunny': 0.24, 'rainy': 0.06}, {'sunny': 0.010799999999999999, 'rainy': 0.0042}, {'sunny': 0.0007559999999999998, 'rainy': 0.000294}] \n",
      "\n"
     ]
    }
   ],
   "source": [
    "V = [{}]\n",
    "path = {}\n",
    "for y in states:\n",
    "    # 計算初始x發射機率\n",
    "    V[0][y] = start_probability[y] * emission_probability[y][observations[0]]\n",
    "    # 將初始狀況加進 path\n",
    "    path[y] = [y]\n",
    "    \n",
    "for t in range(1, len(observations)): #跑後續所有觀察狀況\n",
    "    V.append({})\n",
    "    newpath = {}\n",
    "    # 計算後續機率\n",
    "    for cur_state in states: # 現在狀況\n",
    "        for pre_state in states: #前一個狀況\n",
    "            pre_V = V[t-1][pre_state] #前一個機率\n",
    "            trans_p = transition_probability[pre_state][cur_state]\n",
    "            emit_p = emission_probability[cur_state][observations[t]]\n",
    "            \n",
    "            V[t][cur_state] = max([(pre_V * trans_p * emit_p)])\n",
    "            state = pre_state\n",
    "            print(V[t][cur_state])\n",
    "            print(state, '\\n')\n",
    "\n",
    "            newpath[cur_state] = path[state] + [cur_state]\n",
    "        path = newpath\n",
    "(prob, state) = max([(V[len(observations) - 1][final_state], final_state) for final_state in states])\n",
    "\n",
    "print(V, '\\n')"
   ]
  },
  {
   "cell_type": "code",
   "execution_count": 431,
   "metadata": {},
   "outputs": [],
   "source": [
    "def viterbi(obs, states, start_p, trans_p, emit_p):\n",
    "    V = [{}]\n",
    "    path = {}\n",
    "\n",
    "    # Initialize base cases (t == 0)\n",
    "    for y in states:\n",
    "        # 計算初始*發射機率\n",
    "        V[0][y] = start_p[y] * emit_p[y][obs[0]]\n",
    "        # 將初始狀況加進 paththenme\n",
    "        path[y] = [y]\n",
    "\n",
    "        \n",
    "    # Run Viterbi for t > 0\n",
    "    for t in range(1,len(obs)):\n",
    "        V.append({})\n",
    "        newpath = {}\n",
    "        \n",
    "        # 計算後續機率\n",
    "        for cur_state in states:\n",
    "            (prob, state) = max([(\n",
    "                V[t-1][pre_state] * trans_p[pre_state][cur_state] * emit_p[cur_state][obs[t]],\n",
    "                pre_state)\n",
    "                for pre_state in states\n",
    "            ])\n",
    "            \n",
    "            V[t][cur_state] = prob\n",
    "            newpath[cur_state] = path[state] + [cur_state]\n",
    "        \n",
    "        path = newpath\n",
    "        print('\\n抵達第 {} 節點最可能路徑為 {}'.format((str(t+1)), [i for i in newpath.values()]))\n",
    "\n",
    "    (prob, state) = max([(V[len(obs) - 1][final_state], final_state) for final_state in states])\n",
    "    print('\\n最終結果:\\n>>> 最可能路徑: {}\\n>>> 機率: {}'.format(path[state], round(prob, 5)))\n",
    "    \n",
    "    return (round(prob, 5), path[state])"
   ]
  },
  {
   "cell_type": "code",
   "execution_count": 432,
   "metadata": {},
   "outputs": [
    {
     "name": "stdout",
     "output_type": "stream",
     "text": [
      "\n",
      "抵達第 2 節點最可能路徑為 [['sunny', 'sunny'], ['sunny', 'rainy']]\n",
      "\n",
      "抵達第 3 節點最可能路徑為 [['sunny', 'sunny', 'sunny'], ['sunny', 'sunny', 'rainy']]\n",
      "\n",
      "最終結果:\n",
      ">>> 最可能路徑: ['sunny', 'sunny', 'sunny']\n",
      ">>> 機率: 0.0311\n"
     ]
    }
   ],
   "source": [
    "observations = ('dry', 'dry', 'dry')\n",
    "result = viterbi(observations,\n",
    "                 states,\n",
    "                 start_probability,\n",
    "                 transition_probability,\n",
    "                 emission_probability)"
   ]
  },
  {
   "cell_type": "code",
   "execution_count": 433,
   "metadata": {},
   "outputs": [
    {
     "name": "stdout",
     "output_type": "stream",
     "text": [
      "\n",
      "抵達第 2 節點最可能路徑為 [['sunny', 'sunny'], ['sunny', 'rainy']]\n",
      "\n",
      "抵達第 3 節點最可能路徑為 [['sunny', 'rainy', 'sunny'], ['sunny', 'rainy', 'rainy']]\n",
      "\n",
      "最終結果:\n",
      ">>> 最可能路徑: ['sunny', 'rainy', 'rainy']\n",
      ">>> 機率: 0.02419\n"
     ]
    }
   ],
   "source": [
    "observations = ('dry', 'damp', 'damp')\n",
    "result = viterbi(observations,\n",
    "                 states,\n",
    "                 start_probability,\n",
    "                 transition_probability,\n",
    "                 emission_probability)"
   ]
  }
 ],
 "metadata": {
  "kernelspec": {
   "display_name": "Python 3",
   "language": "python",
   "name": "python3"
  },
  "language_info": {
   "codemirror_mode": {
    "name": "ipython",
    "version": 3
   },
   "file_extension": ".py",
   "mimetype": "text/x-python",
   "name": "python",
   "nbconvert_exporter": "python",
   "pygments_lexer": "ipython3",
   "version": "3.6.8"
  }
 },
 "nbformat": 4,
 "nbformat_minor": 4
}
