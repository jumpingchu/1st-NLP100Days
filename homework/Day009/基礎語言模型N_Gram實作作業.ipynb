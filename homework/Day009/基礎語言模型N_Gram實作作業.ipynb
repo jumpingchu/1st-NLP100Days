{
 "cells": [
  {
   "cell_type": "markdown",
   "metadata": {},
   "source": [
    "### 作業目的: 使用N-Gram模型預測文字\n",
    "\n",
    "本次作業會使用[桃園市官網市政新聞](https://data.gov.tw/dataset/25891)來進行練習"
   ]
  },
  {
   "cell_type": "markdown",
   "metadata": {},
   "source": [
    "### 載入所需的Libraries"
   ]
  },
  {
   "cell_type": "code",
   "execution_count": 1,
   "metadata": {},
   "outputs": [],
   "source": [
    "import json\n",
    "import re\n",
    "from collections import Counter, namedtuple"
   ]
  },
  {
   "cell_type": "markdown",
   "metadata": {},
   "source": [
    "---\n",
    "### 載入資料"
   ]
  },
  {
   "cell_type": "code",
   "execution_count": 2,
   "metadata": {},
   "outputs": [],
   "source": [
    "# 使用 json.load()\n",
    "\n",
    "# news_data = json.load(open('./WebNews.json', 'r'))\n",
    "# news_data[:20]"
   ]
  },
  {
   "cell_type": "code",
   "execution_count": 3,
   "metadata": {},
   "outputs": [],
   "source": [
    "with open('./WebNews.json', 'r') as f:\n",
    "    news_data = json.load(f)"
   ]
  },
  {
   "cell_type": "code",
   "execution_count": 4,
   "metadata": {},
   "outputs": [
    {
     "data": {
      "text/plain": [
       "list"
      ]
     },
     "execution_count": 4,
     "metadata": {},
     "output_type": "execute_result"
    }
   ],
   "source": [
    "type(news_data)"
   ]
  },
  {
   "cell_type": "code",
   "execution_count": 5,
   "metadata": {
    "scrolled": true
   },
   "outputs": [
    {
     "data": {
      "text/plain": [
       "[{'file': [],\n",
       "  'link': [],\n",
       "  'id': '202006110003',\n",
       "  'istop': 'N',\n",
       "  'img': [{'imgname': '0611桃園屏東_200611_0004.jpg',\n",
       "    'imgcontent': '<br>鄭<br>市<br>長<br>與<br>潘<br>縣<br>長<br>合<br>體<br>推<br>廣<br>防<br>疫<br>互<br>惠<br>旅<br>遊<br>',\n",
       "    'imgurl': 'http://www.tycg.gov.tw/uploaddowndoc?file=news/202006111817400.jpg&filedisplay=202006111817400.jpg&flag=pic'},\n",
       "   {'imgname': '0611桃園屏東_200611_0005.jpg',\n",
       "    'imgcontent': '<br>潘<br>縣<br>長<br>挑<br>選<br>屏<br>東<br>特<br>色<br>伴<br>手<br>禮<br>致<br>贈<br>鄭<br>市<br>長<br>',\n",
       "    'imgurl': 'http://www.tycg.gov.tw/uploaddowndoc?file=news/202006111817401.jpg&filedisplay=202006111817401.jpg&flag=pic'},\n",
       "   {'imgname': '0611桃園屏東_200611_0007.jpg',\n",
       "    'imgcontent': '<br>鄭<br>市<br>長<br>精<br>心<br>準<br>備<br>桃<br>園<br>特<br>色<br>伴<br>手<br>禮<br>送<br>給<br>潘<br>縣<br>長<br>',\n",
       "    'imgurl': 'http://www.tycg.gov.tw/uploaddowndoc?file=news/202006111817402.jpg&filedisplay=202006111817402.jpg&flag=pic'},\n",
       "   {'imgname': '0611桃園屏東_200611_0006.jpg',\n",
       "    'imgcontent': '<br>桃<br>園<br>市<br>觀<br>光<br>旅<br>遊<br>發<br>展<br>協<br>會<br>李<br>理<br>事<br>長<br>特<br>別<br>致<br>贈<br>端<br>午<br>粽<br>子<br>給<br>屏<br>東<br>縣<br>政<br>府<br>團<br>隊<br>',\n",
       "    'imgurl': 'http://www.tycg.gov.tw/uploaddowndoc?file=news/202006111819460.jpg&filedisplay=202006111819460.jpg&flag=pic'},\n",
       "   {'imgname': '0611桃園屏東_200611_0008.jpg',\n",
       "    'imgcontent': '<br>潘<br>縣<br>長<br>推<br>薦<br>親<br>子<br>旅<br>遊<br>首<br>選<br>屏<br>東<br>',\n",
       "    'imgurl': 'http://www.tycg.gov.tw/uploaddowndoc?file=news/202006111819461.jpg&filedisplay=202006111819461.jpg&flag=pic'},\n",
       "   {'imgname': '0611桃園屏東_200611_0009.jpg',\n",
       "    'imgcontent': '<br>鄭<br>市<br>長<br>期<br>盼<br>透<br>過<br>互<br>惠<br>旅<br>遊<br>，<br>國<br>境<br>之<br>南<br>與<br>國<br>境<br>之<br>門<br>有<br>最<br>好<br>的<br>交<br>流<br>',\n",
       "    'imgurl': 'http://www.tycg.gov.tw/uploaddowndoc?file=news/202006111819462.jpg&filedisplay=202006111819462.jpg&flag=pic'},\n",
       "   {'imgname': '0611桃園屏東_200611_0010.jpg',\n",
       "    'imgcontent': '<br>桃<br>園<br>Ｘ<br>屏<br>東<br>，<br>旅<br>遊<br>優<br>惠<br>一<br>波<br>接<br>一<br>波<br>',\n",
       "    'imgurl': 'http://www.tycg.gov.tw/uploaddowndoc?file=news/202006111816210.jpg&filedisplay=202006111816210.jpg&flag=pic'},\n",
       "   {'imgname': '0611桃園屏東_200611_0002.jpg',\n",
       "    'imgcontent': '<br>桃<br>園<br>伴<br>手<br>禮<br>種<br>類<br>多<br>元<br>',\n",
       "    'imgurl': 'http://www.tycg.gov.tw/uploaddowndoc?file=news/202006111816211.jpg&filedisplay=202006111816211.jpg&flag=pic'},\n",
       "   {'imgname': '0611桃園屏東_200611_0003.jpg',\n",
       "    'imgcontent': '<br>大<br>合<br>照<br>',\n",
       "    'imgurl': 'http://www.tycg.gov.tw/uploaddowndoc?file=news/202006111816212.jpg&filedisplay=202006111816212.jpg&flag=pic'}],\n",
       "  'subject': '迎接國旅爆發期，五星縣市長合體推廣桃園、屏東互惠旅遊',\n",
       "  'datasourceunit': '新聞處',\n",
       "  'liaisonemail': '',\n",
       "  'fsort': 2,\n",
       "  'detailcontent': '<strong>迎接國旅爆發期，五星縣市長合體推廣桃園、屏東互惠旅遊</strong><br />&nbsp;<br />桃園市長鄭文燦今（11）日下午出席「桃園加屏東『旅遊優惠強棒一棒接一棒』好康發表記者會」，鄭市長表示，隨著疫情趨緩，國內進入國旅爆發期，觀光局近期公布最新10大熱門旅遊景點，桃園包辦前三名，依序為大溪老街、石門水庫及角板山，顯示桃園旅遊的潛力無限；鄭市長說，桃園市與屏東縣各自擁有獨特的觀光魅力與資源，希望能搭配中央觀光振興方案，共同推廣防疫互惠旅遊，並推出更多加碼優惠措施，降低民眾的旅遊負擔、增加旅遊的樂趣，也讓國境之南與國境之門做最好的交流。<br />&nbsp;<br />鄭市長提到，桃園是國門之都、屏東是國境之南，兩個城市各有特色及魅力，許多景點也互相輝映，假如你喜歡屏東的山川琉璃吊橋，絕對不能錯過桃園的新溪口吊橋，如果你喜歡大溪老街，也應該去恆春古城漫遊；鄭市長說，許多民眾造訪過很多國外景點，例如普吉島、巴里島，卻沒有到過小琉球、澎湖等離島，十分可惜；他也稱讚屏東幅員遼闊，擁有多樣化的景點，墾丁更是國內旅遊勝地之一，希望現階段推動防疫新生活的同時，桃園也能與各縣市合作，一起推廣防疫互惠旅遊，讓更多在地旅遊業者受惠。<br />&nbsp;<br />桃園預估下半年包含鄰里長、環保志工、守望相助隊、義警民防等觀摩旅遊團數，出團數將達500團以上，目前桃園第一階段已經與基隆、台南、屏東等縣市簽署合作契約，第二階段將與宜蘭、花蓮、南投、嘉義等縣市合作，希望未來逐漸擴大至其他縣市，提供遊客更多優惠措施；鄭市長也說，屏東縣推出三鐵優惠方案，桃園市自7月1日起推出「來桃園住一晚‧加贈免費一日遊」方案，遊客來桃園在合法旅宿住一晚，即可獲得市府加贈免費一日遊行程，內容包含遊覽車接送、午餐、景點門票或DIY體驗等，期盼帶領遊客體驗桃園的觀光魅力；此外，民眾也可以持200元振興三倍券兌換400元夜市券，藉此鼓勵民眾到夜市消費，市府未來也將陸續推出更多的加碼優惠措施。<br />&nbsp;<br />屏東縣長潘孟安則希望在鄭市長推廣下，吸引更多桃園市民到屏東旅遊，他表示，桃園為國境之門，擁有很大的發展優勢，在鄭市長帶領下，桃園連續多年結婚率及出生率都是全國之冠，也成為一座宜居城市，他也特別推薦親子旅遊首選屏東，屏東縣政府整合轄內旅宿業者、伴手禮業者、食品業者等，推出「鐵定加碼、鐵定貼心、鐵定好玩」三鐵優惠，7月15日以前，遊客在恆春地區住宿一晚，即加贈場館門票或等值餐飲券，在東港地區住宿則可用10元加購伴手禮及小王馬福袋；10人以上團體旅遊，每人可獲得500元旅費補助，每團上限1萬元，屏東也有許多當季優質農特產品及特色伴手禮，歡迎桃園市民踴躍到屏東旅遊，保證遊客玩得痛快、買得愉快、吃得爽快。<br />&nbsp;<br />全國中等學校運動會今（109）年首度移師屏東舉辦，潘縣長也特別邀請鄭市長在7月18日開幕式當天，帶領市府團隊一同到屏東為桃園選手加油打氣，爭取比賽佳績，同時也抽空享受屏東的湖光山色，以及感受屏東鄉親的熱情。<br />&nbsp;<br />鄭市長與潘縣長在活動現場互贈特色伴手禮，鄭市長表示，桃園雖然是工業重鎮，但在地農特產品類型多元，食品工業也十分蓬勃，這次市府團隊特別挑選東方美人茶、黃金蜜、吻仔魚海鮮醬、棗到杏福等特色伴手禮送給潘縣長及屏東縣政府團隊；鄭市長也說，桃園接下來幾乎每個月都會有一場以上的大型觀光活動，可說月月都精彩，呼籲屏東鄉親也來桃園走走，促進桃園與屏東的互相交流；潘縣長則特別挑選花襯衫、世界金牌巧克力、金牌咖啡，及全中運吉祥物「驕（鳥）仔」玩偶送給鄭市長。<br />&nbsp;<br />今日包括市議員王仙蓮、呂林小鳳、陳美梅、簡志偉、屏東縣長潘孟安、屏東縣政府交通旅遊處處長黃國維、傳播暨國際事務處處長黃建嘉、研考處處長鄞鳳蘭、農業處副處長鄭永裕、桃園市政府副秘書長何明光、觀旅局長楊勝評、經發局長郭裕信、研考會主委吳君婷、警察局長陳國進、人事處長黃新雛、環保局長呂理德、農業局副局長江富貴、桃園市工商發展投資策進會總幹事陳家濬、屏東旅遊集團董事長郭子義、屏東縣恆春半島觀光產業聯盟理事長林榮欽、屏東縣觀光協會副理事長吳炫東、大鵬灣觀光產業聯盟總幹事徐鳴懋、大鵬灣觀光產業聯盟副總幹事黃啟禎、桃園市觀光旅遊發展協會理事長李三連、桃園市旅館商業同業公會理事長邱照進、桃園市觀光工廠促進發展協會理事長林世閎、桃園市民宿發展協會理事長陳秉弘、雄獅集團總經理劉冷紅等均一同出席活動。<br />&nbsp;',\n",
       "  'secsubject': '',\n",
       "  'closedate': '',\n",
       "  'liaisonfax': '',\n",
       "  'postdate': '2020-06-11',\n",
       "  'postunit': '新聞處',\n",
       "  'liaisonper': '',\n",
       "  'liaisontel': '',\n",
       "  'topdate': '1900-01-01 00:00:00.0'},\n",
       " {'file': [],\n",
       "  'link': [],\n",
       "  'id': '202006110002',\n",
       "  'istop': 'N',\n",
       "  'img': [{'imgname': '0611慰問怡仁醫院暨捐贈防疫物資_200611_0001.jpg',\n",
       "    'imgcontent': '<br>市<br>長<br>感<br>謝<br>鴻<br>福<br>食<br>品<br>力<br>挺<br>怡<br>仁<br>醫<br>院<br>',\n",
       "    'imgurl': 'http://www.tycg.gov.tw/uploaddowndoc?file=news/202006111645370.jpg&filedisplay=202006111645370.jpg&flag=pic'},\n",
       "   {'imgname': '0611慰問怡仁醫院暨捐贈防疫物資_200611_0002.jpg',\n",
       "    'imgcontent': '<br>市<br>長<br>頒<br>發<br>感<br>謝<br>狀<br>予<br>鋒<br>尚<br>精<br>密<br>公<br>司<br>',\n",
       "    'imgurl': 'http://www.tycg.gov.tw/uploaddowndoc?file=news/202006111645371.jpg&filedisplay=202006111645371.jpg&flag=pic'},\n",
       "   {'imgname': '0611慰問怡仁醫院暨捐贈防疫物資_200611_0003.jpg',\n",
       "    'imgcontent': '<br>市<br>長<br>致<br>詞<br>表<br>示<br>，<br>感<br>謝<br>怡<br>仁<br>醫<br>院<br>第<br>一<br>線<br>醫<br>護<br>人<br>員<br>辛<br>勞<br>，<br>也<br>感<br>謝<br>民<br>間<br>企<br>業<br>捐<br>贈<br>防<br>疫<br>物<br>資<br>',\n",
       "    'imgurl': 'http://www.tycg.gov.tw/uploaddowndoc?file=news/202006111645372.jpg&filedisplay=202006111645372.jpg&flag=pic'},\n",
       "   {'imgname': '0611慰問怡仁醫院暨捐贈防疫物資_200611_0004.jpg',\n",
       "    'imgcontent': '<br>市<br>長<br>頒<br>發<br>感<br>謝<br>狀<br>予<br>鴻<br>福<br>食<br>品<br>公<br>司<br>',\n",
       "    'imgurl': 'http://www.tycg.gov.tw/uploaddowndoc?file=news/202006111646030.jpg&filedisplay=202006111646030.jpg&flag=pic'},\n",
       "   {'imgname': '0611慰問怡仁醫院暨捐贈防疫物資_200611_0005.jpg',\n",
       "    'imgcontent': '<br>市<br>長<br>感<br>謝<br>鋒<br>尚<br>精<br>密<br>公<br>司<br>捐<br>贈<br>1<br>,<br>4<br>4<br>0<br>瓶<br>酒<br>精<br>乾<br>洗<br>手<br>噴<br>霧<br>予<br>怡<br>仁<br>醫<br>院<br>',\n",
       "    'imgurl': 'http://www.tycg.gov.tw/uploaddowndoc?file=news/202006111646031.jpg&filedisplay=202006111646031.jpg&flag=pic'},\n",
       "   {'imgname': '0611慰問怡仁醫院暨捐贈防疫物資_200611_0006.jpg',\n",
       "    'imgcontent': '<br>市<br>長<br>與<br>怡<br>仁<br>醫<br>院<br>院<br>長<br>李<br>典<br>穎<br>合<br>影<br>',\n",
       "    'imgurl': 'http://www.tycg.gov.tw/uploaddowndoc?file=news/202006111646032.jpg&filedisplay=202006111646032.jpg&flag=pic'},\n",
       "   {'imgname': '0611慰問怡仁醫院暨捐贈防疫物資_200611_0007.jpg',\n",
       "    'imgcontent': '<br>怡<br>仁<br>醫<br>院<br>院<br>長<br>李<br>典<br>穎<br>表<br>示<br>，<br>感<br>謝<br>市<br>府<br>於<br>疫<br>情<br>之<br>初<br>，<br>即<br>整<br>合<br>1<br>1<br>家<br>醫<br>院<br>成<br>立<br>聯<br>防<br>醫<br>療<br>網<br>，<br>有<br>效<br>率<br>的<br>整<br>合<br>及<br>調<br>度<br>防<br>疫<br>物<br>資<br>',\n",
       "    'imgurl': 'http://www.tycg.gov.tw/uploaddowndoc?file=news/202006111646280.jpg&filedisplay=202006111646280.jpg&flag=pic'},\n",
       "   {'imgname': '0611慰問怡仁醫院暨捐贈防疫物資_200611_0008.jpg',\n",
       "    'imgcontent': '<br>捐<br>贈<br>物<br>資<br>酒<br>精<br>清<br>潔<br>液<br>',\n",
       "    'imgurl': 'http://www.tycg.gov.tw/uploaddowndoc?file=news/202006111646281.jpg&filedisplay=202006111646281.jpg&flag=pic'},\n",
       "   {'imgname': '0611慰問怡仁醫院暨捐贈防疫物資_200611_0009.jpg',\n",
       "    'imgcontent': '<br>感<br>謝<br>民<br>間<br>捐<br>贈<br>防<br>疫<br>物<br>資<br>予<br>怡<br>仁<br>醫<br>院<br>',\n",
       "    'imgurl': 'http://www.tycg.gov.tw/uploaddowndoc?file=news/202006111646282.jpg&filedisplay=202006111646282.jpg&flag=pic'},\n",
       "   {'imgname': '0611慰問怡仁醫院暨捐贈防疫物資_200611_0010.jpg',\n",
       "    'imgcontent': '<br>怡<br>仁<br>醫<br>院<br>醫<br>護<br>人<br>員<br>',\n",
       "    'imgurl': 'http://www.tycg.gov.tw/uploaddowndoc?file=news/202006111646510.jpg&filedisplay=202006111646510.jpg&flag=pic'},\n",
       "   {'imgname': '0611慰問怡仁醫院暨捐贈防疫物資_200611_0011.jpg',\n",
       "    'imgcontent': '<br>市<br>府<br>感<br>謝<br>狀<br>及<br>致<br>贈<br>物<br>資<br>',\n",
       "    'imgurl': 'http://www.tycg.gov.tw/uploaddowndoc?file=news/202006111646511.jpg&filedisplay=202006111646511.jpg&flag=pic'},\n",
       "   {'imgname': '0611慰問怡仁醫院暨捐贈防疫物資_200611_0012.jpg',\n",
       "    'imgcontent': '<br>市<br>長<br>與<br>醫<br>護<br>人<br>員<br>互<br>動<br>',\n",
       "    'imgurl': 'http://www.tycg.gov.tw/uploaddowndoc?file=news/202006111646512.jpg&filedisplay=202006111646512.jpg&flag=pic'},\n",
       "   {'imgname': '0611慰問怡仁醫院暨捐贈防疫物資_200611_0013.jpg',\n",
       "    'imgcontent': '<br>醫<br>護<br>人<br>員<br>協<br>助<br>市<br>長<br>進<br>行<br>手<br>部<br>清<br>潔<br>',\n",
       "    'imgurl': 'http://www.tycg.gov.tw/uploaddowndoc?file=news/202006111647100.jpg&filedisplay=202006111647100.jpg&flag=pic'},\n",
       "   {'imgname': '0611慰問怡仁醫院暨捐贈防疫物資_200611_0014.jpg',\n",
       "    'imgcontent': '<br>市<br>長<br>與<br>貴<br>賓<br>及<br>醫<br>護<br>人<br>員<br>合<br>影<br>',\n",
       "    'imgurl': 'http://www.tycg.gov.tw/uploaddowndoc?file=news/202006111647101.jpg&filedisplay=202006111647101.jpg&flag=pic'}],\n",
       "  'subject': '鄭市長慰問怡仁醫院第一線醫護人員辛勞，感謝民間企業捐贈防疫物資',\n",
       "  'datasourceunit': '新聞處',\n",
       "  'liaisonemail': '',\n",
       "  'fsort': 2,\n",
       "  'detailcontent': '<strong>鄭市長慰問怡仁醫院第一線醫護人員辛勞，感謝民間企業捐贈防疫物資</strong><br />&nbsp;<br />桃園市長鄭文燦今（11）日下午前往楊梅區怡仁醫院，慰問醫護人員，並感謝鴻福食品公司及鋒尚精密公司捐贈防疫物資，同時頒發感謝狀予2家公司。鄭市長表示，感謝醫護人員於疫情期間，發揮專業為市民朋友健康把關，在第一線支援防疫醫療工作，非常辛苦，也感謝楊梅在地企業鴻福食品公司捐贈動物造型餅乾及沙琪瑪各600袋、鋒尚精密公司捐贈30箱酒精乾洗手噴霧予怡仁醫院，共同為防疫盡一份心力。<br />&nbsp;<br />鄭市長提及，市府於防疫期間，每天召開防疫會議，直到6月7日，在中央疫情指揮中心宣布國內階段性解封後，市府才降低召開會議的頻率。桃園為國境第一線，許多集中檢疫所也在桃園，因此防疫負擔沉重，桃園的確診案例為53位，而收治101位確診病患，佔全國約占約2成多，居家隔離及檢疫人數則約為2萬人，桃園更發生幾次指標性案例，例如：首次醫院群聚感染、長照機構護理師確診案、交通部觀光局員工小孩遭感染確診案、酒店公關確診案及磐石艦隊官兵確診案等，桃園市都盡最大努力，做好防疫的工作，也有很多貢獻。<br />&nbsp;<br />鄭市長表示，感謝防疫期間第一線醫護人員的辛勞，不僅要守護市民健康，還要注意自身安全，因為有大家的辛苦貢獻，讓台灣打了一場成功的防疫戰，不僅增加國人對國家的信心及認同，也提高台灣在國際的可見度，並提供全世界最好的防疫經驗。近期疫情雖然稍緩，但國境尚未解封，仍要防止境外移入的個案，必須保持警戒，不能鬆懈，持續努力。<br />&nbsp;<br />怡仁綜合醫院院長李典穎表示，全球疫情相當嚴重，約有700萬人次確診、40萬人死亡，而台灣在政府及國人的努力下，疫情相對緩和，其中第一線醫護人員更是功不可沒。而怡仁醫院身為桃園11家急救責任醫院，防疫期間也全力配合中央及市府，積極參與防疫工作，包括添購紅外線體溫感測儀、建置醫護人員插管使用隔離箱、開發健保卡與旅遊史結合的系統供各醫療院所使用等，為防疫工作超前部署。<br />&nbsp;<br />李院長也說，感謝市府於疫情之初，即整合11家醫院成立聯防醫療網，有效率的整合及調度防疫物資，並積極募款經費及物資，給醫護人員最大的支持，讓醫護人員無後顧之憂，也感謝市長多次至第一線鼓舞防疫同仁，慰勉醫護人員的辛勞。另也感謝許多廠商捐贈物資及食物，幫第一線同仁加油打氣，近期疫情趨緩，但院內醫護人員仍不鬆懈的為疫情奮戰，持續努力為南桃園的市民健康把關。<br />&nbsp;<br />今日包括議員鄭淑方、怡仁綜合醫院院長李典穎、鴻福食品工廠有限公司董事長鄭福來、鋒尚精密有限公司董事長吳榮哲、啟翔輕金屬科技股份有限公司董事長陳百欽、交通大學管理學院院長鐘惠民、市府衛生局副局長蘇柏文、經發局主秘熊勇智、楊梅區長羅國裕、桃園工策會總幹事陳家濬均一同進行慰問。<br />&nbsp;',\n",
       "  'secsubject': '',\n",
       "  'closedate': '',\n",
       "  'liaisonfax': '',\n",
       "  'postdate': '2020-06-11',\n",
       "  'postunit': '新聞處',\n",
       "  'liaisonper': '',\n",
       "  'liaisontel': '',\n",
       "  'topdate': '1900-01-01 00:00:00.0'}]"
      ]
     },
     "execution_count": 5,
     "metadata": {},
     "output_type": "execute_result"
    }
   ],
   "source": [
    "news_data[:2]"
   ]
  },
  {
   "cell_type": "markdown",
   "metadata": {},
   "source": [
    "---\n",
    "### 進行資料清洗\n",
    "觀察上面的資料，資料包含許多其他的資訊，我們需要將真正的新聞內文取出，並且對內文進行文字清洗。\n",
    "請做以下的文字處理:\n",
    "\n",
    "1. 取出新聞內文\n",
    "2. 去除HTML Tags\n",
    "3. 移除標點符號，只保留英文、數字、中文"
   ]
  },
  {
   "cell_type": "code",
   "execution_count": 6,
   "metadata": {},
   "outputs": [],
   "source": [
    "#取出新聞內文\n",
    "corpus_list = [content['detailcontent'] for content in news_data]"
   ]
  },
  {
   "cell_type": "code",
   "execution_count": 7,
   "metadata": {},
   "outputs": [
    {
     "data": {
      "text/plain": [
       "'迎接國旅爆發期五星縣市長合體推廣桃園屏東互惠旅遊桃園市長鄭文燦今11日下午出席桃園加屏東旅遊優惠強棒一棒接一棒好康發表記者會鄭市長表示隨著疫情趨緩國內進入國旅爆發期觀光局近期公布最新10大熱門旅遊景點桃園包辦前三名依序為大溪老街石門水庫及角板山顯示桃園旅遊的潛力無限鄭市長說桃園市與屏東縣各自擁有獨特的觀光魅力與資源希望能搭配中央觀光振興方案共同推廣防疫互惠旅遊並推出更多加碼優惠措施降低民眾的旅遊負擔增加旅遊的樂趣也讓國境之南與國境之門做最好的交流鄭市長提到桃園是國門之都屏東是國境之南兩個城市各有特色及魅力許多景點也互相輝映假如你喜歡屏東的山川琉璃吊橋絕對不能錯過桃園的新溪口吊橋如果你喜歡大溪老街也應該去恆春古城漫遊鄭市長說許多民眾造訪過很多國外景點例如普吉島巴里島卻沒有到過小琉球澎湖等離島十分可惜他也稱讚屏東幅員遼闊擁有多樣化的景點墾丁更是國內旅遊勝地之一希望現階段推動防疫新生活的同時桃園也能與各縣市合作一起推廣防疫互惠旅遊讓更多在地旅遊業者受惠桃園預估下半年包含鄰里長環保志工守望相助隊義警民防等觀摩旅遊團數出團數將達500團以上目前桃園第一階段已經與基隆台南屏東等縣市簽署合作契約第二階段將與宜蘭花蓮南投嘉義等縣市合作希望未來逐漸擴大至其他縣市提供遊客更多優惠措施鄭市長也說屏東縣推出三鐵優惠方案桃園市自7月1日起推出來桃園住一晚加贈免費一日遊方案遊客來桃園在合法旅宿住一晚即可獲得市府加贈免費一日遊行程內容包含遊覽車接送午餐景點門票或體驗等期盼帶領遊客體驗桃園的觀光魅力此外民眾也可以持200元振興三倍券兌換400元夜市券藉此鼓勵民眾到夜市消費市府未來也將陸續推出更多的加碼優惠措施屏東縣長潘孟安則希望在鄭市長推廣下吸引更多桃園市民到屏東旅遊他表示桃園為國境之門擁有很大的發展優勢在鄭市長帶領下桃園連續多年結婚率及出生率都是全國之冠也成為一座宜居城市他也特別推薦親子旅遊首選屏東屏東縣政府整合轄內旅宿業者伴手禮業者食品業者等推出鐵定加碼鐵定貼心鐵定好玩三鐵優惠7月15日以前遊客在恆春地區住宿一晚即加贈場館門票或等值餐飲券在東港地區住宿則可用10元加購伴手禮及小王馬福袋10人以上團體旅遊每人可獲得500元旅費補助每團上限1萬元屏東也有許多當季優質農特產品及特色伴手禮歡迎桃園市民踴躍到屏東旅遊保證遊客玩得痛快買得愉快吃得爽快全國中等學校運動會今109年首度移師屏東舉辦潘縣長也特別邀請鄭市長在7月18日開幕式當天帶領市府團隊一同到屏東為桃園選手加油打氣爭取比賽佳績同時也抽空享受屏東的湖光山色以及感受屏東鄉親的熱情鄭市長與潘縣長在活動現場互贈特色伴手禮鄭市長表示桃園雖然是工業重鎮但在地農特產品類型多元食品工業也十分蓬勃這次市府團隊特別挑選東方美人茶黃金蜜吻仔魚海鮮醬棗到杏福等特色伴手禮送給潘縣長及屏東縣政府團隊鄭市長也說桃園接下來幾乎每個月都會有一場以上的大型觀光活動可說月月都精彩呼籲屏東鄉親也來桃園走走促進桃園與屏東的互相交流潘縣長則特別挑選花襯衫世界金牌巧克力金牌咖啡及全中運吉祥物驕鳥仔玩偶送給鄭市長今日包括市議員王仙蓮呂林小鳳陳美梅簡志偉屏東縣長潘孟安屏東縣政府交通旅遊處處長黃國維傳播暨國際事務處處長黃建嘉研考處處長鄞鳳蘭農業處副處長鄭永裕桃園市政府副秘書長何明光觀旅局長楊勝評經發局長郭裕信研考會主委吳君婷警察局長陳國進人事處長黃新雛環保局長呂理德農業局副局長江富貴桃園市工商發展投資策進會總幹事陳家濬屏東旅遊集團董事長郭子義屏東縣恆春半島觀光產業聯盟理事長林榮欽屏東縣觀光協會副理事長吳炫東大鵬灣觀光產業聯盟總幹事徐鳴懋大鵬灣觀光產業聯盟副總幹事黃啟禎桃園市觀光旅遊發展協會理事長李三連桃園市旅館商業同業公會理事長邱照進桃園市觀光工廠促進發展協會理事長林世閎桃園市民宿發展協會理事長陳秉弘雄獅集團總經理劉冷紅等均一同出席活動'"
      ]
     },
     "execution_count": 7,
     "metadata": {},
     "output_type": "execute_result"
    }
   ],
   "source": [
    "#去除HTML Tags與標點符號(只保留英文、數字、中文)\n",
    "corpus_list = list([''.join(re.findall(r'[\\u4E00-\\u9FA50-9]', content)) for content in corpus_list])\n",
    "corpus_list[0]"
   ]
  },
  {
   "cell_type": "markdown",
   "metadata": {},
   "source": [
    "---\n",
    "### 建立N-Gram模型\n",
    "N-Gram模型在計算詞機率時為(以Trigram為例)\n",
    "$$\n",
    "P(W_i|W_{i-1},W_{i-2}) = \\frac{count(W_i, W_{i-1}, W_{i-2})}{count(W_{i-1}, W_{i-2})}\n",
    "$$\n",
    "\n",
    "舉例來說\n",
    "$$\n",
    "P(the|this,is) = \\frac{count(this\\ is\\ the)}{count(this\\ is)}\n",
    "$$"
   ]
  },
  {
   "cell_type": "code",
   "execution_count": 78,
   "metadata": {},
   "outputs": [],
   "source": [
    "def ngram(documents, N=2):\n",
    "    \n",
    "    #建立儲存預測字, 所有ngram詞頻字典, 所有字詞(分母)\n",
    "    ngram_pred = dict()\n",
    "    total_grams = list()\n",
    "    words = list()\n",
    "    Word = namedtuple('Word', ['word', 'prob']) #使用namedtuple來儲存預測字詞與對應機率\n",
    "\n",
    "    for doc in documents:\n",
    "        # 在每個文章前加上起始(<start>)與結束符號(<end>)\n",
    "        w_list = ['<start>'] + list(doc) + ['<end>']\n",
    "        \n",
    "        # 計算分子\n",
    "        # 若２字一組做預測，總組數＝len(x)-1，最後１個字會落單所以不能計入\n",
    "        # 若３字一組做預測，總組數＝len(x)-2，最後２個字會落單所以不能計入\n",
    "        \n",
    "        for i in range(len(w_list)-N+1):\n",
    "            total_grams.append(tuple(w_list[i:i+N])) # eg. w_list[0:2]＝挑選最開頭２字\n",
    "        \n",
    "        # 計算分母\n",
    "        # 若２字一組做預測，分母為１字，總組數＝len(x)，無落單字\n",
    "        # 若３字一組做預測，分母為２字，總組數＝len(x)-1，最後１個字會落單所以不能計入\n",
    "        \n",
    "        for i in range(len(w_list)-N+2):\n",
    "            words.append(tuple(w_list[i:i+N-1]))\n",
    "    \n",
    "    #計算分子詞頻\n",
    "    total_word_counter = Counter(total_grams)\n",
    "    #計算分母詞頻\n",
    "    word_counter = Counter(words)\n",
    "    \n",
    "    #計算所有N-gram預測字詞的機率\n",
    "    for key in total_word_counter:\n",
    "        word = ''.join(key[:N-1])\n",
    "        if word not in ngram_pred:\n",
    "            ngram_pred.update({word: set()}) # two_gram_pred = {'桃': set()}\n",
    "\n",
    "        next_word_prob = total_word_counter[key]/word_counter[key[:N-1]]\n",
    "        w = Word(key[-1], next_word_prob) # w = Word(word='園', prob=0.92)\n",
    "        ngram_pred[word].add(w)\n",
    "        \n",
    "    return ngram_pred"
   ]
  },
  {
   "cell_type": "code",
   "execution_count": 100,
   "metadata": {
    "scrolled": true
   },
   "outputs": [
    {
     "data": {
      "text/plain": [
       "6607"
      ]
     },
     "execution_count": 100,
     "metadata": {},
     "output_type": "execute_result"
    }
   ],
   "source": [
    "total_word_counter[('桃', '園')] # Counter{(('桃', '園'), 6607), ()....}"
   ]
  },
  {
   "cell_type": "code",
   "execution_count": 105,
   "metadata": {},
   "outputs": [
    {
     "data": {
      "text/plain": [
       "7178"
      ]
     },
     "execution_count": 105,
     "metadata": {},
     "output_type": "execute_result"
    }
   ],
   "source": [
    "word_counter[('桃',)] # Counter{(('桃',), 7178), ()....}"
   ]
  },
  {
   "cell_type": "markdown",
   "metadata": {},
   "source": [
    "### 測試 two_gram_pred"
   ]
  },
  {
   "cell_type": "code",
   "execution_count": 76,
   "metadata": {
    "scrolled": false
   },
   "outputs": [
    {
     "name": "stdout",
     "output_type": "stream",
     "text": [
      "排列前:\n",
      " [Word(word='機', prob=0.0018110894399554194), Word(word='相', prob=0.00013931457230426304), Word(word='警', prob=0.00027862914460852607)]\n"
     ]
    }
   ],
   "source": [
    "two_gram_pred = dict()\n",
    "Word = namedtuple('Word', ['word', 'prob']) \n",
    "# 使用namedtuple來儲存預測字詞與對應機率\n",
    "# 宣告一種名稱(Word)且包含兩個欄位(word, prob)在一個list中\n",
    "\n",
    "for key in total_word_counter:\n",
    "    word = ''.join(key[:2-1])\n",
    "    if word not in two_gram_pred:\n",
    "        two_gram_pred.update({word: set()}) # two_gram_pred = {'桃': set()}\n",
    "    \n",
    "    next_word_prob = total_word_counter[key]/word_counter[key[:2-1]]\n",
    "    w = Word(key[-1], next_word_prob) # w = Word(word='園', prob=0.92)\n",
    "#     w = Word(key[-1], f'{next_word_prob}')# w = Word(word='園', prob='0.92')\n",
    "    two_gram_pred[word].add(w)\n",
    "\n",
    "print('排列前:\\n', list(two_gram_pred['桃'])[:3])"
   ]
  },
  {
   "cell_type": "code",
   "execution_count": 77,
   "metadata": {},
   "outputs": [
    {
     "name": "stdout",
     "output_type": "stream",
     "text": [
      "排列後:\n",
      " [Word(word='園', prob=0.9204513792142658), Word(word='捷', prob=0.022708275285594874), Word(word='市', prob=0.010866536639732517)]\n"
     ]
    }
   ],
   "source": [
    "for word, pred in two_gram_pred.items():\n",
    "    two_gram_pred[word] = sorted(pred, key=lambda x: x.prob, reverse=True)\n",
    "\n",
    "print('排列後:\\n', list(two_gram_pred['桃'])[:3])"
   ]
  },
  {
   "cell_type": "markdown",
   "metadata": {},
   "source": [
    "---\n",
    "### 使用N-Gram模型進行預測\n",
    "這裡我們使用4 gram模型，也就是輸入三個字之後，第四個字出現的機率，並將輸出依據機率做排序"
   ]
  },
  {
   "cell_type": "code",
   "execution_count": 79,
   "metadata": {},
   "outputs": [],
   "source": [
    "#建立four_gram模型，並將預測的機率按照大小排列\n",
    "four_gram_pred = ngram(documents=corpus_list, N=4)\n",
    "for word, pred in four_gram_pred.items():\n",
    "    four_gram_pred[word] = sorted(pred, key=lambda p: p.prob, reverse=True)"
   ]
  },
  {
   "cell_type": "code",
   "execution_count": 87,
   "metadata": {},
   "outputs": [
    {
     "data": {
      "text/plain": [
       "dict"
      ]
     },
     "execution_count": 87,
     "metadata": {},
     "output_type": "execute_result"
    }
   ],
   "source": [
    "# 執行時因為字典數龐大，顯示會較慢\n",
    "type(four_gram_pred)"
   ]
  },
  {
   "cell_type": "code",
   "execution_count": 81,
   "metadata": {},
   "outputs": [
    {
     "name": "stdout",
     "output_type": "stream",
     "text": [
      "next word: 今, probability: 0.9795698924731183\n",
      "next word: 市, probability: 0.00967741935483871\n",
      "next word: 模, probability: 0.002150537634408602\n",
      "next word: 表, probability: 0.002150537634408602\n",
      "next word: 於, probability: 0.001075268817204301\n",
      "next word: 率, probability: 0.001075268817204301\n",
      "next word: 台, probability: 0.001075268817204301\n",
      "next word: 成, probability: 0.001075268817204301\n",
      "next word: 回, probability: 0.001075268817204301\n",
      "next word: 昨, probability: 0.001075268817204301\n"
     ]
    }
   ],
   "source": [
    "#給定字詞，使用ngram預測下一個字的機率(顯示top 10)\n",
    "text = '鄭文燦'\n",
    "next_words = list(four_gram_pred[text])[:10]\n",
    "for next_word in next_words:\n",
    "    print('next word: {}, probability: {}'.format(next_word.word, next_word.prob))"
   ]
  },
  {
   "cell_type": "markdown",
   "metadata": {},
   "source": [
    "---\n",
    "### 可自行嘗試使用不同的N搭建不同的N-Gram模型的效果"
   ]
  },
  {
   "cell_type": "code",
   "execution_count": 82,
   "metadata": {},
   "outputs": [],
   "source": [
    "# 建立 trigram 模型，並將預測的機率按照大小排列\n",
    "tri_gram_pred = ngram(documents=corpus_list, N=3)\n",
    "for word, pred in tri_gram_pred.items():\n",
    "    tri_gram_pred[word] = sorted(pred, key=lambda p: p.prob, reverse=True)"
   ]
  },
  {
   "cell_type": "code",
   "execution_count": 84,
   "metadata": {},
   "outputs": [
    {
     "name": "stdout",
     "output_type": "stream",
     "text": [
      "next word: 燦, probability: 1.0\n"
     ]
    }
   ],
   "source": [
    "# 給定字詞，使用 ngram 預測下一個字的機率 (顯示 Top 10)\n",
    "text = '鄭文'\n",
    "next_words = list(tri_gram_pred[text])[:10]\n",
    "for next_word in next_words:\n",
    "    print('next word: {}, probability: {}'.format(next_word.word, next_word.prob))"
   ]
  },
  {
   "cell_type": "code",
   "execution_count": 85,
   "metadata": {},
   "outputs": [
    {
     "name": "stdout",
     "output_type": "stream",
     "text": [
      "next word: 中, probability: 0.12680115273775217\n",
      "next word: 經, probability: 0.05475504322766571\n",
      "next word: 前, probability: 0.05187319884726225\n",
      "next word: 更, probability: 0.03170028818443804\n",
      "next word: 預, probability: 0.02881844380403458\n",
      "next word: 相, probability: 0.025936599423631124\n",
      "next word: 到, probability: 0.023054755043227664\n",
      "next word: 國, probability: 0.020172910662824207\n",
      "next word: 最, probability: 0.01440922190201729\n",
      "next word: 桃, probability: 0.01440922190201729\n"
     ]
    }
   ],
   "source": [
    "# 給定字詞，使用 ngram 預測下一個字的機率 (顯示 Top 10)\n",
    "text = '爭取'\n",
    "next_words = list(tri_gram_pred[text])[:10]\n",
    "for next_word in next_words:\n",
    "    print('next word: {}, probability: {}'.format(next_word.word, next_word.prob))"
   ]
  },
  {
   "cell_type": "markdown",
   "metadata": {},
   "source": [
    "### 建立直接產出預測結果的 function"
   ]
  },
  {
   "cell_type": "code",
   "execution_count": 96,
   "metadata": {},
   "outputs": [],
   "source": [
    "def result(N, text: str):\n",
    "    ngram_model = ngram(corpus_list, N) # but每次都要建立一次字典會很慢\n",
    "\n",
    "    for word, pred in ngram_model.items():\n",
    "        ngram_model[word] = sorted(pred, key=lambda p: p.prob, reverse=True)\n",
    "    \n",
    "    next_words = list(ngram_model[text])[:10]\n",
    "    for next_word in next_words:\n",
    "        print('next word: {}, probability: {}'.format(next_word.word, round(next_word.prob, 5)))"
   ]
  },
  {
   "cell_type": "code",
   "execution_count": 97,
   "metadata": {},
   "outputs": [
    {
     "name": "stdout",
     "output_type": "stream",
     "text": [
      "next word: 中, probability: 0.1268\n",
      "next word: 經, probability: 0.05476\n",
      "next word: 前, probability: 0.05187\n",
      "next word: 更, probability: 0.0317\n",
      "next word: 預, probability: 0.02882\n",
      "next word: 相, probability: 0.02594\n",
      "next word: 到, probability: 0.02305\n",
      "next word: 國, probability: 0.02017\n",
      "next word: 最, probability: 0.01441\n",
      "next word: 桃, probability: 0.01441\n"
     ]
    }
   ],
   "source": [
    "result(3, '爭取')"
   ]
  },
  {
   "cell_type": "code",
   "execution_count": 98,
   "metadata": {},
   "outputs": [
    {
     "name": "stdout",
     "output_type": "stream",
     "text": [
      "next word: 也, probability: 0.10018\n",
      "next word: 將, probability: 0.09418\n",
      "next word: 團, probability: 0.05879\n",
      "next word: 會, probability: 0.03499\n",
      "next word: 已, probability: 0.03479\n",
      "next word: 積, probability: 0.0234\n",
      "next word: 在, probability: 0.0168\n",
      "next word: 推, probability: 0.0156\n",
      "next word: 衛, probability: 0.015\n",
      "next word: 與, probability: 0.0148\n"
     ]
    }
   ],
   "source": [
    "result(3, '市府')"
   ]
  },
  {
   "cell_type": "code",
   "execution_count": 99,
   "metadata": {},
   "outputs": [
    {
     "name": "stdout",
     "output_type": "stream",
     "text": [
      "next word: 及, probability: 0.25\n",
      "next word: 也, probability: 0.25\n",
      "next word: 在, probability: 0.25\n",
      "next word: 則, probability: 0.25\n"
     ]
    }
   ],
   "source": [
    "result(4, '潘縣長')"
   ]
  }
 ],
 "metadata": {
  "kernelspec": {
   "display_name": "Python 3",
   "language": "python",
   "name": "python3"
  },
  "language_info": {
   "codemirror_mode": {
    "name": "ipython",
    "version": 3
   },
   "file_extension": ".py",
   "mimetype": "text/x-python",
   "name": "python",
   "nbconvert_exporter": "python",
   "pygments_lexer": "ipython3",
   "version": "3.6.8"
  }
 },
 "nbformat": 4,
 "nbformat_minor": 2
}
