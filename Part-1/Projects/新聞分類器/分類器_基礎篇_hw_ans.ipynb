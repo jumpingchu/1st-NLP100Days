{
 "cells": [
  {
   "cell_type": "code",
   "execution_count": 1,
   "metadata": {
    "tags": []
   },
   "outputs": [
    {
     "output_type": "stream",
     "name": "stdout",
     "text": "Python 3.6.8\n"
    }
   ],
   "source": [
    "!python --version"
   ]
  },
  {
   "cell_type": "code",
   "execution_count": 2,
   "metadata": {
    "tags": []
   },
   "outputs": [],
   "source": [
    "!pip install -q -U pip\n",
    "!pip install -q numpy\n",
    "!pip install -q pandas\n",
    "!pip install -q ckiptagger\n",
    "!pip install -q tqdm\n",
    "!pip install -q tensorflow==1.14.0\n",
    "!pip install -q ipywidgets"
   ]
  },
  {
   "cell_type": "code",
   "execution_count": 3,
   "metadata": {},
   "outputs": [],
   "source": [
    "import pandas as pd\n",
    "import numpy as np\n",
    "\n",
    "from ckiptagger import WS, POS\n",
    "from tqdm.notebook import tqdm"
   ]
  },
  {
   "cell_type": "code",
   "execution_count": 4,
   "metadata": {},
   "outputs": [],
   "source": [
    "df_train = pd.read_csv('news_clustering_train.tsv', sep='\\t')\n",
    "df_test = pd.read_csv('news_clustering_test.tsv', sep='\\t')"
   ]
  },
  {
   "cell_type": "code",
   "execution_count": 5,
   "metadata": {},
   "outputs": [
    {
     "output_type": "execute_result",
     "data": {
      "text/plain": "      index class                            title\n0         0    體育         亞洲杯奪冠賠率：日本、伊朗領銜 中國竟與泰國並列\n1         1    體育        9輪4球本土射手僅次武磊 黃紫昌要搶最強U23頭銜\n2         2    體育             如果今年勇士奪冠，下賽季詹姆斯何去何從？\n3         3    體育            超級替補！科斯塔本賽季替補出場貢獻7次助攻\n4         4    體育          騎士6天里發生了啥？從首輪搶七到次輪3-0猛龍\n...     ...   ...                              ...\n1795   1795    遊戲  LOL：麻辣香鍋韓服Rank不合成打野刀？電刀巨魔新套路連勝中\n1796   1796    遊戲            穩住，我們能贏！因為我們擁有這種強大的力量\n1797   1797    遊戲          騰訊是怎樣毀掉《鬥戰神》這款可能成神的作品的？\n1798   1798    遊戲                   LOL你不知道的黑科技打法！\n1799   1799    遊戲                 遊戲拳皇各代的劇情都在講些什麼？\n\n[1800 rows x 3 columns]",
      "text/html": "<div>\n<style scoped>\n    .dataframe tbody tr th:only-of-type {\n        vertical-align: middle;\n    }\n\n    .dataframe tbody tr th {\n        vertical-align: top;\n    }\n\n    .dataframe thead th {\n        text-align: right;\n    }\n</style>\n<table border=\"1\" class=\"dataframe\">\n  <thead>\n    <tr style=\"text-align: right;\">\n      <th></th>\n      <th>index</th>\n      <th>class</th>\n      <th>title</th>\n    </tr>\n  </thead>\n  <tbody>\n    <tr>\n      <th>0</th>\n      <td>0</td>\n      <td>體育</td>\n      <td>亞洲杯奪冠賠率：日本、伊朗領銜 中國竟與泰國並列</td>\n    </tr>\n    <tr>\n      <th>1</th>\n      <td>1</td>\n      <td>體育</td>\n      <td>9輪4球本土射手僅次武磊 黃紫昌要搶最強U23頭銜</td>\n    </tr>\n    <tr>\n      <th>2</th>\n      <td>2</td>\n      <td>體育</td>\n      <td>如果今年勇士奪冠，下賽季詹姆斯何去何從？</td>\n    </tr>\n    <tr>\n      <th>3</th>\n      <td>3</td>\n      <td>體育</td>\n      <td>超級替補！科斯塔本賽季替補出場貢獻7次助攻</td>\n    </tr>\n    <tr>\n      <th>4</th>\n      <td>4</td>\n      <td>體育</td>\n      <td>騎士6天里發生了啥？從首輪搶七到次輪3-0猛龍</td>\n    </tr>\n    <tr>\n      <th>...</th>\n      <td>...</td>\n      <td>...</td>\n      <td>...</td>\n    </tr>\n    <tr>\n      <th>1795</th>\n      <td>1795</td>\n      <td>遊戲</td>\n      <td>LOL：麻辣香鍋韓服Rank不合成打野刀？電刀巨魔新套路連勝中</td>\n    </tr>\n    <tr>\n      <th>1796</th>\n      <td>1796</td>\n      <td>遊戲</td>\n      <td>穩住，我們能贏！因為我們擁有這種強大的力量</td>\n    </tr>\n    <tr>\n      <th>1797</th>\n      <td>1797</td>\n      <td>遊戲</td>\n      <td>騰訊是怎樣毀掉《鬥戰神》這款可能成神的作品的？</td>\n    </tr>\n    <tr>\n      <th>1798</th>\n      <td>1798</td>\n      <td>遊戲</td>\n      <td>LOL你不知道的黑科技打法！</td>\n    </tr>\n    <tr>\n      <th>1799</th>\n      <td>1799</td>\n      <td>遊戲</td>\n      <td>遊戲拳皇各代的劇情都在講些什麼？</td>\n    </tr>\n  </tbody>\n</table>\n<p>1800 rows × 3 columns</p>\n</div>"
     },
     "metadata": {},
     "execution_count": 5
    }
   ],
   "source": [
    "df_train"
   ]
  },
  {
   "cell_type": "code",
   "execution_count": 6,
   "metadata": {},
   "outputs": [],
   "source": [
    "train_titles = {row['index']: row['title'] for _, row in df_train.iterrows()}\n",
    "train_classes = {row['index']: row['class'] for _, row in df_train.iterrows()}\n",
    "\n",
    "test_titles = {row['index']: row['title'] for _, row in df_test.iterrows()}\n",
    "test_classes = {row['index']: row['class'] for _, row in df_test.iterrows()}"
   ]
  },
  {
   "cell_type": "code",
   "execution_count": 7,
   "metadata": {},
   "outputs": [],
   "source": [
    "all_news_class = ['體育', '財經', '科技', '旅遊', '農業', '遊戲']"
   ]
  },
  {
   "cell_type": "markdown",
   "metadata": {},
   "source": [
    "# 斷詞 + POS"
   ]
  },
  {
   "cell_type": "code",
   "execution_count": 8,
   "metadata": {
    "tags": []
   },
   "outputs": [
    {
     "output_type": "stream",
     "name": "stdout",
     "text": "WARNING: Entity <bound method LSTMCell.call of <tensorflow.python.ops.rnn_cell_impl.LSTMCell object at 0x7fa283dac6a0>> could not be transformed and will be executed as-is. Please report this to the AutgoGraph team. When filing the bug, set the verbosity to 10 (on Linux, `export AUTOGRAPH_VERBOSITY=10`) and attach the full output. Cause: converting <bound method LSTMCell.call of <tensorflow.python.ops.rnn_cell_impl.LSTMCell object at 0x7fa283dac6a0>>: AttributeError: module 'gast' has no attribute 'Index'\nWARNING: Entity <bound method LSTMCell.call of <tensorflow.python.ops.rnn_cell_impl.LSTMCell object at 0x7fa28ae81438>> could not be transformed and will be executed as-is. Please report this to the AutgoGraph team. When filing the bug, set the verbosity to 10 (on Linux, `export AUTOGRAPH_VERBOSITY=10`) and attach the full output. Cause: converting <bound method LSTMCell.call of <tensorflow.python.ops.rnn_cell_impl.LSTMCell object at 0x7fa28ae81438>>: AttributeError: module 'gast' has no attribute 'Index'\nWARNING: Entity <bound method LSTMCell.call of <tensorflow.python.ops.rnn_cell_impl.LSTMCell object at 0x7fa28ae81ef0>> could not be transformed and will be executed as-is. Please report this to the AutgoGraph team. When filing the bug, set the verbosity to 10 (on Linux, `export AUTOGRAPH_VERBOSITY=10`) and attach the full output. Cause: converting <bound method LSTMCell.call of <tensorflow.python.ops.rnn_cell_impl.LSTMCell object at 0x7fa28ae81ef0>>: AttributeError: module 'gast' has no attribute 'Index'\nWARNING: Entity <bound method LSTMCell.call of <tensorflow.python.ops.rnn_cell_impl.LSTMCell object at 0x7fa28aea9860>> could not be transformed and will be executed as-is. Please report this to the AutgoGraph team. When filing the bug, set the verbosity to 10 (on Linux, `export AUTOGRAPH_VERBOSITY=10`) and attach the full output. Cause: converting <bound method LSTMCell.call of <tensorflow.python.ops.rnn_cell_impl.LSTMCell object at 0x7fa28aea9860>>: AttributeError: module 'gast' has no attribute 'Index'\nWARNING: Entity <bound method Dense.call of <tensorflow.python.layers.core.Dense object at 0x7fa289d6ff60>> could not be transformed and will be executed as-is. Please report this to the AutgoGraph team. When filing the bug, set the verbosity to 10 (on Linux, `export AUTOGRAPH_VERBOSITY=10`) and attach the full output. Cause: converting <bound method Dense.call of <tensorflow.python.layers.core.Dense object at 0x7fa289d6ff60>>: AttributeError: module 'gast' has no attribute 'Index'\nWARNING: Entity <bound method LSTMCell.call of <tensorflow.python.ops.rnn_cell_impl.LSTMCell object at 0x7fa22fc4d860>> could not be transformed and will be executed as-is. Please report this to the AutgoGraph team. When filing the bug, set the verbosity to 10 (on Linux, `export AUTOGRAPH_VERBOSITY=10`) and attach the full output. Cause: converting <bound method LSTMCell.call of <tensorflow.python.ops.rnn_cell_impl.LSTMCell object at 0x7fa22fc4d860>>: AttributeError: module 'gast' has no attribute 'Index'\nWARNING: Entity <bound method LSTMCell.call of <tensorflow.python.ops.rnn_cell_impl.LSTMCell object at 0x7fa22fc4d9b0>> could not be transformed and will be executed as-is. Please report this to the AutgoGraph team. When filing the bug, set the verbosity to 10 (on Linux, `export AUTOGRAPH_VERBOSITY=10`) and attach the full output. Cause: converting <bound method LSTMCell.call of <tensorflow.python.ops.rnn_cell_impl.LSTMCell object at 0x7fa22fc4d9b0>>: AttributeError: module 'gast' has no attribute 'Index'\nWARNING: Entity <bound method LSTMCell.call of <tensorflow.python.ops.rnn_cell_impl.LSTMCell object at 0x7fa28bbd4940>> could not be transformed and will be executed as-is. Please report this to the AutgoGraph team. When filing the bug, set the verbosity to 10 (on Linux, `export AUTOGRAPH_VERBOSITY=10`) and attach the full output. Cause: converting <bound method LSTMCell.call of <tensorflow.python.ops.rnn_cell_impl.LSTMCell object at 0x7fa28bbd4940>>: AttributeError: module 'gast' has no attribute 'Index'\nWARNING: Entity <bound method LSTMCell.call of <tensorflow.python.ops.rnn_cell_impl.LSTMCell object at 0x7fa22fc68f28>> could not be transformed and will be executed as-is. Please report this to the AutgoGraph team. When filing the bug, set the verbosity to 10 (on Linux, `export AUTOGRAPH_VERBOSITY=10`) and attach the full output. Cause: converting <bound method LSTMCell.call of <tensorflow.python.ops.rnn_cell_impl.LSTMCell object at 0x7fa22fc68f28>>: AttributeError: module 'gast' has no attribute 'Index'\nWARNING: Entity <bound method Dense.call of <tensorflow.python.layers.core.Dense object at 0x7fa22fc34ef0>> could not be transformed and will be executed as-is. Please report this to the AutgoGraph team. When filing the bug, set the verbosity to 10 (on Linux, `export AUTOGRAPH_VERBOSITY=10`) and attach the full output. Cause: converting <bound method Dense.call of <tensorflow.python.layers.core.Dense object at 0x7fa22fc34ef0>>: AttributeError: module 'gast' has no attribute 'Index'\n"
    }
   ],
   "source": [
    "ws = WS('./data/')\n",
    "pos = POS('./data/')"
   ]
  },
  {
   "cell_type": "code",
   "execution_count": 9,
   "metadata": {
    "tags": []
   },
   "outputs": [
    {
     "output_type": "display_data",
     "data": {
      "text/plain": "HBox(children=(FloatProgress(value=0.0, max=1800.0), HTML(value='')))",
      "application/vnd.jupyter.widget-view+json": {
       "version_major": 2,
       "version_minor": 0,
       "model_id": "7c04afedd6964466bafb83d7c8f1361f"
      }
     },
     "metadata": {}
    },
    {
     "output_type": "stream",
     "name": "stdout",
     "text": "\n"
    }
   ],
   "source": [
    "train_title_cuts = {}\n",
    "for index, title in tqdm(train_titles.items()):\n",
    "    # YOUR CODE HERE\n",
    "    word_s = ws([title])\n",
    "    word_p = pos(word_s)\n",
    "    # END YOUR CODE\n",
    "    train_title_cuts[index] = list(zip(word_s[0], word_p[0]))"
   ]
  },
  {
   "cell_type": "code",
   "execution_count": 10,
   "metadata": {
    "tags": []
   },
   "outputs": [
    {
     "output_type": "display_data",
     "data": {
      "text/plain": "HBox(children=(FloatProgress(value=0.0, max=600.0), HTML(value='')))",
      "application/vnd.jupyter.widget-view+json": {
       "version_major": 2,
       "version_minor": 0,
       "model_id": "8d56d1833e0e4d5594f937153b2f2533"
      }
     },
     "metadata": {}
    },
    {
     "output_type": "stream",
     "name": "stdout",
     "text": "\n"
    }
   ],
   "source": [
    "test_title_cuts = {}\n",
    "for index, title in tqdm(test_titles.items()):\n",
    "    # YOUR CODE HERE\n",
    "    word_s = ws([title])\n",
    "    word_p = pos(word_s)\n",
    "    # END YOUR CODE\n",
    "    test_title_cuts[index] = list(zip(word_s[0], word_p[0]))"
   ]
  },
  {
   "cell_type": "code",
   "execution_count": 11,
   "metadata": {},
   "outputs": [
    {
     "output_type": "execute_result",
     "data": {
      "text/plain": "[('國腳', 'Na'),\n ('張呈棟', 'Nb'),\n ('：', 'COLONCATEGORY'),\n ('從', 'D'),\n ('沒', 'D'),\n ('想', 'VE'),\n ('過', 'Di'),\n ('自己', 'Nh'),\n ('會', 'D'),\n ('出', 'VC'),\n ('一', 'Neu'),\n ('本', 'Nf'),\n ('書', 'Na')]"
     },
     "metadata": {},
     "execution_count": 11
    }
   ],
   "source": [
    "train_title_cuts[120]"
   ]
  },
  {
   "cell_type": "markdown",
   "metadata": {},
   "source": [
    "# Bag of Words (BOW)"
   ]
  },
  {
   "cell_type": "code",
   "execution_count": 12,
   "metadata": {},
   "outputs": [],
   "source": [
    "word2index = {}\n",
    "index2word = {}\n",
    "# 產生字與index對應的關係\n",
    "# YOUR CODE HERE\n",
    "n = 0\n",
    "for index in train_title_cuts:\n",
    "    for word, flag in train_title_cuts[index]:\n",
    "        if word in word2index:\n",
    "            continue\n",
    "        word2index[word] = n \n",
    "        index2word[n] = word\n",
    "        n += 1\n",
    "# END YOUR CODE"
   ]
  },
  {
   "cell_type": "code",
   "execution_count": 13,
   "metadata": {},
   "outputs": [
    {
     "output_type": "execute_result",
     "data": {
      "text/plain": "1520"
     },
     "metadata": {},
     "execution_count": 13
    }
   ],
   "source": [
    "word2index['溫暖']"
   ]
  },
  {
   "cell_type": "code",
   "execution_count": 14,
   "metadata": {},
   "outputs": [
    {
     "output_type": "execute_result",
     "data": {
      "text/plain": "'溫暖'"
     },
     "metadata": {},
     "execution_count": 14
    }
   ],
   "source": [
    "index2word[1520]"
   ]
  },
  {
   "cell_type": "code",
   "execution_count": 15,
   "metadata": {},
   "outputs": [],
   "source": [
    "def get_bow_vector(pairs, word2index):\n",
    "    # YOUR CODE HERE\n",
    "    vector = np.zeros(len(word2index))\n",
    "    for word, flag in pairs:\n",
    "        if word in word2index:\n",
    "            vector[word2index[word]] += 1\n",
    "    # END YOUR CODE\n",
    "    return vector"
   ]
  },
  {
   "cell_type": "code",
   "execution_count": 16,
   "metadata": {},
   "outputs": [
    {
     "output_type": "execute_result",
     "data": {
      "text/plain": "array([0., 0., 0., ..., 0., 0., 0.])"
     },
     "metadata": {},
     "execution_count": 16
    }
   ],
   "source": [
    "get_bow_vector(train_title_cuts[120], word2index)"
   ]
  },
  {
   "cell_type": "markdown",
   "metadata": {},
   "source": [
    "# 排除較無意義的詞性"
   ]
  },
  {
   "cell_type": "code",
   "execution_count": 17,
   "metadata": {
    "tags": []
   },
   "outputs": [
    {
     "output_type": "stream",
     "name": "stdout",
     "text": "Nb : ['周雲傑', '鎧單', '拜仁續', '中超', '蘇群', '王楚欽', '海富通', '梅西', '王', '阿迪薩亞', '景泰石', '盧克肖', '哈希', '綠心', '馬卡報', '韋神', '·龜茲', '海爾', '楊帆', '泰森', '盼保', '陶華碧', '馬化騰', '羅永浩', '2018世界杯', '余則成', '陳柯楓', 'V10', '拳皇', '劉詩雯', '泰拳王西', '卡拉黑', 'G7', '峽谷里', '龐氏', '馬龍', '張', '群里', '劉代全', '切爾西', '惠若琪', '魅族', '奧拉朱旺', '韋德', '宇通', '維韋杜詹霍', '寶二', 'NBA', '黃紅元', '周琦', '堯治河', '吉尼斯', '纏中', '夢琪', '刷安徒恩', '萊昂納德', '清華', '旭旭', 'WWE', '宋清輝', '艷武漢', '林員', '微眾', '巴菲特', '昌圖', '老詹', '白起', '余小C', 'P60八核讓', '本澤馬', '安永', '王者榮耀', '芒格', '李謹詺', '瑞和寶', '杜蕾斯', '黃紫昌', '內馬爾', '馬夏爾', '伊亞', '綠軍', '唐培科', '高傭', '曼薩諾', '泰倫盧成', '張大仙', '力帆', '李大霄', '黃希揚', '烏迪內斯', '美宇', '霍金斯', '拉卡拉', '德羅巴', '大豐', '郭春林', '伯克希爾', '王者榮', '電一', '阿里舜宇']\n=======================\nVC : ['封禁', '打出', '誤判', '取代', '審查', '運算', '撒', '給出', '改', '炒', '逗', '拿', '提高到', '打爆', '浪費', '放流', '募', '構建', '種養', '去完', '買錯', '刷新', '召喚', '決殺', '撫摸', '處置', '攻略', '支持', '收穫', '集齊', '嫁', '掌握', '共進', '揭密', '進化到', '交', '大修', '購', '攔', '領導', '通', '覽', '計算', '直播', '前瞻', '對', '騎', '駕駛', '改種', '罵', '把握住', '簽', '扣', '回應', '爆發出', '兌換', '刷爆', '外接', '用', '開啓', '攢', '學習', '救贖', '認養', '拍賣', '降', '對付', '指導', '提升到', '突破', '看', '踐行', '洩露', '穩住', '發推', '摘', '融入', '問倒', '參觀', '打不過', '冒充', '等', '嘗嘗', '衝刺', '防控', '進口', '陪', '解', '種點', '面試', '萌爆', '產出', '碰到', '實拍', '點贊', '完成', '打贏', '下載', '服', '邀請']\n=======================\nNa : ['毛', '創意', '地產', '大豆', '供需', '動作', '稱號', '稻夢', '傻子', '瓜', '濃眉', '新錢', '倍鏡', '預報', '魔鎧', '攻略', '歌', '散戶', '序', '球童', '預警', '白鶴', '設備', '猴子', '重量', '條件', '凱爾特人', '電線', '飛機', '賽季', '單打', '風情', '戰隊', '商人', '咬仔豬', '會展', '桿粉', '視頻', '圖片', '實錘', '要聞', '用', '迷宮', '職業', '馬鈴薯', '白金卡', '代價', '民居', '局面', '品種', '紅薯葉', '老乾媽', '會員', '一線', '螃蟹', '好文', '事物', '穗期', '年薪', '秋光', '騙子', '移速', '王者榮耀', '現實', '鐵路篇', '最為難', '耗電量', '保障線', '方案', '東北人', '龍主', '人形', '守門員', '接班人', '錢', '心骨', '全方位', '味', '湖', '葬禮', '女足', '液冷', '子女', '日照', '人格', '城際', '鋁', '分離機', '小組賽', '脂肪肝', '號令', '豬', '九年制', '美女', '理念', '老人', '秘密', '皮膚', '綜合體', '橋段']\n=======================\nCOLONCATEGORY : [':', '：']\n=======================\nNc : ['華鎣', '湖南省', '巨蛋', '巴中市', '現場', '茶鄉', '評論區', '呼倫貝爾', '南沙河鎮', '歐洲', '冠格局', '寧波', '珠海市', '農科院', '洗車店', '城市', '新疆', '滑縣', '分區', '年畫村', '開面店', '上交所', '茌平', '綿竹', '下轄縣', '高校', '雲端', '霞飛', '公園', '軍艦島', '果園', '域', '切爾西', '深海', '推介會', '奧蘭多', '火鍋店', '泰安', '債市', '大理', '平邑', '新農村', '中歐', '長沙', '野外', '嘉陵江', '馬略卡島', '區', '遵義市', '上海', '社區', '亞索', '寧夏', '陸家嘴', '戶外', '天空', '哈爾濱', '大麥灘', '杭州', '吉隆坡', '福建', '濱', '天際', '屏', '中科院', '長汀連城', '大荔縣', '天津', '果園地', '酉莊', '貨源里', '原地', '火焰山', '農資店', '店', '自駕游', '以色列', '加州', '紅原月亮灣', '公司', '中國', '陽江', '窗口', '村', '吐魯番', '浙江', '唐人街', '桂林', '雲南', '大陸', '中行', '家鄉', '風景區', '波密', '浩特', '俄羅斯', '廣東', '寶閣', '酒店', '大鵬葵壩']\n=======================\nPAUSECATEGORY : ['、']\n=======================\nVB : ['加起來', '收回來', '上架', '代打', '通話', '融資', '加持', '罵屌絲', '鋪平', '解體', '定位', '抓來', '鍍金', '解圍', '解惑', '拍照', '一網打盡', '罰款', '執教', '相比', '退改', '分段', '騙錢', '復仇', '扣分', '助威', '應對', '加油', '再見', '退款', '導航', '開戰', '分紅', '退貨', '加冕', '提前', '入賬', '加工', '效力', '領銜', '護航', '站台', '解密', '充飢', '充氣', '計算出來', '分組']\n=======================\nWHITESPACE : [' ']\n=======================\nD : ['又', '每', '永', '盡快', '及時', '可', '一一', '可能', '白', '如何', '沒有', '不會', '一直', '仍然', '隆', '該不該', '屢次', '居然', '結伴', '現', '直', '自', '趕緊', '呼好', '更', '無可', '年年', '多多少少', '為啥', '得', '有沒有', '相', '互', '剛剛', '完全', '依然', '全力', '不可以', '就', '永遠', '好像', '新', '到處', '私', '正在', '總算', '能不能', '屢屢', '難以', '大幅', '不應該', '還是', '經常', '差點兒', '連', '可以', '親身', '大規模', '千萬', '需', '玩絕', '多多', '始', '到底', '所', '很少', '實在', '常常', '總會', '竟然', '無法', '要', '該', '究竟', '一定', '隨地', '不再', '一', '也', '這麼', '大力', '趕快', '盡情', '冒死', '必', '來', '沒', '真是', '未', '還', '交互', '再度', '恐怕', '少', '一頭', '即', '獨', '不得', '在', '雙雙']\n=======================\nP : ['直至', '根據', '為了', '對', '除', '被', '趁著', '如', '慘遭', '向', '趁', '自從', '遭', '自', '像', '以', '和', '給', '隨', '跟', '當', '把', '待', '於', '靠', '用', '比', '憑', '在', '除了', '按', '就', '將', '臨', '與', '幫', '從', '等', '受', '比如', '為', '針對', '至', '往', '離', '隨了', '到', '關於', '距離', '因', '繼']\n=======================\nVG : ['當作', '叫做', '變', '化', '改造成', '充當', '屈居', '做', '排名', '譽為', '評選', '如', '作為', '排行', '名叫', '升任', '屬於', '投票成', '成', '稱得上', '應聘', '像', '建成', '成為', '當', '算', '酷似', '當成', '做成', '戰成', '變成', '當上', '美成', '竟是', '形成', '類似', '合成', '似', '非', '封號', '並列', '疑似', '姓', '理解為', '稱作', '居', '彷彿', '堪稱', '等於', '為', '猶如', '算是', '排', '賣成', '稱為', '叫', '集成', '誤認成', '稱']\n=======================\nNeu : ['2:1', '十幾', '（二）', '12', '135', '14', '萬', '20萬', '60萬', '100萬', '千億', '40', '9', '29', '70萬', '010', '2.5', '九', '5.5', '四五', '24.8億', '5000', '一萬', '100多', '120萬', '2018.5.6', '400', '幾百', '零', '百', '10010', '21', '第四十四', '4.7億', '1億', '第3', '2018千', '1900億', '三千億', '2:3', '91', '180萬', '百億', '8萬', '730萬', '十萬', '17', '3-1', '24億', '0:3', '百萬', '30', '七八千', '90', '第二', '3', '三百', '千', '兩', '22', '845', '第9', '715', '：76', '120', '2599', '千萬', '58', '17億', '1.3萬', '6', '35萬', '100', '1000萬', '392億', '3000萬', '5.6千三', '150', '9-1', '47億', '200萬', '4', '4000', '2', '5050', '7000', '18', '9-0', '一', '14億', '300萬', '第四', '450億', '2.37億', '85', '萬億', '五', '60多', '80', '2018-05-06 ']\n=======================\nNf : ['毛', '口', '方', '晚', '輪', '家', '種', '關', '株', '支', '天', '節', '棵', '票', '點', '款', '頁', '句', '隊', '畝', '番', '周', '部', '塊', '則', '碗', '層', '名', '篇', '件', '張', '處', '對', '所', '些', '位', '道', '步', '期', '斤', '米', '號', '台', '筆', '分鐘', '套', '批', '噸', '片', '樣', '港元', '回', '條', '週', '輛', '刻', '招', '戶', '項', '年', '元', '個', '路', '班', '袋', '把', '美元', '鍋', '盤', '度', '行', '門', '檔', '英吋', '場', '本', '座', '次', '胎', '分', '日', '只', '遍', '掛', '局', '級', '頭', '歲', '串', '槍', '色', '公里', '股', '隻', 'K', '群', '屆', '秒', '頓', '類']\n=======================\nVJ : ['適用', '吸引', '沈迷', '沒有', '透', '歡迎', '共有', '負', '不理', '熱心', '認識', '獨佔', '得', '看不過去', '缺', '失去', '煥發', '晉級', '曝限', '出', '自有', '羨慕', '強過', '獲得', '衝', '從事', '喪失', '入圍', '看好', '輸掉', '嫌棄', '來自', '含有', '值', '忽視', '維持', '分享', '惜', '同情', '冷落', '懷念', '大勝', '無', '擁有', '惹不起', '忽略', '欣賞', '符合', '蘊藏', '歸屬於', '適應', '發揮', '沒', '靠', '受到', '缺少', '達', '耗', '僅次於', '要價', '忘懷', '恪守', '順應', '脫', '受', '為', '偏愛', '失', '遺傳', '遭遇', '領先', '達到', '關注', '納入', '服', '超過', '恭喜', '不敵', '平', '經歷', '賽', '獲', '爆發', '減', '高達', '優於', '負於', '珍惜', '認', '充', '領略', '過完', '限', '虧損', '贏得', '吃上', '抗', '緊缺', '心疼', '翻倍']\n=======================\nVD : ['補貼', '拒賠', '配', '分', '傳', '給', '提供', '貸款', '輸', '補繳', '坑', '寄予', '還', '發', '支付', '搶', '送', '白送', '禁售', '貸', '付', '借', '清繳', '予', '售', '收費', '借貸', '贏', '賣', '輸給', '發給', '發放', '郵給', '交付', '給予', '供應', '轉讓', '欠', '速遞']\n=======================\nDfa : ['好', '比較', '很', '有點', '過於', '有些', '這麼', '更', '太', '極', '越來越', '還', '還要', '同樣', '超', '非常', '更為', '最', '十分', '多', '如此', '頗', '過', '遠遠', '不大', '遠', '較']\n=======================\nVH : ['粉', '理想', '切實', '努力', '受害', '太少', '多彩', '如何', '甜蜜', '盛開', '跌停', '不停', '貧', '強大', '機智', '窮', '浪費', '差', '合格', '頻繁', '貧困', '乾嘛', '任重', '小康', '美味', '靈活', '欠佳', '獨特', '新', '可期', '正常', '詹吹', '開幕', '辛勞', '細', '成長', '強勢', '好心', '流行', '克劫', '重大', '得寸進尺', '唯美', '靠譜', '這般', '過人', '對', '立體', '中毒', '突發', '清新', '清淡', '重', '常見', '不行', '後悔莫及', '蓄勢待發', '殘', '爆棚', '開啓', '合理', '年輕', '怎麼', '功不可', '有名', '酸', '淺', '有效', '虐汪', '熱刺作死', '見底', '凝重', '有用', '完善', '大跌', '狂', '卸任', '出道', '開局', '高速', '成年', '見分曉', '下跌', '勝利', '有望', '咸', '熱刺托大', '出世', '魔幻', '爆炸', '健', '公正', '窘', '出爐', '衛生', '背水一戰', '出全', '變幻莫測', '足', '爽快']\n=======================\nCbb : ['如果', '不然', '否則', '還不如', '就算', '不僅', '不過', '只要', '但', '不管', '只有', '因為', '假如', '而', '但是', '若', '雖然', '並', '連', '既', '而是', '要是', '可是', '不如', '既然', '即使', '並且', '跟著', '反而', '縱使', '另外', '因']\n=======================\nNd : ['今天', '2019', '近日', '早晨', '夏季', '後來', '6旬', '晚上', '熱天', '12日', '大中', '05月', '一會', '五月', '相親節', '晚間', '4日', '正月', '周', '雍正', '月季', '立夏', '15日', '一下', '九月', '3月', '目前', '週一', '週二', '花季', '明日', '週末', '那時', '1點', '春', '三國', '一大早', '寒武紀', '以後', '5.7日', '2017年', '當年', '8月', '五月份', '季', '5月份', '隔年', '現代', '今年', '31號', '不久', '明年', '臨時', '6月', '10點', '永久', '荒古', '6日', '狗年', '七月份', '一日', '2018', '後', '首日', '中旬', '8日', '春天', '夏窗', '下旬', '春季', '秋', '1990年', '15年', '4月', '06日', '晚清', '2018年', '昨天', '2019年', '夏天', '短期', '秋季', '多久', '2035年', '90年', '中期', '23日', '幾月份', '小時候', '當前', '旺季', '今日', '-5', '2018年度', '30號', '2020年', '長期', '後期', '當時', '明']\n=======================\nVA : ['晨跑', '旅遊', '輪轉', '秋遊', '加時', '走', '奮鬥', '騎行', '報警', '犯規', '打球', '開票', '續交', '倒地', '爭霸', '來臨', '立功', '吸粉', '對陣', '下場', '跑', '登高', '搞笑', '派息', '輪換', '澆水', '擾民', '參賽', '奔', '報名', '擺地攤', '跳', '簽約', '紮營', '開啓', '表態', '上線', '爬山', '換人', '違規', '狩獵', '養花', '充值', '上班', '降水', '革命', '砸盤', '出單', '來襲', '封卡', '騎車', '出行', '醒', '放大招', '點贊', '搶七', '放光', '攻堅', '通信', '起航', '捲土重來', '自駕游', '打麻將', '相親', '怒吼', '觀光', '結婚', '出來', '求生', '提額', '育秧', '運營', '入手', '申遺', '墊腳', '探險', '自殺', '掛機', '放飛', '隕落', '上升', '開業', '理財', '壓槍', '鬥智', '掃碼', '走起', '賺錢', '花錢', '續約', '何去何從', '造假', '合伙', '回來', '結果', '打團', '喜極而泣', '郊遊', '跑跑', '現身']\n=======================\nCOMMACATEGORY : [',', '，']\n=======================\nNes : ['每', '該', '另', '貴', '本', '何', '下', '某', '前', '近', '頭', '同', '上', '後', '首', '各']\n=======================\nQUESTIONCATEGORY : ['？']\n=======================\nEXCLAMATIONCATEGORY : ['!', '！']\n=======================\nDi : ['個', '了', '起來', '過', '著']\n=======================\nNep : ['那', '啥', '其中', '其', '什麼', '這', '此', '哪']\n=======================\nCaa : ['又', '或', '至', '或者', '和', '或是', '及', '到', '跟', '暨', '還是', '與', 'VS', '比']\n=======================\nVCL : ['玩遍', '回歸', '走到', '升至', '暗渡', '遊覽', '直達', '存進', '遠離', '赴', '抵達', '盤踞', '穿透', '走進', '前來', '走過', '留在', '跌至', '上', '路過', '走下', '住', '在', '穿過', '出', '穿越', '重回', '度過', '橫掃', '入', '回到', '走訪', '來到', '栽進', '進入', '去', '往', '出發到', '過', '深入', '重返', '到', '登陸', '跌出', '進', '到達', '前往', '回', '用於', '退出', '蒞臨']\n=======================\nNeqa : ['大多', '這些', '那些', '滴滴', '三分之一', '有的', '這麼多', '四成', '一半', '句句', '一點', '多點', '6%', '30%', '其他', '有些', '遍', '很多', '15%', '個個', '所有', '一處處', '9.89%', '0.8%', '其它', '41.8%', '步步', '哪些', '20%', '許多', '1/4', '百分之八十', '大量', '半', '多', '12%', '一切', '大多數', '100%', '67%', '10%', '部分', '8%', '80%', '不少', '1%', '任何', '多少', '90%', '全', '一些', '更多', '無數']\n=======================\nNh : ['自身', '個人', '它們', '一方', '自己', '它', '小眾', '誰', '他們', '她們', '雙方', '她', '各自', '你', '屌絲', '他', '對方', '我', '私人', '本人', '父子倆', '各位', '人家', '我們', '別人', '自我', '你們', '大家', '俺們', '您']\n=======================\nFW : ['One', '│', 'W', 'D', 'RPG', 'QGhappy', 'FW', 'EOS', 'SKU', 'FOF', 'iBoy', 'LSPL', 'MSI', 'FPP', 'PPP', 'OPPO R', '丨', 'B', 'N+1', '+4', 'Aurum ', ' 展', 'ipad', '4H', 'AWM', 'cba', 'mix2', 'Cotswolds', '<', 'NPC', 'Minecraft', 'T+0', 'IG', 'vip', 'GDP', 'Guru', 'APP', 'max2', 'OV', '5G', 'AIC', 'cpu', 'ban', 'VR', 'PS4/NS', 'Mc', 'p', 'Nvidia', 'CFPL', '6G+', 'DASH', 'bad boy', 'GoogleI/O2018', 'RNG', 'raid', 'CDR', 'XQ', 'T', 'CBA', '8d', 'Pro', ' 2017', 'iPad', 'PK', 'N7', 'X', ' vs 利物浦', 'cosplay', 'ios', 'KV', 'G', 'LOL', 'VS', 'ST', 'UI', ' MDL', 'pro7', '2', 'Uzi', 'LOL：', 'OB', 'lol', 'UZI', 'Instagram', 'DNF：', 'mAh+', 'dota', 'ABCC', 'CP', 'Brian Kelly', 'etc', 'DNF ', '｜', 'P2P', 'CEO', 'Khan', '6G', 'Focus', 'King James', 'KPL']\n=======================\nSHI : ['是', '像是']\n=======================\nVE : ['發現', '聽', '設想', '抱怨', '看清楚', '鑒定', '樂見', '警惕', '呼', '深思', '證明', '檢測', '預測', '確認', '示範', '預防', '禁止', '感嘆', '預告', '稱', '考慮', '限制', '聯想', '以為', '聽說', '探討', '發誓', '發佈', '回答', '暗示', '想要', '提起', '管', '要', '見到', '判斷', '說', '反對', '公告', '宣佈', '做到', '見證', '看到', '談', '爆料', '探索', '提', '判定', '形容', '報道', '商量', '精准', '披露', '呼籲', '公認', '提猜', '講解', '介紹', '訴說', '提醒', '允許', '炫耀', '預定', '看出', '想', '盛贊', '准', '告訴', '傳聞', '幻想', '防止', '查看', '慶祝', '說明', '判罰', '認為', '賭約', '查', '識別', '假設', '聊', '公示', '證', '公佈', '揭曉', '調研', '看看', '想到', '廣播', '聽到', '問', '安排', '研究', '講', '申卡', '預期', '想好', '估值', '算', '查找']\n=======================\nDE : ['之', '的', '地', '得']\n=======================\nVHC : ['增長', '恢復', '愁死', '煩', '暫停', '普及', '肥', '加快', '智能化', '熱', '溫暖', '壞', '團結', '辛苦', '開', '滿足', '豐富', '麻煩', '公開', '淡化', '斷', '規模化', '愁壞', '優化', '冷卻', '結束', '增加', '縮小', '凍', '傷', '國際化', '震驚', '擴張', '降低', '繁榮', '強化', '現代化', '可憐', '平衡', '停', '機構化', '陷', '減少', '增 ', '告破', '下來', '感動', '穩定', '產生', '還原', '變動', '增強', '破']\n=======================\nNg : ['以外', '外', '裡', '時', '底', '之間', '以下', '以後', '內', '之前', '起', '之下', '而言', '來', '上', '以來', '左右', '為止', '之內', '之上', '下', '前', '初', '之外', '之中', '間', '般', '以上', '後', '中', '之後']\n=======================\nVK : ['需', '意外', '理解', '回憶', '希望', '感謝', '不滿', '想見', '期待', '所謂', '肯定', '覺', '小心', '指望', '介意', '願意', '感受', '忘', '奇怪', '遇', '意味', '討厭', '知', '恨', '懂得', '感覺', '擔心', '需要', '覺得', '恐', '怕', '喜歡', '堅持', '同意', '感覺到', '盼', '害怕', '有利於', '曲解', '願', '遺憾', '知道', '抱歉', '放心', '明白', '顯示', '注意', '流傳', '欲', '依賴', '忘記', '懂', '確定', '瞭解', '懷疑', '信', '意想不到', '面臨', '不忘']\n=======================\nNcd : ['兩旁', '哪裡', '末端', '外', '裡', '東部', '方', '那邊', '當中', '哪兒', '以下', '哪', '內', '外面', '前沿', '中部', '西部', '東', '東方', '旁邊', '哪下', '上', '西', '底部', '上方', '上面', '邊', '下', '這裡', '東西部', '間', '一帶', '中間', '中', '畔', '那裡', '裡面', '對面', '北']\n=======================\nA : ['獨角', '綜合', '雙', '新一代', '大幅度', '上上', '小本', '歐式', '獨家', '國產', '中西', '同等', '頭號', '單', '現役', '同一', '主', '現行', '基礎', '高度', '常務', '業餘', '必備', '非', '超', '眾', '多餘', '基層', '彩色', '二手', '優質', '唯一', '後置', '新興', '前置', '真正', '額外', '火紅', '超級', '共同', '野生', '原', '麻辣', '重磅', '一般', '乒乓', '中', '地下', '總', '寶有', '獨門', '最佳', '碧藍', '長途']\n=======================\nV_2 : ['有']\n=======================\nVL : ['甘願', '敢', '肯', '便利', '習慣', '致', '趨於', '愛好', '開始', '用來', '使', '後悔', '持續', '不惜', '能', '導致', '故意', '喜好', '令', '愛', '使得', '讓']\n=======================\nT : ['吧', '啦', '的', '了', '咯', '矣', '呢', '來', '哪', '嘛', '麼', '啊', '嗎', '去', '哦']\n=======================\nVI : ['專用', '驚艷', '傾心', '取勝', '著稱']\n=======================\nDASHCATEGORY : ['—', '-']\n=======================\nI : ['瑪法里奧', '哦']\n=======================\nDk : ['那', '據說', '反過來', '據聞', '那麼', '外傳', '想不到', '結果']\n=======================\nVF : ['止住', '勸住', '鼓勵', '擬', '打算', '請', '拒', '助', '逼', '率領', '策劃', '要求', '勸說', '申請', '告誡', '判', '拒絕', '帶領', '準備', '催', '停止', '試', '圖', '試試', '繼續', '推選', '叫', '邀']\n=======================\nDa : ['只', '足足', '不下', '幾乎', '僅', '幾近', '唯獨', '才', '將近', '共', '光', '正好', '最多', '約', '近']\n=======================\nPARENTHESISCATEGORY : ['（', '「', '）', '》', '」', '《', '(']\n=======================\nNv : ['回歸', '旅遊', '兼職', '灌籃', '營銷', '關聯', '訴訟', '工作', '管理', '問', '銷售', '分銷', '登山', '開發', '經歷', '研究', '燃燒', '崩潰', '遊樂', '體驗', '生產', '抗戰', '配置', '錄制', '護髮', '航海', '判罰', '組合', '疊加', '私募', '射擊', '供電', '買單', '創業', '絕殺', '翻譯', '增發', '代理', '解救', '輔助', '思考', '惡搞', '推薦', '批發', '防治', '度假']\n=======================\nPERIODCATEGORY : ['·', '。']\n=======================\nVAC : ['蒸發', '移動', '集合', '動', '上演', '推進']\n=======================\nDfb : ['些', '一點', '極了']\n=======================\nCab : ['等', '等等']\n=======================\nSEMICOLONCATEGORY : ['；']\n=======================\nNeqb : ['以上', '幾', '半', '多']\n=======================\nETCCATEGORY : ['…']\n=======================\nCba : ['的話']\n=======================\nDOTCATEGORY : ['.']\n=======================\n"
    }
   ],
   "source": [
    "pos_analysis = {}\n",
    "for _, pairs in train_title_cuts.items():\n",
    "    for word, flag in pairs:\n",
    "        if flag not in pos_analysis:\n",
    "            pos_analysis[flag] = set()\n",
    "        pos_analysis[flag].add(word)\n",
    "\n",
    "for flag, words in pos_analysis.items():\n",
    "    print(flag, ':', list(words)[:100])\n",
    "    print('=======================')"
   ]
  },
  {
   "cell_type": "markdown",
   "metadata": {},
   "source": [
    "|         Type        |     Description    |\n",
    "|:-------------------:|:------------------:|\n",
    "| A                   | 非謂形容詞         |\n",
    "| Caa                 | 對等連接詞         |\n",
    "| Cab                 | 連接詞，如：等等   |\n",
    "| Cba                 | 連接詞，如：的話   |\n",
    "| Cbb                 | 關聯連接詞         |\n",
    "| D                   | 副詞               |\n",
    "| Da                  | 數量副詞           |\n",
    "| Dfa                 | 動詞前程度副詞     |\n",
    "| Dfb                 | 動詞後程度副詞     |\n",
    "| Di                  | 時態標記           |\n",
    "| Dk                  | 句副詞             |\n",
    "| DM                  | 定量式             |\n",
    "| I                   | 感嘆詞             |\n",
    "| Na                  | 普通名詞           |\n",
    "| Nb                  | 專有名詞           |\n",
    "| Nc                  | 地方詞             |\n",
    "| Ncd                 | 位置詞             |\n",
    "| Nd                  | 時間詞             |\n",
    "| Nep                 | 指代定詞           |\n",
    "| Neqa                | 數量定詞           |\n",
    "| Neqb                | 後置數量定詞       |\n",
    "| Nes                 | 特指定詞           |\n",
    "| Neu                 | 數詞定詞           |\n",
    "| Nf                  | 量詞               |\n",
    "| Ng                  | 後置詞             |\n",
    "| Nh                  | 代名詞             |\n",
    "| Nv                  | 名物化動詞         |\n",
    "| P                   | 介詞               |\n",
    "| T                   | 語助詞             |\n",
    "| VA                  | 動作不及物動詞     |\n",
    "| VAC                 | 動作使動動詞       |\n",
    "| VB                  | 動作類及物動詞     |\n",
    "| VC                  | 動作及物動詞       |\n",
    "| VCL                 | 動作接地方賓語動詞 |\n",
    "| VD                  | 雙賓動詞           |\n",
    "| VF                  | 動作謂賓動詞       |\n",
    "| VE                  | 動作句賓動詞       |\n",
    "| VG                  | 分類動詞           |\n",
    "| VH                  | 狀態不及物動詞     |\n",
    "| VHC                 | 狀態使動動詞       |\n",
    "| VI                  | 狀態類及物動詞     |\n",
    "| VJ                  | 狀態及物動詞       |\n",
    "| VK                  | 狀態句賓動詞       |\n",
    "| VL                  | 狀態謂賓動詞       |\n",
    "| V_2                 | 有                 |\n",
    "|                     |                    |\n",
    "| DE                  | 的之得地           |\n",
    "| SHI                 | 是                 |\n",
    "| FW                  | 外文               |\n",
    "|                     |                    |\n",
    "| COLONCATEGORY       | 冒號               |\n",
    "| COMMACATEGORY       | 逗號               |\n",
    "| DASHCATEGORY        | 破折號             |\n",
    "| DOTCATEGORY         | 點號               |\n",
    "| ETCCATEGORY         | 刪節號             |\n",
    "| EXCLAMATIONCATEGORY | 驚嘆號             |\n",
    "| PARENTHESISCATEGORY | 括號               |\n",
    "| PAUSECATEGORY       | 頓號               |\n",
    "| PERIODCATEGORY      | 句號               |\n",
    "| QUESTIONCATEGORY    | 問號               |\n",
    "| SEMICOLONCATEGORY   | 分號               |\n",
    "| SPCHANGECATEGORY    | 雙直線             |\n",
    "| WHITESPACE          | 空白               |"
   ]
  },
  {
   "cell_type": "code",
   "execution_count": 18,
   "metadata": {},
   "outputs": [],
   "source": [
    "def get_bow_vector_with_selection(pairs, word2index):\n",
    "    excluded_flags = [\n",
    "        # 根據以上列舉出來的文字以及詞性表，請列出想要排除的詞性\n",
    "        # YOUR CODE HERE\n",
    "        'Nh', 'Nep', 'Nes', 'DE', 'T', 'P', 'V_2', 'SHI',\n",
    "        'Dfa', 'Dfb', 'Da', 'Di', 'Dk',\n",
    "        'Caa', 'Cab', 'Cba', 'Cbb',\n",
    "        'COLONCATEGORY', 'COMMACATEGORY', 'DASHCATEGORY', 'DOTCATEGORY', 'ETCCATEGORY', 'EXCLAMATIONCATEGORY',\n",
    "        'PARENTHESISCATEGORY', 'PAUSECATEGORY', 'PERIODCATEGORY', 'QUESTIONCATEGORY', 'SEMICOLONCATEGORY',\n",
    "        'SPCHANGECATEGORY', 'WHITESPACE'\n",
    "        # END YOUR CODE\n",
    "    ]\n",
    "    vector = np.zeros(len(word2index))\n",
    "    for word, flag in pairs:\n",
    "        if word in word2index and flag not in excluded_flags:\n",
    "            vector[word2index[word]] += 1\n",
    "    return vector"
   ]
  },
  {
   "cell_type": "markdown",
   "metadata": {},
   "source": [
    "# Cosine Similarity"
   ]
  },
  {
   "cell_type": "code",
   "execution_count": 19,
   "metadata": {},
   "outputs": [],
   "source": [
    "def cosine_similarity(bow1, bow2):\n",
    "    # YOUR CODE HERE\n",
    "    len_bow1 = np.sqrt(np.sum(np.square(bow1)))\n",
    "    len_bow2 = np.sqrt(np.sum(np.square(bow2)))\n",
    "    similarity = np.sum(bow1 * bow2) / (len_bow1 * len_bow2)\n",
    "    # END YOUR CODE\n",
    "    return similarity"
   ]
  },
  {
   "cell_type": "code",
   "execution_count": 20,
   "metadata": {},
   "outputs": [
    {
     "output_type": "execute_result",
     "data": {
      "text/plain": "0.08703882797784893"
     },
     "metadata": {},
     "execution_count": 20
    }
   ],
   "source": [
    "bow1 = get_bow_vector(train_title_cuts[100], word2index)\n",
    "bow2 = get_bow_vector(train_title_cuts[130], word2index)\n",
    "cosine_similarity(bow1, bow2)"
   ]
  },
  {
   "cell_type": "code",
   "execution_count": 21,
   "metadata": {},
   "outputs": [
    {
     "output_type": "execute_result",
     "data": {
      "text/plain": "[('山東', 'Nc'),\n ('魯能', 'Nb'),\n ('有沒有', 'D'),\n ('可能', 'D'),\n ('拿到', 'VC'),\n ('今年', 'Nd'),\n ('的', 'DE'),\n ('中', 'A'),\n ('超', 'A'),\n ('冠軍', 'Na'),\n ('？', 'QUESTIONCATEGORY')]"
     },
     "metadata": {},
     "execution_count": 21
    }
   ],
   "source": [
    "train_title_cuts[100]"
   ]
  },
  {
   "cell_type": "code",
   "execution_count": 22,
   "metadata": {},
   "outputs": [
    {
     "output_type": "execute_result",
     "data": {
      "text/plain": "[('NBA', 'Nb'),\n ('和', 'Caa'),\n ('CBA', 'FW'),\n ('差距', 'Na'),\n ('在', 'P'),\n ('哪裡', 'Ncd'),\n ('？', 'QUESTIONCATEGORY'),\n ('6', 'Neu'),\n ('張', 'Nf'),\n ('圖', 'VF'),\n ('一目瞭然', 'VH'),\n ('！', 'EXCLAMATIONCATEGORY')]"
     },
     "metadata": {},
     "execution_count": 22
    }
   ],
   "source": [
    "train_title_cuts[130]"
   ]
  },
  {
   "cell_type": "markdown",
   "metadata": {},
   "source": [
    "# Group mean vector"
   ]
  },
  {
   "cell_type": "code",
   "execution_count": 23,
   "metadata": {},
   "outputs": [
    {
     "output_type": "execute_result",
     "data": {
      "text/plain": "{'體育': array([0.04      , 0.01333333, 0.00333333, ..., 0.        , 0.        ,\n        0.        ]),\n '財經': array([0., 0., 0., ..., 0., 0., 0.]),\n '科技': array([0., 0., 0., ..., 0., 0., 0.]),\n '旅遊': array([0., 0., 0., ..., 0., 0., 0.]),\n '農業': array([0., 0., 0., ..., 0., 0., 0.]),\n '遊戲': array([0.        , 0.        , 0.        , ..., 0.00333333, 0.00333333,\n        0.00333333])}"
     },
     "metadata": {},
     "execution_count": 23
    }
   ],
   "source": [
    "group_vectors = {news_class: [] for news_class in all_news_class}\n",
    "for index, pairs in sorted(train_title_cuts.items()):\n",
    "    vector = get_bow_vector_with_selection(pairs, word2index)\n",
    "    news_class = train_classes[index]\n",
    "    group_vectors[news_class].append(vector)\n",
    "\n",
    "group_mean_vector = {}\n",
    "for news_class, vectors in group_vectors.items():\n",
    "    group_mean_vector[news_class] = np.mean(vectors, axis=0)\n",
    "group_mean_vector"
   ]
  },
  {
   "cell_type": "markdown",
   "metadata": {},
   "source": [
    "# Group mean vector: 測試"
   ]
  },
  {
   "cell_type": "code",
   "execution_count": 24,
   "metadata": {
    "tags": []
   },
   "outputs": [],
   "source": [
    "classification = {news_class: [] for news_class in all_news_class}\n",
    "for index, pairs in sorted(test_title_cuts.items()):\n",
    "    vector = get_bow_vector_with_selection(pairs, word2index)\n",
    "    if np.sum(np.square(vector)) == 0:\n",
    "        continue\n",
    "\n",
    "    max_val = -2.0\n",
    "    max_class = None\n",
    "    for news_class, ref_vector in group_mean_vector.items():\n",
    "        val = cosine_similarity(ref_vector, vector)\n",
    "        if val > max_val:\n",
    "            max_class = news_class\n",
    "            max_val = val\n",
    "\n",
    "    classification[max_class].append(index)"
   ]
  },
  {
   "cell_type": "code",
   "execution_count": 25,
   "metadata": {
    "tags": []
   },
   "outputs": [
    {
     "output_type": "stream",
     "name": "stdout",
     "text": "predict 體育 :  Counter({'體育': 73, '遊戲': 8, '財經': 6, '旅遊': 6, '農業': 6, '科技': 3})\npredict 財經 :  Counter({'財經': 67, '科技': 18, '體育': 6, '旅遊': 6, '遊戲': 6, '農業': 5})\npredict 科技 :  Counter({'科技': 62, '財經': 13, '體育': 10, '農業': 6, '遊戲': 6, '旅遊': 2})\npredict 旅遊 :  Counter({'旅遊': 70, '農業': 11, '財經': 6, '科技': 3, '遊戲': 2})\npredict 農業 :  Counter({'農業': 70, '旅遊': 9, '科技': 6, '體育': 5, '財經': 4, '遊戲': 3})\npredict 遊戲 :  Counter({'遊戲': 75, '科技': 7, '旅遊': 5, '體育': 4, '財經': 4, '農業': 1})\n"
    }
   ],
   "source": [
    "from collections import Counter\n",
    "\n",
    "for group, ids in classification.items():\n",
    "    counter = Counter([test_classes[id] for id in ids])\n",
    "    print('predict', group, ': ', counter)"
   ]
  }
 ],
 "metadata": {
  "language_info": {
   "codemirror_mode": {
    "name": "ipython",
    "version": 3
   },
   "file_extension": ".py",
   "mimetype": "text/x-python",
   "name": "python",
   "nbconvert_exporter": "python",
   "pygments_lexer": "ipython3",
   "version": "3.6.8-final"
  },
  "orig_nbformat": 2,
  "kernelspec": {
   "name": "python_defaultSpec_1597541602087",
   "display_name": "Python 3.6.8 64-bit ('ENV': venv)"
  }
 },
 "nbformat": 4,
 "nbformat_minor": 2
}