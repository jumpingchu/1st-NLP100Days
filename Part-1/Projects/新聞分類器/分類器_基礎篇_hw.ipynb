{
 "cells": [
  {
   "cell_type": "code",
   "execution_count": 4,
   "metadata": {},
   "outputs": [],
   "source": [
    "import pandas as pd\n",
    "import numpy as np\n",
    "\n",
    "from ckiptagger import WS, POS\n",
    "from tqdm.notebook import tqdm"
   ]
  },
  {
   "cell_type": "code",
   "execution_count": 112,
   "metadata": {
    "scrolled": false
   },
   "outputs": [
    {
     "name": "stdout",
     "output_type": "stream",
     "text": [
      "<class 'pandas.core.frame.DataFrame'>\n",
      "RangeIndex: 1800 entries, 0 to 1799\n",
      "Data columns (total 3 columns):\n",
      " #   Column  Non-Null Count  Dtype \n",
      "---  ------  --------------  ----- \n",
      " 0   index   1800 non-null   int64 \n",
      " 1   class   1800 non-null   object\n",
      " 2   title   1800 non-null   object\n",
      "dtypes: int64(1), object(2)\n",
      "memory usage: 42.3+ KB\n",
      "\n",
      "\n",
      "<class 'pandas.core.frame.DataFrame'>\n",
      "RangeIndex: 600 entries, 0 to 599\n",
      "Data columns (total 3 columns):\n",
      " #   Column  Non-Null Count  Dtype \n",
      "---  ------  --------------  ----- \n",
      " 0   index   600 non-null    int64 \n",
      " 1   class   600 non-null    object\n",
      " 2   title   600 non-null    object\n",
      "dtypes: int64(1), object(2)\n",
      "memory usage: 14.2+ KB\n"
     ]
    },
    {
     "data": {
      "text/plain": [
       "(None, None, None)"
      ]
     },
     "execution_count": 112,
     "metadata": {},
     "output_type": "execute_result"
    }
   ],
   "source": [
    "DATA_PATH = '../../../data/'\n",
    "df_train = pd.read_csv(DATA_PATH + 'news_clf/news_clustering_train.tsv', sep='\\t')\n",
    "df_test = pd.read_csv(DATA_PATH + 'news_clf/news_clustering_test.tsv', sep='\\t')\n",
    "\n",
    "df_train.info(), print('\\n'), df_test.info()"
   ]
  },
  {
   "cell_type": "code",
   "execution_count": 102,
   "metadata": {},
   "outputs": [
    {
     "data": {
      "text/html": [
       "<div>\n",
       "<style scoped>\n",
       "    .dataframe tbody tr th:only-of-type {\n",
       "        vertical-align: middle;\n",
       "    }\n",
       "\n",
       "    .dataframe tbody tr th {\n",
       "        vertical-align: top;\n",
       "    }\n",
       "\n",
       "    .dataframe thead th {\n",
       "        text-align: right;\n",
       "    }\n",
       "</style>\n",
       "<table border=\"1\" class=\"dataframe\">\n",
       "  <thead>\n",
       "    <tr style=\"text-align: right;\">\n",
       "      <th></th>\n",
       "      <th>index</th>\n",
       "      <th>class</th>\n",
       "      <th>title</th>\n",
       "    </tr>\n",
       "  </thead>\n",
       "  <tbody>\n",
       "    <tr>\n",
       "      <th>0</th>\n",
       "      <td>0</td>\n",
       "      <td>體育</td>\n",
       "      <td>亞洲杯奪冠賠率：日本、伊朗領銜 中國竟與泰國並列</td>\n",
       "    </tr>\n",
       "    <tr>\n",
       "      <th>1</th>\n",
       "      <td>1</td>\n",
       "      <td>體育</td>\n",
       "      <td>9輪4球本土射手僅次武磊 黃紫昌要搶最強U23頭銜</td>\n",
       "    </tr>\n",
       "    <tr>\n",
       "      <th>2</th>\n",
       "      <td>2</td>\n",
       "      <td>體育</td>\n",
       "      <td>如果今年勇士奪冠，下賽季詹姆斯何去何從？</td>\n",
       "    </tr>\n",
       "    <tr>\n",
       "      <th>3</th>\n",
       "      <td>3</td>\n",
       "      <td>體育</td>\n",
       "      <td>超級替補！科斯塔本賽季替補出場貢獻7次助攻</td>\n",
       "    </tr>\n",
       "    <tr>\n",
       "      <th>4</th>\n",
       "      <td>4</td>\n",
       "      <td>體育</td>\n",
       "      <td>騎士6天里發生了啥？從首輪搶七到次輪3-0猛龍</td>\n",
       "    </tr>\n",
       "  </tbody>\n",
       "</table>\n",
       "</div>"
      ],
      "text/plain": [
       "   index class                      title\n",
       "0      0    體育   亞洲杯奪冠賠率：日本、伊朗領銜 中國竟與泰國並列\n",
       "1      1    體育  9輪4球本土射手僅次武磊 黃紫昌要搶最強U23頭銜\n",
       "2      2    體育       如果今年勇士奪冠，下賽季詹姆斯何去何從？\n",
       "3      3    體育      超級替補！科斯塔本賽季替補出場貢獻7次助攻\n",
       "4      4    體育    騎士6天里發生了啥？從首輪搶七到次輪3-0猛龍"
      ]
     },
     "execution_count": 102,
     "metadata": {},
     "output_type": "execute_result"
    }
   ],
   "source": [
    "df_train.head()"
   ]
  },
  {
   "cell_type": "code",
   "execution_count": 101,
   "metadata": {},
   "outputs": [
    {
     "data": {
      "text/html": [
       "<div>\n",
       "<style scoped>\n",
       "    .dataframe tbody tr th:only-of-type {\n",
       "        vertical-align: middle;\n",
       "    }\n",
       "\n",
       "    .dataframe tbody tr th {\n",
       "        vertical-align: top;\n",
       "    }\n",
       "\n",
       "    .dataframe thead th {\n",
       "        text-align: right;\n",
       "    }\n",
       "</style>\n",
       "<table border=\"1\" class=\"dataframe\">\n",
       "  <thead>\n",
       "    <tr style=\"text-align: right;\">\n",
       "      <th></th>\n",
       "      <th>index</th>\n",
       "      <th>class</th>\n",
       "      <th>title</th>\n",
       "    </tr>\n",
       "  </thead>\n",
       "  <tbody>\n",
       "    <tr>\n",
       "      <th>1795</th>\n",
       "      <td>1795</td>\n",
       "      <td>遊戲</td>\n",
       "      <td>LOL：麻辣香鍋韓服Rank不合成打野刀？電刀巨魔新套路連勝中</td>\n",
       "    </tr>\n",
       "    <tr>\n",
       "      <th>1796</th>\n",
       "      <td>1796</td>\n",
       "      <td>遊戲</td>\n",
       "      <td>穩住，我們能贏！因為我們擁有這種強大的力量</td>\n",
       "    </tr>\n",
       "    <tr>\n",
       "      <th>1797</th>\n",
       "      <td>1797</td>\n",
       "      <td>遊戲</td>\n",
       "      <td>騰訊是怎樣毀掉《鬥戰神》這款可能成神的作品的？</td>\n",
       "    </tr>\n",
       "    <tr>\n",
       "      <th>1798</th>\n",
       "      <td>1798</td>\n",
       "      <td>遊戲</td>\n",
       "      <td>LOL你不知道的黑科技打法！</td>\n",
       "    </tr>\n",
       "    <tr>\n",
       "      <th>1799</th>\n",
       "      <td>1799</td>\n",
       "      <td>遊戲</td>\n",
       "      <td>遊戲拳皇各代的劇情都在講些什麼？</td>\n",
       "    </tr>\n",
       "  </tbody>\n",
       "</table>\n",
       "</div>"
      ],
      "text/plain": [
       "      index class                            title\n",
       "1795   1795    遊戲  LOL：麻辣香鍋韓服Rank不合成打野刀？電刀巨魔新套路連勝中\n",
       "1796   1796    遊戲            穩住，我們能贏！因為我們擁有這種強大的力量\n",
       "1797   1797    遊戲          騰訊是怎樣毀掉《鬥戰神》這款可能成神的作品的？\n",
       "1798   1798    遊戲                   LOL你不知道的黑科技打法！\n",
       "1799   1799    遊戲                 遊戲拳皇各代的劇情都在講些什麼？"
      ]
     },
     "execution_count": 101,
     "metadata": {},
     "output_type": "execute_result"
    }
   ],
   "source": [
    "df_train.tail()"
   ]
  },
  {
   "cell_type": "code",
   "execution_count": 104,
   "metadata": {},
   "outputs": [],
   "source": [
    "train_titles = {row['index']: row['title'] for _, row in df_train.iterrows()}\n",
    "train_classes = {row['index']: row['class'] for _, row in df_train.iterrows()}\n",
    "\n",
    "test_titles = {row['index']: row['title'] for _, row in df_test.iterrows()}\n",
    "test_classes = {row['index']: row['class'] for _, row in df_test.iterrows()}\n",
    "\n",
    "all_news_class = ['體育', '財經', '科技', '旅遊', '農業', '遊戲']"
   ]
  },
  {
   "cell_type": "markdown",
   "metadata": {},
   "source": [
    "# 斷詞 + POS"
   ]
  },
  {
   "cell_type": "code",
   "execution_count": null,
   "metadata": {
    "tags": []
   },
   "outputs": [],
   "source": [
    "ws = WS(DATA_PATH+'ckip_data/')\n",
    "pos = POS(DATA_PATH+'ckip_data/')"
   ]
  },
  {
   "cell_type": "code",
   "execution_count": 161,
   "metadata": {
    "tags": []
   },
   "outputs": [
    {
     "data": {
      "application/vnd.jupyter.widget-view+json": {
       "model_id": "b8aadf9f75fc4131bfb1e3c0b8457d39",
       "version_major": 2,
       "version_minor": 0
      },
      "text/plain": [
       "HBox(children=(HTML(value=''), FloatProgress(value=0.0, max=1800.0), HTML(value='')))"
      ]
     },
     "metadata": {},
     "output_type": "display_data"
    },
    {
     "name": "stdout",
     "output_type": "stream",
     "text": [
      "\n"
     ]
    }
   ],
   "source": [
    "train_title_cuts = {}\n",
    "for index, title in tqdm(train_titles.items()):\n",
    "    # YOUR CODE HERE\n",
    "    word_s = ws([title], sentence_segmentation=True)\n",
    "    word_p = pos([title])\n",
    "    # END YOUR CODE\n",
    "    train_title_cuts[index] = list(zip(word_s[0], word_p[0]))"
   ]
  },
  {
   "cell_type": "code",
   "execution_count": 163,
   "metadata": {
    "tags": []
   },
   "outputs": [
    {
     "data": {
      "application/vnd.jupyter.widget-view+json": {
       "model_id": "a2d61d8cffab46f490724117b65e6d0c",
       "version_major": 2,
       "version_minor": 0
      },
      "text/plain": [
       "HBox(children=(HTML(value=''), FloatProgress(value=0.0, max=600.0), HTML(value='')))"
      ]
     },
     "metadata": {},
     "output_type": "display_data"
    },
    {
     "name": "stdout",
     "output_type": "stream",
     "text": [
      "\n"
     ]
    }
   ],
   "source": [
    "test_title_cuts = {}\n",
    "for index, title in tqdm(test_titles.items()):\n",
    "    # YOUR CODE HERE\n",
    "    word_s = ws([title], sentence_segmentation=True)\n",
    "    word_p = pos([title])\n",
    "    # END YOUR CODE\n",
    "    test_title_cuts[index] = list(zip(word_s[0], word_p[0]))"
   ]
  },
  {
   "cell_type": "code",
   "execution_count": 164,
   "metadata": {},
   "outputs": [
    {
     "data": {
      "text/plain": [
       "[('國腳', 'Nc'),\n",
       " ('張呈棟', 'Na'),\n",
       " ('：', 'Nb'),\n",
       " ('從', 'VJ'),\n",
       " ('沒', 'Nf'),\n",
       " ('想', 'COLONCATEGORY'),\n",
       " ('過', 'D'),\n",
       " ('自己', 'D'),\n",
       " ('會', 'VE'),\n",
       " ('出', 'Di'),\n",
       " ('一', 'P'),\n",
       " ('本', 'Nh'),\n",
       " ('書', 'D')]"
      ]
     },
     "execution_count": 164,
     "metadata": {},
     "output_type": "execute_result"
    }
   ],
   "source": [
    "train_title_cuts[120]"
   ]
  },
  {
   "cell_type": "markdown",
   "metadata": {},
   "source": [
    "---\n",
    "# Bag of Words (BOW)"
   ]
  },
  {
   "cell_type": "code",
   "execution_count": 233,
   "metadata": {},
   "outputs": [
    {
     "name": "stdout",
     "output_type": "stream",
     "text": [
      "所有單字：25333, 不重複單字：6662\n"
     ]
    }
   ],
   "source": [
    "word2index = {}\n",
    "index2word = {}\n",
    "\n",
    "# 產生字與index對應的關係\n",
    "# YOUR CODE HERE\n",
    "\n",
    "all_words = [word for pairs in train_title_cuts.values() for word, _ in pairs]\n",
    "unique_words = list(set(all_words))\n",
    "print(f'所有單字：{len(all_words)}, 不重複單字：{len(unique_words)}')\n",
    "\n",
    "for index, word in enumerate(unique_words):\n",
    "    word2index[word] = index\n",
    "    index2word[index] = word\n",
    "    \n",
    "# END YOUR CODE"
   ]
  },
  {
   "cell_type": "code",
   "execution_count": 235,
   "metadata": {},
   "outputs": [
    {
     "data": {
      "text/plain": [
       "(3988, '溫暖')"
      ]
     },
     "execution_count": 235,
     "metadata": {},
     "output_type": "execute_result"
    }
   ],
   "source": [
    "word2index['溫暖'], index2word[3988]"
   ]
  },
  {
   "cell_type": "code",
   "execution_count": 238,
   "metadata": {},
   "outputs": [],
   "source": [
    "def get_bow_vector(pairs, word2index):\n",
    "    # YOUR CODE HERE\n",
    "    \n",
    "    vector = np.zeros(len(unique_words))\n",
    "    for word, _ in pairs:\n",
    "        vector[word2index[word]] += 1\n",
    "        \n",
    "    # END YOUR CODE\n",
    "    return vector"
   ]
  },
  {
   "cell_type": "code",
   "execution_count": 239,
   "metadata": {},
   "outputs": [
    {
     "data": {
      "text/plain": [
       "array([0., 0., 0., ..., 0., 0., 0.])"
      ]
     },
     "execution_count": 239,
     "metadata": {},
     "output_type": "execute_result"
    }
   ],
   "source": [
    "get_bow_vector(train_title_cuts[120], word2index)"
   ]
  },
  {
   "cell_type": "markdown",
   "metadata": {},
   "source": [
    "# 排除較無意義的詞性"
   ]
  },
  {
   "cell_type": "code",
   "execution_count": 243,
   "metadata": {
    "scrolled": false,
    "tags": []
   },
   "outputs": [
    {
     "name": "stdout",
     "output_type": "stream",
     "text": [
      "Nc : ['堅決', '筆', '第114', '縣區', '所在', '東方', '招待', '遵義市', '重磅', '越來越']\n",
      "----------------------------------------------------------------------------\n",
      "Na : ['報價', '新作', '險勝', '走低', '額度', '武磊', '東方', '做生意', '報關', '訣竅']\n",
      "----------------------------------------------------------------------------\n",
      "VC : ['3000億', '快速', '差點', '優惠券', '擺', '榮譽', '速遞', '猛', '外出', '十']\n",
      "----------------------------------------------------------------------------\n",
      "VD : ['貢獻', '還', '這', '徵信', '追債', '全方位', '巴中市', '都', '什麼', '發酵劑']\n",
      "----------------------------------------------------------------------------\n",
      "COLONCATEGORY : ['不應該', '多', '黃金', '還', '這', '日乒', '戶', '投票成', '剛', ' ']\n",
      "----------------------------------------------------------------------------\n",
      "PAUSECATEGORY : ['是', '，', '棉紡', '和', '炒股', '價格', '您', '年', '數據', ' ']\n",
      "----------------------------------------------------------------------------\n",
      "Neu : ['本質', '人和', 'iPad', '調整', '十', '歲', '億航', '聖堂山', '特價', 'pro7']\n",
      "----------------------------------------------------------------------------\n",
      "Nf : ['20', '測', '提示', '內容', '幫', '月', '強大型', '新增', '到', '秀麗']\n",
      "----------------------------------------------------------------------------\n",
      "Nes : ['任務', '額度', '快速', '貢獻', '本土', '黃金', '這', '實行', ' ', '高效']\n",
      "----------------------------------------------------------------------------\n",
      "Da : ['是', '最', '，', '千億', '對', '劇情', '作證', '和', '手機', '「']\n",
      "----------------------------------------------------------------------------\n",
      "VH : ['鍾馗', '古', '黑', '20', '火箭隊', '並且', '猛', '十', '歲', '重磅']\n",
      "----------------------------------------------------------------------------\n",
      "WHITESPACE : ['問題', '實施', '本土', ' ', '失敗', '發展', '起航', '老', '世乒賽', '絕招']\n",
      "----------------------------------------------------------------------------\n",
      "Cbb : ['，', '過', '結果', '安德森', '信用卡', '一', '還', '呢', '充當', ' ']\n",
      "----------------------------------------------------------------------------\n",
      "Nd : ['實施', '快速', '考察', '米飯', 'lck', '宋清輝', '摸', '這', '廣東', ' ']\n",
      "----------------------------------------------------------------------------\n",
      "COMMACATEGORY : ['20', '科技戰', '激情', '黑馬', '不管', '德', '非', '樣子', '連續', '盯']\n",
      "----------------------------------------------------------------------------\n",
      "VJ : ['多', '扎堆', '和', '問題', '領', '這', ' ', '暢玩', '山村', '資產']\n",
      "----------------------------------------------------------------------------\n",
      "P : ['快速', '大鍋', '當', '寒武紀', '種地', 'NBA', '瓜棚', '放', '四川', '玩']\n",
      "----------------------------------------------------------------------------\n",
      "EXCLAMATIONCATEGORY : ['，', '俄羅斯', '多', '黃龍火', 'LPL', '8萬', '變化', '「', '火箭隊', '還']\n",
      "----------------------------------------------------------------------------\n",
      "Nep : ['父輩', '凱西', '體驗', '火箭隊', '還', '這', ' ', '1', '清理', '當']\n",
      "----------------------------------------------------------------------------\n",
      "Di : ['黑', '和', '還', '這', '山水', '什麼', '買錯', '阿拉德', '馬', '號']\n",
      "----------------------------------------------------------------------------\n",
      "QUESTIONCATEGORY : ['分離機', '，', '約', '巴薩', '使', '證明', '一', '很少', '這', '2']\n",
      "----------------------------------------------------------------------------\n",
      "Caa : ['和', '這', ' ', '1', '什麼', '地獄', '厲害', '與', '西安比', '發展']\n",
      "----------------------------------------------------------------------------\n",
      "Nb : ['鍾馗', '多', '雍正', '心', '問', '和', '凱西', '貢獻', '希望', '黃金']\n",
      "----------------------------------------------------------------------------\n",
      "D : ['險勝', '20', '測', '另', '化肥會', '克制', '上海', '調整', '有效期', '歲']\n",
      "----------------------------------------------------------------------------\n",
      "VCL : ['多', '和', '將近', '這', ' ', '上海', '調整', '支', '棧道', '都']\n",
      "----------------------------------------------------------------------------\n",
      "FW : ['險勝', '額度', 'G7', '遊戲本', '女', '東方', 'WF.D', 'Brian Kelly', '激增', '明星賽']\n",
      "----------------------------------------------------------------------------\n",
      "VG : ['慘遭', '人才', '據說', '綠色', '黃紅元', '這', '自我', ' ', '現役', '當']\n",
      "----------------------------------------------------------------------------\n",
      "SHI : ['理念', '多', '筆', '加盟', '體驗', '差點', '小額', '這些', '怎樣', '各']\n",
      "----------------------------------------------------------------------------\n",
      "Ng : ['FW', '親身', '和', '還', '這', '煩', '不可', '保溫', ' ', '防']\n",
      "----------------------------------------------------------------------------\n",
      "Ncd : ['野草', '慶祝', '垃圾桶', '多', '問', '遊戲本', '極致', '東方', '這', '不同']\n",
      "----------------------------------------------------------------------------\n",
      "VK : ['黑', '和', '希望', '還', ' ', '方式', '李秋平', '做到', '什麼', '操作']\n",
      "----------------------------------------------------------------------------\n",
      "T : ['樸泰夏', '多', '大陸', '快速', '兌換', '希望', '火箭隊', '這', '換', '什麼']\n",
      "----------------------------------------------------------------------------\n",
      "PERIODCATEGORY : ['男友', '20', '旅遊節', '？', '都', '圖', '農急', '能', '·', '新']\n",
      "----------------------------------------------------------------------------\n",
      "VF : ['，', '問題', '打球', '拒絕', '一', '熱點', '融入', '自己', '借款', '大師']\n",
      "----------------------------------------------------------------------------\n",
      "VE : ['缺', '啦', '理論', '黃金', '提供', '這', '指紋', '懷疑', ' ', '劉詩雯']\n",
      "----------------------------------------------------------------------------\n",
      "Neqa : ['是', '，', ' 2017', '戰火箭', '一', '大豆', ' ', '排名', '人', '排行榜']\n",
      "----------------------------------------------------------------------------\n",
      "Nh : ['問題', '和', '蛋', ' ', '當', '都', '什麼', '厲害', '玩', '紅糖']\n",
      "----------------------------------------------------------------------------\n",
      "DE : ['多', '古', '和', '加盟', '農家樂', '准', '還', '球王', '這', '可否']\n",
      "----------------------------------------------------------------------------\n",
      "VAC : ['，', '機器人', '積分', '一', '承包', '醫療', '回應', '十', '4', '人']\n",
      "----------------------------------------------------------------------------\n",
      "V_2 : ['多', '拒絕', '還', '經驗', '不同', '少', '途徑', '什麼', '旺長', '怎樣']\n",
      "----------------------------------------------------------------------------\n",
      "Dfa : ['新作', '多', '可惜', '體驗', '款', '算卦', '便宜', '換', '轉農', '什麼']\n",
      "----------------------------------------------------------------------------\n",
      "DASHCATEGORY : ['，', '馬化騰', 'EOS', '代碼', '「', '一', '主義', '2018年度', '特里', '國安']\n",
      "----------------------------------------------------------------------------\n",
      "VHC : ['溫格', '後市', '，', '期間', '時光', '防倒劑', '肥料', '掌握', '60多', '(']\n",
      "----------------------------------------------------------------------------\n",
      "A : ['溫氏', '和', '黃金', '月亮', '都', '操作', '玩', '成', '意外', '網絡']\n",
      "----------------------------------------------------------------------------\n",
      "VA : ['行長', '多', '百出', '和', '飛車手', '傻', '還', '這', '開灤', '天命']\n",
      "----------------------------------------------------------------------------\n",
      "I : ['哦']\n",
      "----------------------------------------------------------------------------\n",
      "VL : ['，', '德羅贊', '惜', '馬化騰', '時光', '過', '還是', '關閉', '「', '數據']\n",
      "----------------------------------------------------------------------------\n",
      "Dk : ['歷史', '過']\n",
      "----------------------------------------------------------------------------\n",
      "Nv : ['？', '都', '奪', '玉米', '盼', '不', '時候', '飛機票', '熱熱鬧鬧', '指標']\n",
      "----------------------------------------------------------------------------\n",
      "PARENTHESISCATEGORY : ['多', '保駕', '女', '感嘆', '零售', '追加', '這', '周銷量', '跳', '關係']\n",
      "----------------------------------------------------------------------------\n",
      "Cab : ['的', '這些', '年', '交', '進一步', '後', '列', '行協', '沃爾瑪']\n",
      "----------------------------------------------------------------------------\n",
      "VI : [' ']\n",
      "----------------------------------------------------------------------------\n",
      "Neqb : ['坑害', '喜好', '護', '製作', '有', '朱', '想不到', '算', '遊玩']\n",
      "----------------------------------------------------------------------------\n",
      "VB : ['？', '大', '而是', '開放', '地方', '兩', '更', '合伙', '期待', '借貸']\n",
      "----------------------------------------------------------------------------\n",
      "SEMICOLONCATEGORY : ['基地', '發熱', '；']\n",
      "----------------------------------------------------------------------------\n",
      "ETCCATEGORY : ['最多', '融資', '紛紛', '大佬']\n",
      "----------------------------------------------------------------------------\n",
      "DOTCATEGORY : ['道', '年']\n",
      "----------------------------------------------------------------------------\n",
      "Dfb : ['了', '它']\n",
      "----------------------------------------------------------------------------\n"
     ]
    }
   ],
   "source": [
    "pos_analysis = {}\n",
    "for _, pairs in train_title_cuts.items():\n",
    "    for word, flag in pairs:\n",
    "        if flag not in pos_analysis:\n",
    "            pos_analysis[flag] = set()\n",
    "        pos_analysis[flag].add(word)\n",
    "\n",
    "for flag, words in pos_analysis.items():\n",
    "    print(flag, ':', list(words)[:10])\n",
    "    print('----------------------------------------------------------------------------')"
   ]
  },
  {
   "cell_type": "markdown",
   "metadata": {},
   "source": [
    "|         Type        |     Description    |\n",
    "|:-------------------:|:------------------:|\n",
    "| A                   | 非謂形容詞         |\n",
    "| Caa                 | 對等連接詞         |\n",
    "| Cab                 | 連接詞，如：等等   |\n",
    "| Cba                 | 連接詞，如：的話   |\n",
    "| Cbb                 | 關聯連接詞         |\n",
    "| D                   | 副詞               |\n",
    "| Da                  | 數量副詞           |\n",
    "| Dfa                 | 動詞前程度副詞     |\n",
    "| Dfb                 | 動詞後程度副詞     |\n",
    "| Di                  | 時態標記           |\n",
    "| Dk                  | 句副詞             |\n",
    "| DM                  | 定量式             |\n",
    "| I                   | 感嘆詞             |\n",
    "| Na                  | 普通名詞           |\n",
    "| Nb                  | 專有名詞           |\n",
    "| Nc                  | 地方詞             |\n",
    "| Ncd                 | 位置詞             |\n",
    "| Nd                  | 時間詞             |\n",
    "| Nep                 | 指代定詞           |\n",
    "| Neqa                | 數量定詞           |\n",
    "| Neqb                | 後置數量定詞       |\n",
    "| Nes                 | 特指定詞           |\n",
    "| Neu                 | 數詞定詞           |\n",
    "| Nf                  | 量詞               |\n",
    "| Ng                  | 後置詞             |\n",
    "| Nh                  | 代名詞             |\n",
    "| Nv                  | 名物化動詞         |\n",
    "| P                   | 介詞               |\n",
    "| T                   | 語助詞             |\n",
    "| VA                  | 動作不及物動詞     |\n",
    "| VAC                 | 動作使動動詞       |\n",
    "| VB                  | 動作類及物動詞     |\n",
    "| VC                  | 動作及物動詞       |\n",
    "| VCL                 | 動作接地方賓語動詞 |\n",
    "| VD                  | 雙賓動詞           |\n",
    "| VF                  | 動作謂賓動詞       |\n",
    "| VE                  | 動作句賓動詞       |\n",
    "| VG                  | 分類動詞           |\n",
    "| VH                  | 狀態不及物動詞     |\n",
    "| VHC                 | 狀態使動動詞       |\n",
    "| VI                  | 狀態類及物動詞     |\n",
    "| VJ                  | 狀態及物動詞       |\n",
    "| VK                  | 狀態句賓動詞       |\n",
    "| VL                  | 狀態謂賓動詞       |\n",
    "| V_2                 | 有                 |\n",
    "|                     |                    |\n",
    "| DE                  | 的之得地           |\n",
    "| SHI                 | 是                 |\n",
    "| FW                  | 外文               |\n",
    "|                     |                    |\n",
    "| COLONCATEGORY       | 冒號               |\n",
    "| COMMACATEGORY       | 逗號               |\n",
    "| DASHCATEGORY        | 破折號             |\n",
    "| DOTCATEGORY         | 點號               |\n",
    "| ETCCATEGORY         | 刪節號             |\n",
    "| EXCLAMATIONCATEGORY | 驚嘆號             |\n",
    "| PARENTHESISCATEGORY | 括號               |\n",
    "| PAUSECATEGORY       | 頓號               |\n",
    "| PERIODCATEGORY      | 句號               |\n",
    "| QUESTIONCATEGORY    | 問號               |\n",
    "| SEMICOLONCATEGORY   | 分號               |\n",
    "| SPCHANGECATEGORY    | 雙直線             |\n",
    "| WHITESPACE          | 空白               |"
   ]
  },
  {
   "cell_type": "code",
   "execution_count": 244,
   "metadata": {},
   "outputs": [],
   "source": [
    "def get_bow_vector_with_selection(pairs, word2index):\n",
    "    excluded_flags = [\n",
    "        # 根據以上列舉出來的文字以及詞性表，請列出想要排除的詞性\n",
    "        # YOUR CODE HERE\n",
    "        'Dfb', 'DOTCATEGORY', 'Da', 'DE'\n",
    "        # END YOUR CODE\n",
    "    ]\n",
    "    vector = np.zeros(len(word2index))\n",
    "    for word, flag in pairs:\n",
    "        if word in word2index and flag not in excluded_flags:\n",
    "            vector[word2index[word]] += 1\n",
    "    return vector"
   ]
  },
  {
   "cell_type": "markdown",
   "metadata": {},
   "source": [
    "# Cosine Similarity"
   ]
  },
  {
   "cell_type": "code",
   "execution_count": 248,
   "metadata": {},
   "outputs": [],
   "source": [
    "def cosine_similarity(bow1, bow2):\n",
    "    # YOUR CODE HERE\n",
    "    \n",
    "    v1 = bow1 / (np.sqrt(np.sum(bow1**2)) + 1e-8)\n",
    "    v2 = bow2 / (np.sqrt(np.sum(bow2**2)) + 1e-8)\n",
    "    similarity = np.dot(v1, v2)\n",
    "    \n",
    "    # END YOUR CODE\n",
    "    return similarity"
   ]
  },
  {
   "cell_type": "code",
   "execution_count": 249,
   "metadata": {},
   "outputs": [
    {
     "data": {
      "text/plain": [
       "0.08703882746415753"
      ]
     },
     "execution_count": 249,
     "metadata": {},
     "output_type": "execute_result"
    }
   ],
   "source": [
    "bow1 = get_bow_vector(train_title_cuts[100], word2index)\n",
    "bow2 = get_bow_vector(train_title_cuts[130], word2index)\n",
    "cosine_similarity(bow1, bow2)"
   ]
  },
  {
   "cell_type": "code",
   "execution_count": 250,
   "metadata": {},
   "outputs": [
    {
     "data": {
      "text/plain": [
       "[('山東', 'Na'),\n",
       " ('魯能', 'Ncd'),\n",
       " ('有沒有', 'Nc'),\n",
       " ('可能', 'D'),\n",
       " ('拿到', 'V_2'),\n",
       " ('今年', 'D'),\n",
       " ('的', 'V_2'),\n",
       " ('中', 'D'),\n",
       " ('超', 'D'),\n",
       " ('冠軍', 'VC'),\n",
       " ('？', 'P')]"
      ]
     },
     "execution_count": 250,
     "metadata": {},
     "output_type": "execute_result"
    }
   ],
   "source": [
    "train_title_cuts[100]"
   ]
  },
  {
   "cell_type": "code",
   "execution_count": 251,
   "metadata": {},
   "outputs": [
    {
     "data": {
      "text/plain": [
       "[('NBA', 'FW'),\n",
       " ('和', 'FW'),\n",
       " ('CBA', 'FW'),\n",
       " ('差距', 'Caa'),\n",
       " ('在', 'FW'),\n",
       " ('哪裡', 'FW'),\n",
       " ('？', 'FW'),\n",
       " ('6', 'VH'),\n",
       " ('張', 'Na'),\n",
       " ('圖', 'P'),\n",
       " ('一目瞭然', 'Nep'),\n",
       " ('！', 'Ncd')]"
      ]
     },
     "execution_count": 251,
     "metadata": {},
     "output_type": "execute_result"
    }
   ],
   "source": [
    "train_title_cuts[130]"
   ]
  },
  {
   "cell_type": "markdown",
   "metadata": {},
   "source": [
    "---\n",
    "# Group mean vector: 訓練"
   ]
  },
  {
   "cell_type": "code",
   "execution_count": 253,
   "metadata": {},
   "outputs": [
    {
     "data": {
      "text/plain": [
       "{'體育': [], '財經': [], '科技': [], '旅遊': [], '農業': [], '遊戲': []}"
      ]
     },
     "execution_count": 253,
     "metadata": {},
     "output_type": "execute_result"
    }
   ],
   "source": [
    "group_vectors = {news_class: [] for news_class in all_news_class}\n",
    "group_vectors"
   ]
  },
  {
   "cell_type": "code",
   "execution_count": 260,
   "metadata": {},
   "outputs": [
    {
     "data": {
      "text/plain": [
       "[array([0., 0., 0., ..., 0., 0., 0.]),\n",
       " array([0., 0., 0., ..., 0., 0., 0.]),\n",
       " array([0., 0., 0., ..., 0., 0., 0.]),\n",
       " array([0., 0., 0., ..., 0., 0., 0.]),\n",
       " array([0., 0., 0., ..., 0., 0., 0.])]"
      ]
     },
     "execution_count": 260,
     "metadata": {},
     "output_type": "execute_result"
    }
   ],
   "source": [
    "for index, pairs in sorted(train_title_cuts.items()):\n",
    "    vector = get_bow_vector_with_selection(pairs, word2index)\n",
    "    news_class = train_classes[index]\n",
    "    group_vectors[news_class].append(vector)\n",
    "\n",
    "group_vectors['體育'][:5]"
   ]
  },
  {
   "cell_type": "code",
   "execution_count": 261,
   "metadata": {},
   "outputs": [
    {
     "data": {
      "text/plain": [
       "{'體育': array([0.00333333, 0.        , 0.        , ..., 0.00666667, 0.02666667,\n",
       "        0.        ]),\n",
       " '財經': array([0.        , 0.00333333, 0.        , ..., 0.00333333, 0.04      ,\n",
       "        0.        ]),\n",
       " '科技': array([0.        , 0.        , 0.        , ..., 0.01333333, 0.01666667,\n",
       "        0.        ]),\n",
       " '旅遊': array([0.        , 0.        , 0.        , ..., 0.01333333, 0.01      ,\n",
       "        0.00333333]),\n",
       " '農業': array([0.        , 0.        , 0.00333333, ..., 0.01      , 0.05      ,\n",
       "        0.        ]),\n",
       " '遊戲': array([0.        , 0.        , 0.        , ..., 0.01      , 0.02666667,\n",
       "        0.        ])}"
      ]
     },
     "execution_count": 261,
     "metadata": {},
     "output_type": "execute_result"
    }
   ],
   "source": [
    "group_mean_vector = {}\n",
    "\n",
    "for news_class, vectors in group_vectors.items():\n",
    "    group_mean_vector[news_class] = np.mean(vectors, axis=0)\n",
    "    \n",
    "group_mean_vector"
   ]
  },
  {
   "cell_type": "markdown",
   "metadata": {},
   "source": [
    "# Group mean vector: 測試"
   ]
  },
  {
   "cell_type": "code",
   "execution_count": 262,
   "metadata": {
    "tags": []
   },
   "outputs": [],
   "source": [
    "classification = {news_class: [] for news_class in all_news_class}\n",
    "\n",
    "for index, pairs in sorted(test_title_cuts.items()):\n",
    "    vector = get_bow_vector_with_selection(pairs, word2index)\n",
    "    if np.sum(np.square(vector)) == 0:\n",
    "        continue\n",
    "\n",
    "    max_val = -2.0\n",
    "    max_class = None\n",
    "    for news_class, ref_vector in group_mean_vector.items():\n",
    "        val = cosine_similarity(ref_vector, vector)\n",
    "        if val > max_val:\n",
    "            max_class = news_class\n",
    "            max_val = val\n",
    "\n",
    "    classification[max_class].append(index)"
   ]
  },
  {
   "cell_type": "code",
   "execution_count": 263,
   "metadata": {},
   "outputs": [
    {
     "name": "stdout",
     "output_type": "stream",
     "text": [
      "predict 體育 :  Counter({'體育': 53, '財經': 18, '農業': 13, '科技': 10, '旅遊': 10, '遊戲': 8})\n",
      "predict 財經 :  Counter({'財經': 28, '科技': 9, '農業': 7, '旅遊': 6, '體育': 5, '遊戲': 2})\n",
      "predict 科技 :  Counter({'科技': 59, '旅遊': 27, '財經': 25, '農業': 22, '遊戲': 21, '體育': 20})\n",
      "predict 旅遊 :  Counter({'旅遊': 44, '財經': 11, '農業': 11, '遊戲': 8, '體育': 4, '科技': 3})\n",
      "predict 農業 :  Counter({'農業': 43, '科技': 13, '遊戲': 10, '體育': 9, '財經': 8, '旅遊': 7})\n",
      "predict 遊戲 :  Counter({'遊戲': 51, '財經': 10, '體育': 8, '旅遊': 6, '科技': 5, '農業': 4})\n"
     ]
    }
   ],
   "source": [
    "from collections import Counter\n",
    "\n",
    "for group, ids in classification.items():\n",
    "    counter = Counter([test_classes[id] for id in ids])\n",
    "    print('predict', group, ': ', counter)"
   ]
  }
 ],
 "metadata": {
  "kernelspec": {
   "display_name": "Python 3",
   "language": "python",
   "name": "python3"
  },
  "language_info": {
   "codemirror_mode": {
    "name": "ipython",
    "version": 3
   },
   "file_extension": ".py",
   "mimetype": "text/x-python",
   "name": "python",
   "nbconvert_exporter": "python",
   "pygments_lexer": "ipython3",
   "version": "3.6.8"
  }
 },
 "nbformat": 4,
 "nbformat_minor": 2
}
