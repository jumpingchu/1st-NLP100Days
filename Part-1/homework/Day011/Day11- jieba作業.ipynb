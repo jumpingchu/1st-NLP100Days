{
 "cells": [
  {
   "cell_type": "markdown",
   "metadata": {},
   "source": [
    "## 作業目標：運用課程所學，操作字串達到預期輸出"
   ]
  },
  {
   "cell_type": "markdown",
   "metadata": {},
   "source": [
    "* 自行尋找一篇超過 100 字的文章\n",
    "    * 首先運用結巴斷詞，自行新增字典使得斷詞更為正確\n",
    "    * 使用 jieba 完成 PoS Tagging\n",
    "    * 新增的詞也必須賦予詞性"
   ]
  },
  {
   "cell_type": "markdown",
   "metadata": {},
   "source": [
    "---"
   ]
  },
  {
   "cell_type": "code",
   "execution_count": 1,
   "metadata": {},
   "outputs": [],
   "source": [
    "import jieba\n",
    "import jieba.posseg as pseg\n",
    "jieba.set_dictionary('dict.txt')"
   ]
  },
  {
   "cell_type": "markdown",
   "metadata": {},
   "source": [
    "---"
   ]
  },
  {
   "cell_type": "code",
   "execution_count": 13,
   "metadata": {},
   "outputs": [],
   "source": [
    "sentence = '''《如果30歲還是處男，似乎就能成為魔法師》是日本一部耽美愛情喜劇題材漫畫，由豊田悠擔任作者。最初該作是在Twitter上成為熱門話題後才開始轉為連載作品。該作也被簡稱為「處男魔法」。本作曾獲得「2019年度全國書店員工精選BL漫畫推薦」第1名的成績。直到30歲還保持童貞的安達清終於擁有了「閱讀所觸及之人內心」的魔法。回到辦公室的安達不小心「讀」到了營業部同儕帥哥黑澤優一的內心，發現了他對自己的愛慕之情。'''"
   ]
  },
  {
   "cell_type": "code",
   "execution_count": 14,
   "metadata": {},
   "outputs": [
    {
     "data": {
      "text/plain": [
       "'《如果30歲還是處男，似乎就能成為魔法師》是日本一部耽美愛情喜劇題材漫畫，由豊田悠擔任作者。最初該作是在Twitter上成為熱門話題後才開始轉為連載作品。該作也被簡稱為「處男魔法」。本作曾獲得「2019年度全國書店員工精選BL漫畫推薦」第1名的成績。直到30歲還保持童貞的安達清終於擁有了「閱讀所觸及之人內心」的魔法。回到辦公室的安達不小心「讀」到了營業部同儕帥哥黑澤優一的內心，發現了他對自己的愛慕之情。'"
      ]
     },
     "execution_count": 14,
     "metadata": {},
     "output_type": "execute_result"
    }
   ],
   "source": [
    "sentence"
   ]
  },
  {
   "cell_type": "code",
   "execution_count": 15,
   "metadata": {},
   "outputs": [
    {
     "name": "stdout",
     "output_type": "stream",
     "text": [
      "output 精確模式: 《|如果|30|歲|還是|處男|，|似乎|就|能|成為|魔法師|》|是|日本|一部|耽美|愛情|喜劇|題材|漫畫|，|由|豊|田悠|擔任|作者|。|最初|該作|是|在|Twitter|上|成為|熱門|話題|後|才|開始|轉為|連載|作品|。|該作|也|被|簡稱為|「|處男|魔法|」|。|本作|曾|獲得|「|2019|年度|全國|書店|員工|精選|BL|漫畫|推薦|」|第|1|名|的|成績|。|直到|30|歲還|保持|童貞|的|安達|清|終於|擁有|了|「|閱讀|所|觸及|之人|內心|」|的|魔法|。|回到|辦公室|的|安達|不|小心|「|讀|」|到|了|營業部|同儕|帥哥|黑澤優|一|的|內心|，|發現|了|他|對|自己|的|愛慕|之情|。\n"
     ]
    }
   ],
   "source": [
    "print('output 精確模式: {}'.format('|'.join(jieba.cut(sentence))))"
   ]
  },
  {
   "cell_type": "markdown",
   "metadata": {},
   "source": [
    "## 新增字典"
   ]
  },
  {
   "cell_type": "code",
   "execution_count": 17,
   "metadata": {},
   "outputs": [],
   "source": [
    "new_words = '豊田悠 n\\n安達清 n\\n黑澤優一 n\\n不小心 rb'\n",
    "with open('new_words.txt', 'w') as f:\n",
    "    f.write(new_words)"
   ]
  },
  {
   "cell_type": "code",
   "execution_count": 18,
   "metadata": {},
   "outputs": [],
   "source": [
    "jieba.load_userdict('new_words.txt')"
   ]
  },
  {
   "cell_type": "code",
   "execution_count": 19,
   "metadata": {},
   "outputs": [
    {
     "name": "stdout",
     "output_type": "stream",
     "text": [
      "output 精確模式: 《|如果|30|歲|還是|處男|，|似乎|就|能|成為|魔法師|》|是|日本|一部|耽美|愛情|喜劇|題材|漫畫|，|由|豊田悠|擔任|作者|。|最初|該作|是|在|Twitter|上|成為|熱門|話題|後|才|開始|轉為|連載|作品|。|該作|也|被|簡稱為|「|處男|魔法|」|。|本作|曾|獲得|「|2019|年度|全國|書店|員工|精選|BL|漫畫|推薦|」|第|1|名|的|成績|。|直到|30|歲還|保持|童貞|的|安達清|終於|擁有|了|「|閱讀|所|觸及|之人|內心|」|的|魔法|。|回到|辦公室|的|安達|不小心|「|讀|」|到|了|營業部|同儕|帥哥|黑澤優一|的|內心|，|發現|了|他|對|自己|的|愛慕|之情|。\n"
     ]
    }
   ],
   "source": [
    "print('output 精確模式: {}'.format('|'.join(jieba.cut(sentence))))"
   ]
  },
  {
   "cell_type": "markdown",
   "metadata": {},
   "source": [
    "## Tagging"
   ]
  },
  {
   "cell_type": "code",
   "execution_count": 20,
   "metadata": {},
   "outputs": [],
   "source": [
    "import jieba.posseg as pseg"
   ]
  },
  {
   "cell_type": "code",
   "execution_count": 22,
   "metadata": {
    "scrolled": false
   },
   "outputs": [
    {
     "name": "stdout",
     "output_type": "stream",
     "text": [
      "《 x\n",
      "如果 c\n",
      "30 m\n",
      "歲 m\n",
      "還是 x\n",
      "處男 x\n",
      "， x\n",
      "似乎 d\n",
      "就 d\n",
      "能 v\n",
      "成為 x\n",
      "魔法師 x\n",
      "》 x\n",
      "是 v\n",
      "日本 ns\n",
      "一部 m\n",
      "耽美 x\n",
      "愛情 x\n",
      "喜劇 x\n",
      "題材 x\n",
      "漫畫 x\n",
      "， x\n",
      "由 p\n",
      "豊田悠 n\n",
      "擔任 x\n",
      "作者 n\n",
      "。 x\n",
      "最初 t\n",
      "該 r\n",
      "作 v\n",
      "是 v\n",
      "在 p\n",
      "Twitter eng\n",
      "上 ns\n",
      "成為 x\n",
      "熱門 x\n",
      "話題 x\n",
      "後 nr\n",
      "才 d\n",
      "開始 x\n",
      "轉為 x\n",
      "連載 x\n",
      "作品 n\n",
      "。 x\n",
      "該 r\n",
      "作 v\n",
      "也 d\n",
      "被 p\n",
      "簡稱為 x\n",
      "「 x\n",
      "處男 x\n",
      "魔法 n\n",
      "」 x\n",
      "。 x\n",
      "本 r\n",
      "作 v\n",
      "曾 d\n",
      "獲得 x\n",
      "「 x\n",
      "2019 m\n",
      "年度 n\n",
      "全國 x\n",
      "書店 x\n",
      "員工 x\n",
      "精選 x\n",
      "BL eng\n",
      "漫畫 x\n",
      "推薦 x\n",
      "」 x\n",
      "第 m\n",
      "1 m\n",
      "名 m\n",
      "的 uj\n",
      "成績 x\n",
      "。 x\n",
      "直到 v\n",
      "30 m\n",
      "歲 m\n",
      "還 d\n",
      "保持 v\n",
      "童貞 x\n",
      "的 uj\n",
      "安達清 n\n",
      "終於 x\n",
      "擁有 x\n",
      "了 ul\n",
      "「 x\n",
      "閱讀 x\n",
      "所 c\n",
      "觸及 x\n",
      "之人 r\n",
      "內心 x\n",
      "」 x\n",
      "的 uj\n",
      "魔法 n\n",
      "。 x\n",
      "回到 v\n",
      "辦公室 x\n",
      "的 uj\n",
      "安達 x\n",
      "不小心 rb\n",
      "「 x\n",
      "讀 x\n",
      "」 x\n",
      "到 v\n",
      "了 ul\n",
      "營業部 x\n",
      "同儕 x\n",
      "帥哥 x\n",
      "黑澤優一 n\n",
      "的 uj\n",
      "內心 x\n",
      "， x\n",
      "發現 x\n",
      "了 ul\n",
      "他 r\n",
      "對 p\n",
      "自己 r\n",
      "的 uj\n",
      "愛慕 x\n",
      "之 u\n",
      "情 n\n",
      "。 x\n"
     ]
    }
   ],
   "source": [
    "words = pseg.cut(sentence,)\n",
    "for word, flag in words:\n",
    "    print(word, flag)"
   ]
  }
 ],
 "metadata": {
  "kernelspec": {
   "display_name": "Python 3",
   "language": "python",
   "name": "python3"
  },
  "language_info": {
   "codemirror_mode": {
    "name": "ipython",
    "version": 3
   },
   "file_extension": ".py",
   "mimetype": "text/x-python",
   "name": "python",
   "nbconvert_exporter": "python",
   "pygments_lexer": "ipython3",
   "version": "3.6.8"
  }
 },
 "nbformat": 4,
 "nbformat_minor": 2
}
