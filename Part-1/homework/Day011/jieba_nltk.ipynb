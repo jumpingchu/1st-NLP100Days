{
 "cells": [
  {
   "cell_type": "markdown",
   "metadata": {},
   "source": [
    "# Jieba"
   ]
  },
  {
   "cell_type": "markdown",
   "metadata": {},
   "source": [
    "---"
   ]
  },
  {
   "cell_type": "code",
   "execution_count": 3,
   "metadata": {},
   "outputs": [],
   "source": [
    "#pip3 install jieba\n",
    "import jieba"
   ]
  },
  {
   "cell_type": "markdown",
   "metadata": {},
   "source": [
    "#### jieba內建詞庫為簡體字詞庫，部分句法與繁體字有差異，因此我們可以手動設置詞庫\n",
    "* 詞庫來源：https://github.com/ldkrsi/jieba-zh_TW"
   ]
  },
  {
   "cell_type": "code",
   "execution_count": 4,
   "metadata": {},
   "outputs": [],
   "source": [
    "jieba.set_dictionary('dict.txt')"
   ]
  },
  {
   "cell_type": "markdown",
   "metadata": {},
   "source": [
    "## 複習jieba 斷句\n",
    "* 中文與英文最大的差異之一，就是中文句子一般都要先經過斷句處理(英文單詞間有空格)\n",
    "* 先前已有課程介紹jieba斷詞，因此這裡只會快速帶過，幫助我們可以使用jieba完成PoS Tagging"
   ]
  },
  {
   "cell_type": "code",
   "execution_count": 5,
   "metadata": {},
   "outputs": [],
   "source": [
    "sentence_1 = \"我愛寫程式\"\n",
    "sentence_2 = \"Python是一種廣泛使用的直譯式、進階程式、通用型程式語言\""
   ]
  },
  {
   "cell_type": "markdown",
   "metadata": {},
   "source": [
    "* cut_all: 調整全模式、精確模式(默認False為精確模式)\n",
    "* HMM: 是否使用HMM算法，可以使用 HMM 模型（Hidden Markov Models）找出『未登錄詞』"
   ]
  },
  {
   "cell_type": "code",
   "execution_count": 6,
   "metadata": {},
   "outputs": [
    {
     "name": "stderr",
     "output_type": "stream",
     "text": [
      "Building prefix dict from /Users/jeff.yang/Desktop/NLP課程規劃/Ch11 - Part Of Speech (PoS)-2/課程練習/dict.txt ...\n",
      "Loading model from cache /var/folders/0f/byp88j0d48n_pnf6bpt587z80000gn/T/jieba.u942158f562cb02c8c431e7033039a2c3.cache\n",
      "Loading model cost 0.488 seconds.\n",
      "Prefix dict has been built successfully.\n"
     ]
    },
    {
     "name": "stdout",
     "output_type": "stream",
     "text": [
      "output 精確模式: 我|愛寫|程式\n",
      "output 全模式: 我愛|愛寫|程式\n"
     ]
    }
   ],
   "source": [
    "print(\"output 精確模式: {}\".format('|'.join(jieba.cut(sentence_1, cut_all=False, HMM=False))))\n",
    "print(\"output 全模式: {}\".format('|'.join(jieba.cut(sentence_1, cut_all=True, HMM=False))))"
   ]
  },
  {
   "cell_type": "code",
   "execution_count": 7,
   "metadata": {},
   "outputs": [
    {
     "name": "stdout",
     "output_type": "stream",
     "text": [
      "output 精確模式: Python|是|一|種|廣泛|使用|的|直譯|式|、|進階|程式|、|通用型|程式|語言\n",
      "output 精確模式加上HMM: Python|是|一種|廣泛|使用|的|直譯|式|、|進階|程式|、|通用型|程式|語言\n",
      "output 全模式: Python|是一|種|廣泛|使用|的|直譯|式|、|進階|程式|、|通用|通用型|程式|語言\n"
     ]
    }
   ],
   "source": [
    "print(\"output 精確模式: {}\".format('|'.join(jieba.cut(sentence_2, cut_all=False, HMM=False))))\n",
    "print(\"output 精確模式加上HMM: {}\".format('|'.join(jieba.cut(sentence_2, cut_all=False, HMM=True))))\n",
    "print(\"output 全模式: {}\".format('|'.join(jieba.cut(sentence_2, cut_all=True, HMM=False))))"
   ]
  },
  {
   "cell_type": "markdown",
   "metadata": {},
   "source": [
    "## 新增單詞\n",
    "* 有些特殊字如人名、術語等不會在內建詞庫內，因此模型無法正確斷句，此時我們可以自己新增字詞"
   ]
  },
  {
   "cell_type": "code",
   "execution_count": 8,
   "metadata": {},
   "outputs": [],
   "source": [
    "sentence_1 = \"精通各種程式語言是一件相當困難的事情\""
   ]
  },
  {
   "cell_type": "code",
   "execution_count": 9,
   "metadata": {},
   "outputs": [
    {
     "name": "stdout",
     "output_type": "stream",
     "text": [
      "output 精確模式: 精通|各|種|程式|語言|是|一|件|相當|困難|的|事情\n"
     ]
    }
   ],
   "source": [
    "print(\"output 精確模式: {}\".format('|'.join(jieba.cut(sentence_1, cut_all=False, HMM=False))))"
   ]
  },
  {
   "cell_type": "code",
   "execution_count": 10,
   "metadata": {},
   "outputs": [],
   "source": [
    "jieba.add_word('程式語言')"
   ]
  },
  {
   "cell_type": "code",
   "execution_count": 11,
   "metadata": {},
   "outputs": [
    {
     "name": "stdout",
     "output_type": "stream",
     "text": [
      "output 精確模式: 精通|各|種|程式語言|是|一|件|相當|困難|的|事情\n"
     ]
    }
   ],
   "source": [
    "print(\"output 精確模式: {}\".format('|'.join(jieba.cut(sentence_1, cut_all=False, HMM=False))))"
   ]
  },
  {
   "cell_type": "markdown",
   "metadata": {},
   "source": [
    "---"
   ]
  },
  {
   "cell_type": "markdown",
   "metadata": {},
   "source": [
    "## 我們也可以讀入整個字典，就不用一個字一個字慢慢新增"
   ]
  },
  {
   "cell_type": "code",
   "execution_count": 12,
   "metadata": {},
   "outputs": [],
   "source": [
    "## 新增單詞 ，格式：每行包含一個單詞 詞頻(可省略) 詞性(可省略)\n",
    "new_words = '程式語言\\nCupoy平台\\n自然語言處理'\n",
    "with open('new_words.txt', 'w') as file:\n",
    "    file.write(new_words)"
   ]
  },
  {
   "cell_type": "code",
   "execution_count": 13,
   "metadata": {},
   "outputs": [
    {
     "name": "stdout",
     "output_type": "stream",
     "text": [
      "output 精確模式: 我|在|Cupoy|平台|上|學習|自然|語言|處理\n"
     ]
    }
   ],
   "source": [
    "sentence_1 = \"我在Cupoy平台上學習自然語言處理\"\n",
    "print(\"output 精確模式: {}\".format('|'.join(jieba.cut(sentence_1, cut_all=False, HMM=False))))"
   ]
  },
  {
   "cell_type": "code",
   "execution_count": 14,
   "metadata": {},
   "outputs": [],
   "source": [
    "## 讀入字典\n",
    "jieba.load_userdict('new_words.txt')"
   ]
  },
  {
   "cell_type": "code",
   "execution_count": 15,
   "metadata": {},
   "outputs": [
    {
     "name": "stdout",
     "output_type": "stream",
     "text": [
      "output 精確模式: 我|在|Cupoy平台|上|學習|自然語言處理\n"
     ]
    }
   ],
   "source": [
    "sentence_1 = \"我在Cupoy平台上學習自然語言處理\"\n",
    "print(\"output 精確模式: {}\".format('|'.join(jieba.cut(sentence_1, cut_all=False, HMM=False))))"
   ]
  },
  {
   "cell_type": "markdown",
   "metadata": {},
   "source": [
    "---"
   ]
  },
  {
   "cell_type": "markdown",
   "metadata": {},
   "source": [
    "## Tokenize:可以用來取出斷詞位置"
   ]
  },
  {
   "cell_type": "code",
   "execution_count": 40,
   "metadata": {},
   "outputs": [],
   "source": [
    "sentence_2 = \"Python是一種廣泛使用的直譯式、進階程式、通用型程式語言\""
   ]
  },
  {
   "cell_type": "code",
   "execution_count": 41,
   "metadata": {},
   "outputs": [
    {
     "name": "stdout",
     "output_type": "stream",
     "text": [
      "word: Python,      start:0, end:6\n",
      "word: 是,      start:6, end:7\n",
      "word: 一種,      start:7, end:9\n",
      "word: 廣泛,      start:9, end:11\n",
      "word: 使用,      start:11, end:13\n",
      "word: 的,      start:13, end:14\n",
      "word: 直譯,      start:14, end:16\n",
      "word: 式,      start:16, end:17\n",
      "word: 、,      start:17, end:18\n",
      "word: 進階,      start:18, end:20\n",
      "word: 程式,      start:20, end:22\n",
      "word: 、,      start:22, end:23\n",
      "word: 通用型,      start:23, end:26\n",
      "word: 程式語言,      start:26, end:30\n"
     ]
    }
   ],
   "source": [
    "words = jieba.tokenize(sentence_2,)\n",
    "for tk in words:\n",
    "    print(\"word: {},      start:{}, end:{}\".format(tk[0],tk[1],tk[2]))"
   ]
  },
  {
   "cell_type": "markdown",
   "metadata": {},
   "source": [
    "## Pos Tagging"
   ]
  },
  {
   "cell_type": "code",
   "execution_count": 42,
   "metadata": {},
   "outputs": [],
   "source": [
    "import jieba.posseg as pseg"
   ]
  },
  {
   "cell_type": "code",
   "execution_count": 43,
   "metadata": {},
   "outputs": [],
   "source": [
    "sentence_2 = \"Python是一種廣泛使用的直譯式、進階程式、通用型程式語言\"\n",
    "words = pseg.cut(sentence_2,)"
   ]
  },
  {
   "cell_type": "code",
   "execution_count": 44,
   "metadata": {},
   "outputs": [
    {
     "name": "stdout",
     "output_type": "stream",
     "text": [
      "Python eng\n",
      "是 v\n",
      "一種 m\n",
      "廣泛 Vi\n",
      "使用 Vt\n",
      "的 T\n",
      "直譯 Vt\n",
      "式 M\n",
      "、 x\n",
      "進階 Vi\n",
      "程式 N\n",
      "、 x\n",
      "通用型 N\n",
      "程式語言 x\n"
     ]
    }
   ],
   "source": [
    "## 對應詞性可在此網頁查詢：https://www.cnblogs.com/chenbjin/p/4341930.html\n",
    "for word, flag in words:\n",
    "    print(word, flag)"
   ]
  },
  {
   "cell_type": "markdown",
   "metadata": {},
   "source": [
    "---"
   ]
  },
  {
   "cell_type": "markdown",
   "metadata": {},
   "source": [
    "## NLTK"
   ]
  },
  {
   "cell_type": "code",
   "execution_count": 1,
   "metadata": {},
   "outputs": [],
   "source": [
    "import pandas as pd\n",
    "import numpy as np\n",
    "import nltk\n",
    "nltk.download() ##下載附件與資料"
   ]
  },
  {
   "cell_type": "code",
   "execution_count": 2,
   "metadata": {},
   "outputs": [],
   "source": [
    "#TSV文件有別於CSV的文件是使用\\t作为分隔符，CSV則是使用,作为分隔符。\n",
    "dataset = pd.read_csv(r'Restaurant_Reviews.tsv', sep='\\t')\n",
    "all_review = dataset['Review'].values"
   ]
  },
  {
   "cell_type": "markdown",
   "metadata": {},
   "source": [
    "## nltk 詞性對照表"
   ]
  },
  {
   "cell_type": "markdown",
   "metadata": {},
   "source": [
    "!['pos_tagging'](nltk-speech-codes.png)"
   ]
  },
  {
   "cell_type": "markdown",
   "metadata": {},
   "source": [
    "---"
   ]
  },
  {
   "cell_type": "code",
   "execution_count": 3,
   "metadata": {},
   "outputs": [
    {
     "name": "stdout",
     "output_type": "stream",
     "text": [
      "Wow... Loved this place.\n"
     ]
    }
   ],
   "source": [
    "sentence = all_review[0]\n",
    "print(sentence)"
   ]
  },
  {
   "cell_type": "markdown",
   "metadata": {},
   "source": [
    "## tokenize : 將句子拆成words"
   ]
  },
  {
   "cell_type": "code",
   "execution_count": 4,
   "metadata": {},
   "outputs": [
    {
     "name": "stdout",
     "output_type": "stream",
     "text": [
      "Token: Wow|...|Loved|this|place|.\n"
     ]
    }
   ],
   "source": [
    "tokenize = nltk.word_tokenize(sentence)\n",
    "print('Token: {}'.format('|'.join(tokenize)))"
   ]
  },
  {
   "cell_type": "markdown",
   "metadata": {},
   "source": [
    "## Tagging"
   ]
  },
  {
   "cell_type": "code",
   "execution_count": 5,
   "metadata": {},
   "outputs": [
    {
     "name": "stdout",
     "output_type": "stream",
     "text": [
      "[('Wow', 'NNP'), ('...', ':'), ('Loved', 'VBD'), ('this', 'DT'), ('place', 'NN'), ('.', '.')]\n"
     ]
    }
   ],
   "source": [
    "tagging = nltk.pos_tag(tokenize,)\n",
    "print(tagging)"
   ]
  },
  {
   "cell_type": "code",
   "execution_count": null,
   "metadata": {},
   "outputs": [],
   "source": []
  }
 ],
 "metadata": {
  "kernelspec": {
   "display_name": "Python 3",
   "language": "python",
   "name": "python3"
  },
  "language_info": {
   "codemirror_mode": {
    "name": "ipython",
    "version": 3
   },
   "file_extension": ".py",
   "mimetype": "text/x-python",
   "name": "python",
   "nbconvert_exporter": "python",
   "pygments_lexer": "ipython3",
   "version": "3.7.4"
  }
 },
 "nbformat": 4,
 "nbformat_minor": 2
}
