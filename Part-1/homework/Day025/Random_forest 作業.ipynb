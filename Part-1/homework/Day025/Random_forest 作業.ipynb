{
 "cells": [
  {
   "cell_type": "markdown",
   "metadata": {},
   "source": [
    "## 作業目的: 了解何謂 Bias-Variance Tradeoff"
   ]
  },
  {
   "cell_type": "markdown",
   "metadata": {},
   "source": [
    "<img src=\"https://cumatrixfile.cupoy.com/0000017458339FF0000000016375706F795F72656C656173654349/marathon/bias_variance_tradeoff.png?t=1603855801339\" width=600>\n",
    "\n",
    "### Q1: 一般模型誤差可拆為三部分，這三部分的誤差分別是？\n",
    "\n",
    "Answer: \n",
    "\n",
    "* Bias error (模型假設錯誤所引起的誤差)\n",
    "* Variance error (對訓練數據的小波動產生敏感性而產生的誤差)\n",
    "* Irreducible error (問題本身固有的雜訊)"
   ]
  },
  {
   "cell_type": "markdown",
   "metadata": {},
   "source": [
    "### Q2: 請解釋何謂 Bias-Variance Tradeoff\n",
    "\n",
    "Answer:\n",
    "\n",
    "* 高 Bias 通常源於過分簡化的模型假設，而高 Variance 則源於過分複雜的假設。 Irreducible error 與基礎模型無關，與問題中的固有雜訊有關。這種雜訊可能表示來自數據品質（例如：數據收集或報告中的不準確）\n",
    "* 當模型遭受高 Bias 時，模型的平均 response 離真實值很遠，因此我們稱其為 Underfitting\n",
    "* 當模型存在高 Variance 時，通常是因為無法在訓練數據之外進行泛化，因此我們將其稱為 Overfitting\n",
    "* Bias-Variance Tradeoff 是建立一個在 Bias 和 Variance 之間取得平衡的模型，以使這兩個的組合誤差能達到最小"
   ]
  }
 ],
 "metadata": {
  "kernelspec": {
   "display_name": "Python 3",
   "language": "python",
   "name": "python3"
  },
  "language_info": {
   "codemirror_mode": {
    "name": "ipython",
    "version": 3
   },
   "file_extension": ".py",
   "mimetype": "text/x-python",
   "name": "python",
   "nbconvert_exporter": "python",
   "pygments_lexer": "ipython3",
   "version": "3.6.8"
  }
 },
 "nbformat": 4,
 "nbformat_minor": 2
}
