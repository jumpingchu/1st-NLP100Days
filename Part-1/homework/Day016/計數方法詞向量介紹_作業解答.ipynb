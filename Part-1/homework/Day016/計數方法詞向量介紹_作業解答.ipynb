{
 "cells": [
  {
   "cell_type": "markdown",
   "metadata": {},
   "source": [
    "## 作業目標: 透過思考與回答以更加了解計數方法的詞向量"
   ]
  },
  {
   "cell_type": "markdown",
   "metadata": {},
   "source": [
    "### 請問詞庫手法會有什麼樣的優缺點？\n",
    "\n",
    "詞庫手法為創建包含大量字詞的詞庫，將相同意思字詞(同義字)或相似意思字詞(相似字)分類在相同群組。\n",
    "\n",
    "優點:\n",
    "* 較為直觀當收集完詞庫後，將字詞轉換為向量較為容易\n",
    "\n",
    "缺點:\n",
    "* 根據時間的演進，有些字詞會產生不同的意思亦或產生出新的字詞，例如\"群眾募資\"，這類型的字詞在20年前並不存在，詞庫手法必需透過人工的方式\n",
    "  更新詞庫，以因應時代的變遷。\n",
    "  \n",
    "* 建立詞庫需要龐大的時間與人力成本。\n",
    "\n",
    "* 因詞庫內的字詞是人工定義，因此以詞庫手法轉向量的結果與建立詞庫的人有很大的關係。(如同以人來進行特徵擷取)"
   ]
  },
  {
   "cell_type": "markdown",
   "metadata": {},
   "source": [
    "### 請問共現矩陣有什麼樣的優缺點？ \n",
    "\n",
    "根據分佈假說，相似的字詞會有類似的上下文，因此我們可以透過計數周圍(window)的字詞來表達特定字詞的向量。\n",
    "\n",
    "優點:\n",
    "* 保留了詞與詞之間的關係，例如: ”蘋果“和”水果“共同出現的可能性比”蘋果“和”車子“還高\n",
    "\n",
    "* 建立好的共現矩陣即可多次使用\n",
    "\n",
    "缺點:\n",
    "* 儲存矩陣需要大量的內存(因字詞多通常矩陣會維度會很龐大)\n",
    "\n",
    "* 無法良好處理高頻詞，例如在文本中\"...the car...\"的字詞可能常常出現，導致共生矩陣中的頻率很高，但\"the\"與\"car\"的關聯性並不太高。"
   ]
  },
  {
   "cell_type": "markdown",
   "metadata": {},
   "source": [
    "### 請問為何需要對共現矩陣或PPMI進行SVD降維?\n",
    "\n",
    "在共現矩陣或PPMI中，多數的元素都是為0的值，意味著這兩種矩陣為稀疏矩陣(sparse matrix)，其中大部分的元素都不重要(因為值為0)。因此透過SVD可以將這樣的矩陣轉為稠密矩陣(大多數的元素都非為0)，藉此可以達到重要特徵提取與降維的功用。"
   ]
  },
  {
   "cell_type": "markdown",
   "metadata": {},
   "source": [
    "### 實作cosine similarity\n",
    "\n",
    "在比較兩個詞向量的相似度時可以使用cosine similarity:\n",
    "$$\n",
    "similarity(x,y) = \\frac{x \\cdot y}{||x||||y||} = \\frac{x_1y_1+...+x_ny_n}{\\sqrt{x_1^2+...+x_n^2}\\sqrt{y_1^2+...+y_n^2}}\n",
    "$$\n",
    "\n",
    "請實作cosine similarity並計算共現矩陣課程範例中you向量([0,1,0,0,0,0,0])與I([0,1,0,1,0,0,0])向量的相似度"
   ]
  },
  {
   "cell_type": "code",
   "execution_count": 3,
   "metadata": {},
   "outputs": [
    {
     "name": "stdout",
     "output_type": "stream",
     "text": [
      "Similarity: 0.7071067811865475\n"
     ]
    }
   ],
   "source": [
    "import numpy as np\n",
    "I = np.array([0,1,0,0,0,0,0])\n",
    "You = np.array([0,1,0,1,0,0,0])\n",
    "\n",
    "def cos_similarity(x, y, eps=1e-8):\n",
    "    nx = x / np.sqrt(np.sum(x**2) + eps)\n",
    "    ny = y / np.sqrt(np.sum(y**2) + eps)\n",
    "    return np.dot(nx, ny)\n",
    "\n",
    "print(f\"Similarity: {cos_similarity(I, You)}\")"
   ]
  },
  {
   "cell_type": "code",
   "execution_count": null,
   "metadata": {},
   "outputs": [],
   "source": []
  }
 ],
 "metadata": {
  "kernelspec": {
   "display_name": "cupoy_env",
   "language": "python",
   "name": "cupoy_env"
  },
  "language_info": {
   "codemirror_mode": {
    "name": "ipython",
    "version": 3
   },
   "file_extension": ".py",
   "mimetype": "text/x-python",
   "name": "python",
   "nbconvert_exporter": "python",
   "pygments_lexer": "ipython3",
   "version": "3.7.3"
  }
 },
 "nbformat": 4,
 "nbformat_minor": 2
}
