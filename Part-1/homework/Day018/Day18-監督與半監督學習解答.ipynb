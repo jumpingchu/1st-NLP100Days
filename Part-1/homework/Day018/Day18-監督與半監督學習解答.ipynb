{
 "cells": [
  {
   "cell_type": "markdown",
   "metadata": {},
   "source": [
    "## 監督式學習的優缺點\n",
    "#### reference : https://ithelp.ithome.com.tw/articles/10220443\n",
    "* 優點\n",
    "    * 能夠十分輕易的評斷模型的優劣，因為訓練過程中有明確的正確答案可以供模型驗證，也可以針對自己想要的結果進行針對性的調整。\n",
    "* 缺點\n",
    "    * 一定要有資料標籤才能夠實現，否則在沒有正確答案提供模型參考的情況下，無法執行監督式機器學習，並且資料標籤算是資料整理中最複雜且麻煩的項目，大多需要人工前置準備。"
   ]
  },
  {
   "cell_type": "markdown",
   "metadata": {},
   "source": [
    "## 非監督式學習的優缺點\n",
    "#### reference : https://ithelp.ithome.com.tw/articles/10221205\n",
    "* 優點\n",
    "    * 不用任何標籤就可以進行訓練，在準備資料上較容易。\n",
    "* 缺點\n",
    "    * 預測的結果並沒有辦法準確的評估，雖然可以透過分群(cluster)的一些評估水準來觀察是否算是好的分群，但是沒有標準答案，分得不好也不會察覺。並且大多使用「距離」作為分群的依據，在一些方法上容易因為標準化而導致部分的資訊失真。"
   ]
  }
 ],
 "metadata": {
  "kernelspec": {
   "display_name": "Python 3",
   "language": "python",
   "name": "python3"
  },
  "language_info": {
   "codemirror_mode": {
    "name": "ipython",
    "version": 3
   },
   "file_extension": ".py",
   "mimetype": "text/x-python",
   "name": "python",
   "nbconvert_exporter": "python",
   "pygments_lexer": "ipython3",
   "version": "3.7.4"
  }
 },
 "nbformat": 4,
 "nbformat_minor": 2
}
