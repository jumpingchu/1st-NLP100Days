{
 "cells": [
  {
   "cell_type": "markdown",
   "metadata": {},
   "source": [
    "### 作業目的:了解 Ensemble 中的 Blending 與 Stacking"
   ]
  },
  {
   "source": [
    "### Question: 請描述 Blending 與 Stacking 的差異\n",
    "\n",
    "### Answer:\n",
    "* 兩者都是很實用且表現不錯的集成學習方法\n",
    "* 只差在 allocate training data\n",
    "* 常在 Kaggle 上被使用來 boost 模型的最終表現\n",
    "\n",
    "### Stacking\n",
    "* 先使用 base models（e.g. 決策樹、KNN、SVM）搭配 K-fold，將訓練資料做出不同預測\n",
    "* 再把所有預測結果抓出來，訓練 meta model\n",
    "* 最後將 test data 丟給 meta model 去做最終預測\n",
    "\n",
    "### Blending\n",
    "* 類似 Stacking，一樣使用 base models 產生之 base predictions 當作 new features \n",
    "* 利用新特徵去訓練 meta model 得到最終預測\n",
    "* 只差在 meta model 在最終預測用的測試資料是用 holdout set (e.g 10% of train_data)，而不是用 K-fold 方法分出的資料集"
   ],
   "cell_type": "markdown",
   "metadata": {}
  },
  {
   "cell_type": "code",
   "execution_count": null,
   "metadata": {},
   "outputs": [],
   "source": []
  }
 ],
 "metadata": {
  "kernelspec": {
   "display_name": "pytorch_env",
   "language": "python",
   "name": "pytorch_env"
  },
  "language_info": {
   "codemirror_mode": {
    "name": "ipython",
    "version": 3
   },
   "file_extension": ".py",
   "mimetype": "text/x-python",
   "name": "python",
   "nbconvert_exporter": "python",
   "pygments_lexer": "ipython3",
   "version": "3.7.3"
  }
 },
 "nbformat": 4,
 "nbformat_minor": 2
}