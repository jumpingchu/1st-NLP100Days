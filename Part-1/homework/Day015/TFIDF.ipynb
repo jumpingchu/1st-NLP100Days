{
 "cells": [
  {
   "cell_type": "markdown",
   "metadata": {},
   "source": [
    "## Reference:\n",
    "https://radimrehurek.com/gensim/models/fasttext.html"
   ]
  },
  {
   "cell_type": "code",
   "execution_count": 1,
   "metadata": {},
   "outputs": [
    {
     "name": "stdout",
     "output_type": "stream",
     "text": [
      "[[0.         0.         0.         0.45985353 0.         0.\n",
      "  0.45985353 0.         0.         0.         0.         0.45985353\n",
      "  0.60465213 0.        ]]\n",
      "\n",
      "\n",
      "單詞對應 index: \n",
      "{'this': 12, 'is': 6, 'the': 11, 'first': 4, 'document': 3, 'we': 13, 'can': 1, 'put': 8, 'another': 0, 'here': 5, 'that': 10, 'second': 9, 'no': 7, 'comment': 2}\n"
     ]
    }
   ],
   "source": [
    "from sklearn.feature_extraction.text import TfidfVectorizer\n",
    "\n",
    "X_train = ['This is the first document, we can put another document here.', 'That is the second document.','No comment']\n",
    "X_test = ['This is the third document.']\n",
    "\n",
    "# max_df = 0.5 單詞如果在 50% 以上的文件出現就不考慮\n",
    "# min_df = 5 單詞如果出現次數少於 5 次就不考慮, min_df = 0.1 單詞如果在 10% 以下的文件中出現就不考慮\n",
    "vectorizer = TfidfVectorizer() \n",
    "\n",
    "# 用 X_train 來 build 字典，字數還有 document 數量\n",
    "vectorizer.fit(X_train)\n",
    "\n",
    "# 得到 tfidf vector\n",
    "tfidf_train = vectorizer.transform(X_train)\n",
    "tfidf_test = vectorizer.transform(X_test)\n",
    "\n",
    "print(tfidf_test.toarray())\n",
    "print('\\n')\n",
    "print('單詞對應 index: \\n{}'.format(vectorizer.vocabulary_))"
   ]
  },
  {
   "cell_type": "markdown",
   "metadata": {},
   "source": [
    "---"
   ]
  },
  {
   "cell_type": "markdown",
   "metadata": {},
   "source": [
    "## 我們也可以將 `TfidfVectorizer` 拆解成兩個步驟：\n",
    "1. `CountVectorizer`\n",
    "2. `TfidfTransformer`"
   ]
  },
  {
   "cell_type": "code",
   "execution_count": 7,
   "metadata": {},
   "outputs": [],
   "source": [
    "from sklearn.feature_extraction.text import CountVectorizer, TfidfTransformer"
   ]
  },
  {
   "cell_type": "code",
   "execution_count": 8,
   "metadata": {},
   "outputs": [],
   "source": [
    "# 文本\n",
    "corpus = [\n",
    "    'This is the first document.',\n",
    "    'This is the second second document.',\n",
    "    'And the third one.',\n",
    "    'Is this the first document?',\n",
    "]"
   ]
  },
  {
   "cell_type": "markdown",
   "metadata": {},
   "source": [
    "## 1. `CountVectorizer` \n",
    "通過 `fit_transform` 函數將文本中的詞語轉換為詞頻矩陣\n",
    "* `get_feature_names()` 可看到所有文本的關鍵字\n",
    "* `vocabulary_` 可看到所有文本的關鍵字和其位置\n",
    "* `toarray()` 可看到詞頻矩陣的結果"
   ]
  },
  {
   "cell_type": "code",
   "execution_count": 9,
   "metadata": {},
   "outputs": [
    {
     "name": "stdout",
     "output_type": "stream",
     "text": [
      "['and', 'document', 'first', 'is', 'one', 'second', 'the', 'third', 'this']\n",
      "{'this': 8, 'is': 3, 'the': 6, 'first': 2, 'document': 1, 'second': 5, 'and': 0, 'third': 7, 'one': 4}\n",
      "[[0 1 1 1 0 0 1 0 1]\n",
      " [0 1 0 1 0 2 1 0 1]\n",
      " [1 0 0 0 1 0 1 1 0]\n",
      " [0 1 1 1 0 0 1 0 1]]\n"
     ]
    }
   ],
   "source": [
    "# CountVectorizer 就是 tokenlizer\n",
    "vectorizer = CountVectorizer()\n",
    "count = vectorizer.fit_transform(corpus)\n",
    "\n",
    "print(vectorizer.get_feature_names())  \n",
    "print(vectorizer.vocabulary_)\n",
    "print(count.toarray())"
   ]
  },
  {
   "cell_type": "markdown",
   "metadata": {},
   "source": [
    "## 2. `TfidfTransformer` \n",
    "統計 `CountVectorizer` 中每個詞語的 TF-IDF 權值"
   ]
  },
  {
   "cell_type": "code",
   "execution_count": 10,
   "metadata": {},
   "outputs": [
    {
     "name": "stdout",
     "output_type": "stream",
     "text": [
      "[[0.         0.43877674 0.54197657 0.43877674 0.         0.\n",
      "  0.35872874 0.         0.43877674]\n",
      " [0.         0.27230147 0.         0.27230147 0.         0.85322574\n",
      "  0.22262429 0.         0.27230147]\n",
      " [0.55280532 0.         0.         0.         0.55280532 0.\n",
      "  0.28847675 0.55280532 0.        ]\n",
      " [0.         0.43877674 0.54197657 0.43877674 0.         0.\n",
      "  0.35872874 0.         0.43877674]]\n"
     ]
    }
   ],
   "source": [
    "transformer = TfidfTransformer()\n",
    "tfidf_matrix = transformer.fit_transform(count)\n",
    "\n",
    "print(tfidf_matrix.toarray())"
   ]
  }
 ],
 "metadata": {
  "kernelspec": {
   "display_name": "Python 3",
   "language": "python",
   "name": "python3"
  },
  "language_info": {
   "codemirror_mode": {
    "name": "ipython",
    "version": 3
   },
   "file_extension": ".py",
   "mimetype": "text/x-python",
   "name": "python",
   "nbconvert_exporter": "python",
   "pygments_lexer": "ipython3",
   "version": "3.6.8"
  }
 },
 "nbformat": 4,
 "nbformat_minor": 2
}
